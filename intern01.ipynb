{
  "nbformat": 4,
  "nbformat_minor": 0,
  "metadata": {
    "colab": {
      "name": "intern01.ipynb",
      "version": "0.3.2",
      "provenance": [],
      "collapsed_sections": [],
      "include_colab_link": true
    },
    "kernelspec": {
      "name": "python3",
      "display_name": "Python 3"
    },
    "accelerator": "GPU"
  },
  "cells": [
    {
      "cell_type": "markdown",
      "metadata": {
        "id": "view-in-github",
        "colab_type": "text"
      },
      "source": [
        "[View in Colaboratory](https://colab.research.google.com/github/glaz-egy/Make-to-zero-deep-learning/blob/master/intern01.ipynb)"
      ]
    },
    {
      "metadata": {
        "id": "PgLyJmG8hBJC",
        "colab_type": "code",
        "colab": {
          "base_uri": "https://localhost:8080/",
          "height": 34
        },
        "outputId": "c144197b-5c14-49c5-bf75-3afc1b262dfa"
      },
      "cell_type": "code",
      "source": [
        "print('hello')"
      ],
      "execution_count": 222,
      "outputs": [
        {
          "output_type": "stream",
          "text": [
            "hello\n"
          ],
          "name": "stdout"
        }
      ]
    },
    {
      "metadata": {
        "id": "T1DWpiD_h3mZ",
        "colab_type": "code",
        "colab": {
          "base_uri": "https://localhost:8080/",
          "height": 34
        },
        "outputId": "add346c8-f08b-40f9-c40a-a8611ff0c6fb"
      },
      "cell_type": "code",
      "source": [
        "def AND(x1, x2):\n",
        "  w1, w2, theta = 0.5, 0.5, 0.7\n",
        "  tmp = x1*w1 + x2*w2\n",
        "  if tmp <= theta:\n",
        "    return 0\n",
        "  elif tmp > theta:\n",
        "    return 1\n",
        "\n",
        "AND(0, 0)"
      ],
      "execution_count": 223,
      "outputs": [
        {
          "output_type": "execute_result",
          "data": {
            "text/plain": [
              "0"
            ]
          },
          "metadata": {
            "tags": []
          },
          "execution_count": 223
        }
      ]
    },
    {
      "metadata": {
        "id": "qCe5Epxuii9C",
        "colab_type": "code",
        "colab": {
          "base_uri": "https://localhost:8080/",
          "height": 34
        },
        "outputId": "3e6a9416-e7b9-4ee0-bab3-c189969bb95a"
      },
      "cell_type": "code",
      "source": [
        "AND(1, 0)"
      ],
      "execution_count": 224,
      "outputs": [
        {
          "output_type": "execute_result",
          "data": {
            "text/plain": [
              "0"
            ]
          },
          "metadata": {
            "tags": []
          },
          "execution_count": 224
        }
      ]
    },
    {
      "metadata": {
        "id": "orIPuPb5im5D",
        "colab_type": "code",
        "colab": {
          "base_uri": "https://localhost:8080/",
          "height": 34
        },
        "outputId": "acb4e77a-9e35-4dbc-9f72-e5458cb29817"
      },
      "cell_type": "code",
      "source": [
        "AND(1, 1)"
      ],
      "execution_count": 225,
      "outputs": [
        {
          "output_type": "execute_result",
          "data": {
            "text/plain": [
              "1"
            ]
          },
          "metadata": {
            "tags": []
          },
          "execution_count": 225
        }
      ]
    },
    {
      "metadata": {
        "id": "_373Mwt4irTU",
        "colab_type": "code",
        "colab": {
          "base_uri": "https://localhost:8080/",
          "height": 34
        },
        "outputId": "3962251d-2dda-47fa-cb8b-b600d33351e1"
      },
      "cell_type": "code",
      "source": [
        "import numpy as np\n",
        "x = np.array([0, 1])\n",
        "w = np.array([0.5, 0.5])\n",
        "b = -0.7\n",
        "w*x"
      ],
      "execution_count": 226,
      "outputs": [
        {
          "output_type": "execute_result",
          "data": {
            "text/plain": [
              "array([0. , 0.5])"
            ]
          },
          "metadata": {
            "tags": []
          },
          "execution_count": 226
        }
      ]
    },
    {
      "metadata": {
        "id": "alRuB9IdjF5a",
        "colab_type": "code",
        "colab": {
          "base_uri": "https://localhost:8080/",
          "height": 34
        },
        "outputId": "94f420ee-a0c7-45fe-d6bb-49fb3190f27e"
      },
      "cell_type": "code",
      "source": [
        "np.sum(w*x)"
      ],
      "execution_count": 227,
      "outputs": [
        {
          "output_type": "execute_result",
          "data": {
            "text/plain": [
              "0.5"
            ]
          },
          "metadata": {
            "tags": []
          },
          "execution_count": 227
        }
      ]
    },
    {
      "metadata": {
        "id": "TGFV8MX6jKXm",
        "colab_type": "code",
        "colab": {
          "base_uri": "https://localhost:8080/",
          "height": 34
        },
        "outputId": "d73b9fda-7e4b-44ff-ebf7-b403c8d45112"
      },
      "cell_type": "code",
      "source": [
        "np.sum(w*x) + b"
      ],
      "execution_count": 228,
      "outputs": [
        {
          "output_type": "execute_result",
          "data": {
            "text/plain": [
              "-0.19999999999999996"
            ]
          },
          "metadata": {
            "tags": []
          },
          "execution_count": 228
        }
      ]
    },
    {
      "metadata": {
        "id": "A-sMltRLjTwi",
        "colab_type": "code",
        "colab": {
          "base_uri": "https://localhost:8080/",
          "height": 34
        },
        "outputId": "ce9b39d8-96a1-43e9-ea6a-4e8cb0472414"
      },
      "cell_type": "code",
      "source": [
        "def AND(x1, x2):\n",
        "  x = np.array([x1, x2])\n",
        "  w = np.array([0.5, 0.5])\n",
        "  b = -0.7\n",
        "  tmp = np.sum(w*x) + b\n",
        "  if tmp <= 0:\n",
        "    return 0\n",
        "  else:\n",
        "    return 1\n",
        "  \n",
        "AND(1, 1)"
      ],
      "execution_count": 229,
      "outputs": [
        {
          "output_type": "execute_result",
          "data": {
            "text/plain": [
              "1"
            ]
          },
          "metadata": {
            "tags": []
          },
          "execution_count": 229
        }
      ]
    },
    {
      "metadata": {
        "id": "UYJJigRLkN8W",
        "colab_type": "code",
        "colab": {
          "base_uri": "https://localhost:8080/",
          "height": 34
        },
        "outputId": "7658e8af-75bb-43fc-eaef-b677dd5ac061"
      },
      "cell_type": "code",
      "source": [
        "def NAND(x1, x2):\n",
        "  x = np.array([x1, x2])\n",
        "  w = np.array([-0.5, -0.5])\n",
        "  b = 0.7\n",
        "  tmp = np.sum(w*x) + b\n",
        "  if tmp <= 0:\n",
        "    return 0\n",
        "  else:\n",
        "    return 1\n",
        "  \n",
        "NAND(0, 0)"
      ],
      "execution_count": 230,
      "outputs": [
        {
          "output_type": "execute_result",
          "data": {
            "text/plain": [
              "1"
            ]
          },
          "metadata": {
            "tags": []
          },
          "execution_count": 230
        }
      ]
    },
    {
      "metadata": {
        "id": "_eqCe6wXkSa7",
        "colab_type": "code",
        "colab": {
          "base_uri": "https://localhost:8080/",
          "height": 34
        },
        "outputId": "ee021b2b-2ba1-4137-b9f2-16585621b33c"
      },
      "cell_type": "code",
      "source": [
        "def OR(x1, x2):\n",
        "  x = np.array([x1, x2])\n",
        "  w = np.array([0.5, 0.5])\n",
        "  b = -0.2\n",
        "  tmp = np.sum(w*x) + b\n",
        "  if tmp <= 0:\n",
        "    return 0\n",
        "  else:\n",
        "    return 1\n",
        "  \n",
        "OR(0, 1)"
      ],
      "execution_count": 231,
      "outputs": [
        {
          "output_type": "execute_result",
          "data": {
            "text/plain": [
              "1"
            ]
          },
          "metadata": {
            "tags": []
          },
          "execution_count": 231
        }
      ]
    },
    {
      "metadata": {
        "id": "B0zMbyBDktO0",
        "colab_type": "code",
        "colab": {
          "base_uri": "https://localhost:8080/",
          "height": 85
        },
        "outputId": "1a3a822d-02ae-4775-fdcd-7a790f156acf"
      },
      "cell_type": "code",
      "source": [
        "def XOR(x1, x2):\n",
        "  s1 = NAND(x1, x2)\n",
        "  s2 = OR(x1, x2)\n",
        "  y = AND(s1, s2)\n",
        "  return y\n",
        "\n",
        "print(XOR(0, 0))\n",
        "print(XOR(0, 1))\n",
        "print(XOR(1, 0))\n",
        "print(XOR(1, 1))"
      ],
      "execution_count": 232,
      "outputs": [
        {
          "output_type": "stream",
          "text": [
            "0\n",
            "1\n",
            "1\n",
            "0\n"
          ],
          "name": "stdout"
        }
      ]
    },
    {
      "metadata": {
        "id": "4SgLOyWQnZ3U",
        "colab_type": "code",
        "colab": {
          "base_uri": "https://localhost:8080/",
          "height": 347
        },
        "outputId": "6facbe38-a705-4d1c-fde6-0932a23fc64b"
      },
      "cell_type": "code",
      "source": [
        "import numpy as np\n",
        "import matplotlib.pylab as plot\n",
        "\n",
        "def step_function(x):\n",
        "  return np.array(x > 0, dtype=np.int)\n",
        "\n",
        "x = np.arange(-5.0, 5.0, 0.1)\n",
        "y = step_function(x)\n",
        "plot.plot(x, y)\n",
        "plot.ylim(-0.1, 1.1)\n",
        "plot.show()"
      ],
      "execution_count": 233,
      "outputs": [
        {
          "output_type": "display_data",
          "data": {
            "image/png": "[encoded data removed]",
            "text/plain": [
              "<matplotlib.figure.Figure at 0x7fa292f96278>"
            ]
          },
          "metadata": {
            "tags": []
          }
        }
      ]
    },
    {
      "metadata": {
        "id": "7qTsYC5Qohas",
        "colab_type": "code",
        "colab": {
          "base_uri": "https://localhost:8080/",
          "height": 347
        },
        "outputId": "0c416bd8-2edd-41ba-d8d6-41617815fc8a"
      },
      "cell_type": "code",
      "source": [
        "import numpy as np\n",
        "import matplotlib.pylab as plot\n",
        "\n",
        "def sigmoid(x):\n",
        "  return 1 / (1 + np.exp(-x))\n",
        "\n",
        "x = np.arange(-5.0, 5.0, 0.1)\n",
        "y = sigmoid(x)\n",
        "plot.plot(x, y)\n",
        "plot.ylim(-0.1, 1.1)\n",
        "plot.show()"
      ],
      "execution_count": 234,
      "outputs": [
        {
          "output_type": "display_data",
          "data": {
            "image/png": "[encoded data removed]",
            "text/plain": [
              "<matplotlib.figure.Figure at 0x7fa29341b0f0>"
            ]
          },
          "metadata": {
            "tags": []
          }
        }
      ]
    },
    {
      "metadata": {
        "id": "Ckw-TNT7p4IK",
        "colab_type": "code",
        "colab": {
          "base_uri": "https://localhost:8080/",
          "height": 85
        },
        "outputId": "1c552601-eebe-42d2-d999-b0df58d8b10c"
      },
      "cell_type": "code",
      "source": [
        "import numpy as np\n",
        "A = np.array([1, 2, 3, 4])\n",
        "print(A)\n",
        "print(np.ndim(A))\n",
        "print(A.shape)\n",
        "print(A.shape[0])"
      ],
      "execution_count": 235,
      "outputs": [
        {
          "output_type": "stream",
          "text": [
            "[1 2 3 4]\n",
            "1\n",
            "(4,)\n",
            "4\n"
          ],
          "name": "stdout"
        }
      ]
    },
    {
      "metadata": {
        "id": "JvkU0OiBqOjS",
        "colab_type": "code",
        "colab": {
          "base_uri": "https://localhost:8080/",
          "height": 102
        },
        "outputId": "088a7bd1-af10-4f2b-c1c3-d159f84bc720"
      },
      "cell_type": "code",
      "source": [
        "B = np.array([[1, 2], [3, 4], [5, 6]])\n",
        "print(B)\n",
        "print(np.ndim(B))\n",
        "print(B.shape)"
      ],
      "execution_count": 236,
      "outputs": [
        {
          "output_type": "stream",
          "text": [
            "[[1 2]\n",
            " [3 4]\n",
            " [5 6]]\n",
            "2\n",
            "(3, 2)\n"
          ],
          "name": "stdout"
        }
      ]
    },
    {
      "metadata": {
        "id": "Z7Z1PSa8qg2o",
        "colab_type": "code",
        "colab": {
          "base_uri": "https://localhost:8080/",
          "height": 85
        },
        "outputId": "92aa1b6f-e080-4d35-dc5b-62a051cc1157"
      },
      "cell_type": "code",
      "source": [
        "A = np.array([[1, 2], [3, 4]])\n",
        "print(A.shape)\n",
        "B = np.array([[5, 6], [7, 8]])\n",
        "print(B.shape)\n",
        "print(np.dot(A, B))"
      ],
      "execution_count": 237,
      "outputs": [
        {
          "output_type": "stream",
          "text": [
            "(2, 2)\n",
            "(2, 2)\n",
            "[[19 22]\n",
            " [43 50]]\n"
          ],
          "name": "stdout"
        }
      ]
    },
    {
      "metadata": {
        "id": "FrKMm5F_rN1y",
        "colab_type": "code",
        "colab": {
          "base_uri": "https://localhost:8080/",
          "height": 85
        },
        "outputId": "8cccebb6-0eb5-4b8f-e0d4-605198aaa84b"
      },
      "cell_type": "code",
      "source": [
        "A = np.array([[1, 2, 3], [4, 5, 6]])\n",
        "print(A.shape)\n",
        "B = np.array([[1, 2], [3, 4],[5, 6]])\n",
        "print(B.shape)\n",
        "print(np.dot(A, B))"
      ],
      "execution_count": 238,
      "outputs": [
        {
          "output_type": "stream",
          "text": [
            "(2, 3)\n",
            "(3, 2)\n",
            "[[22 28]\n",
            " [49 64]]\n"
          ],
          "name": "stdout"
        }
      ]
    },
    {
      "metadata": {
        "id": "VbetxRtcsDWE",
        "colab_type": "code",
        "colab": {
          "base_uri": "https://localhost:8080/",
          "height": 102
        },
        "outputId": "e5021217-f1a2-4f42-8ae6-05d04bb47475"
      },
      "cell_type": "code",
      "source": [
        "X = np.array([1, 2])\n",
        "print(X.shape)\n",
        "W = np.array([[1, 3, 5], [2, 4, 6]])\n",
        "print(W)\n",
        "print(W.shape)\n",
        "Y = np.dot(X, W)\n",
        "print(Y)"
      ],
      "execution_count": 239,
      "outputs": [
        {
          "output_type": "stream",
          "text": [
            "(2,)\n",
            "[[1 3 5]\n",
            " [2 4 6]]\n",
            "(2, 3)\n",
            "[ 5 11 17]\n"
          ],
          "name": "stdout"
        }
      ]
    },
    {
      "metadata": {
        "id": "qTtcV2WwsgKJ",
        "colab_type": "code",
        "colab": {
          "base_uri": "https://localhost:8080/",
          "height": 102
        },
        "outputId": "aa80331f-5228-4481-f69c-a8fc044f3962"
      },
      "cell_type": "code",
      "source": [
        "X = np.array([1.0, 0.5])\n",
        "W1 = np.array([[0.1, 0.3, 0.5], [0.2, 0.4, 0.6]])\n",
        "B1 = np.array([0.1, 0.2, 0.3])\n",
        "\n",
        "print(W1.shape)\n",
        "print(X.shape)\n",
        "print(B1.shape)\n",
        "A1 = np.dot(X, W1) + B1\n",
        "print(A1)\n",
        "Z1 = sigmoid(A1)\n",
        "print(Z1)"
      ],
      "execution_count": 240,
      "outputs": [
        {
          "output_type": "stream",
          "text": [
            "(2, 3)\n",
            "(2,)\n",
            "(3,)\n",
            "[0.3 0.7 1.1]\n",
            "[0.57444252 0.66818777 0.75026011]\n"
          ],
          "name": "stdout"
        }
      ]
    },
    {
      "metadata": {
        "id": "azjmhIyktaw7",
        "colab_type": "code",
        "colab": {
          "base_uri": "https://localhost:8080/",
          "height": 102
        },
        "outputId": "b8bde48a-cc65-46c8-8e99-76f010c802e4"
      },
      "cell_type": "code",
      "source": [
        "W2 = np.array([[0.1, 0.4], [0.2, 0.5], [0.3, 0.6]])\n",
        "B2 = np.array([0.1, 0.2])\n",
        "\n",
        "print(Z1.shape)\n",
        "print(W2.shape)\n",
        "print(B2.shape)\n",
        "A2 = np.dot(Z1, W2) + B2\n",
        "Z2 = sigmoid(A2)\n",
        "print(A2)\n",
        "print(Z2)"
      ],
      "execution_count": 241,
      "outputs": [
        {
          "output_type": "stream",
          "text": [
            "(3,)\n",
            "(3, 2)\n",
            "(2,)\n",
            "[0.51615984 1.21402696]\n",
            "[0.62624937 0.7710107 ]\n"
          ],
          "name": "stdout"
        }
      ]
    },
    {
      "metadata": {
        "id": "HgbiNF4Ku14A",
        "colab_type": "code",
        "colab": {
          "base_uri": "https://localhost:8080/",
          "height": 51
        },
        "outputId": "5f7f01aa-6707-4b7b-ec33-1a0f8c7a6a16"
      },
      "cell_type": "code",
      "source": [
        "def identity_function(x):\n",
        "  return x\n",
        "\n",
        "W3 = np.array([[0.1, 0.3], [0.2, 0.4]])\n",
        "B3 = np.array([0.1, 0.2])\n",
        "\n",
        "A3 = np.dot(Z2, W3) + B3\n",
        "Y = identity_function(A3)\n",
        "\n",
        "print(A3)\n",
        "print(Y)"
      ],
      "execution_count": 242,
      "outputs": [
        {
          "output_type": "stream",
          "text": [
            "[0.31682708 0.69627909]\n",
            "[0.31682708 0.69627909]\n"
          ],
          "name": "stdout"
        }
      ]
    },
    {
      "metadata": {
        "id": "z7TsUDplwkHE",
        "colab_type": "code",
        "colab": {
          "base_uri": "https://localhost:8080/",
          "height": 34
        },
        "outputId": "6cd393da-000e-4490-d278-2d6f0f672452"
      },
      "cell_type": "code",
      "source": [
        "def init_network():\n",
        "  network = {}\n",
        "  network['W1'] = np.array([[0.1, 0.3, 0.5], [0.2, 0.4, 0.6]])\n",
        "  network['b1'] = np.array([0.1, 0.2, 0.3])\n",
        "  network['W2'] = np.array([[0.1, 0.4], [0.2, 0.5], [0.3, 0.6]])\n",
        "  network['b2'] = np.array([0.1, 0.2])\n",
        "  network['W3'] = np.array([[0.1, 0.3], [0.2, 0.4]])\n",
        "  network['b3'] = np.array([0.1, 0.2])\n",
        "  \n",
        "  return network\n",
        "\n",
        "def forward(network, x):\n",
        "  W1, W2, W3 = network['W1'], network['W2'], network['W3']\n",
        "  b1, b2, b3 = network['b1'], network['b2'], network['b3']\n",
        "  \n",
        "  a1 = np.dot(x, W1) + b1\n",
        "  z1 = sigmoid(a1)\n",
        "  a2 = np.dot(z1, W2) + b2\n",
        "  z2 = sigmoid(a2)\n",
        "  a3 = np.dot(z2, W3) + b3\n",
        "  y = identity_function(a3)\n",
        "  \n",
        "  return y\n",
        "\n",
        "network = init_network()\n",
        "x = np.array([1.0, 0.5])\n",
        "y = forward(network, x)\n",
        "print(y)"
      ],
      "execution_count": 243,
      "outputs": [
        {
          "output_type": "stream",
          "text": [
            "[0.31682708 0.69627909]\n"
          ],
          "name": "stdout"
        }
      ]
    },
    {
      "metadata": {
        "id": "V_F-cxbtyzX7",
        "colab_type": "code",
        "colab": {
          "base_uri": "https://localhost:8080/",
          "height": 68
        },
        "outputId": "283e9704-bb21-4a98-f50f-c178b9407eff"
      },
      "cell_type": "code",
      "source": [
        "a = np.array([0.3, 2.9, 4.0])\n",
        "exp_a = np.exp(a)\n",
        "\n",
        "print(exp_a)\n",
        "\n",
        "sum_exp_a = np.sum(exp_a)\n",
        "print(sum_exp_a)\n",
        "\n",
        "y = exp_a / sum_exp_a\n",
        "print(y)"
      ],
      "execution_count": 244,
      "outputs": [
        {
          "output_type": "stream",
          "text": [
            "[ 1.34985881 18.17414537 54.59815003]\n",
            "74.1221542101633\n",
            "[0.01821127 0.24519181 0.73659691]\n"
          ],
          "name": "stdout"
        }
      ]
    },
    {
      "metadata": {
        "id": "w9oOxg0N0HfC",
        "colab_type": "code",
        "colab": {
          "base_uri": "https://localhost:8080/",
          "height": 34
        },
        "outputId": "7b1c523d-937c-46d3-fbc0-946b75a4706a"
      },
      "cell_type": "code",
      "source": [
        "def softmax(a):\n",
        "  exp_a = np.exp(a)\n",
        "  sum_exp_a = np.sum(exp_a)\n",
        "  y = exp_a / sum_exp_a\n",
        "  \n",
        "  return y\n",
        "\n",
        "print(softmax(np.array([0.3, 2.9, 4.0])))"
      ],
      "execution_count": 245,
      "outputs": [
        {
          "output_type": "stream",
          "text": [
            "[0.01821127 0.24519181 0.73659691]\n"
          ],
          "name": "stdout"
        }
      ]
    },
    {
      "metadata": {
        "id": "_TbLXVsS0-Yn",
        "colab_type": "code",
        "colab": {
          "base_uri": "https://localhost:8080/",
          "height": 34
        },
        "outputId": "bccda987-2b9a-4cb8-eb77-82ea29902bdb"
      },
      "cell_type": "code",
      "source": [
        "a = np.array([1010, 1000, 900])\n",
        "#print(np.exp(a) /np.sum(np.exp(a)))\n",
        "\n",
        "c = np.max(a)\n",
        "a - c\n",
        "\n",
        "print(np.exp(a - c) / np.sum(np.exp(a - c)))"
      ],
      "execution_count": 246,
      "outputs": [
        {
          "output_type": "stream",
          "text": [
            "[9.99954602e-01 4.53978687e-05 1.68883521e-48]\n"
          ],
          "name": "stdout"
        }
      ]
    },
    {
      "metadata": {
        "id": "A1huuUGb13x8",
        "colab_type": "code",
        "colab": {
          "base_uri": "https://localhost:8080/",
          "height": 34
        },
        "outputId": "7f16f665-07ed-4d78-c2a0-00303fa49131"
      },
      "cell_type": "code",
      "source": [
        "def softmax(x):\n",
        "  if x.ndim == 2:\n",
        "    x = x.T\n",
        "    x = x - np.max(x, axis=0)\n",
        "    y = np.exp(x) / np.sum(np.exp(x), axis=0)\n",
        "    return y.T\n",
        "  \n",
        "  x = x - np.max(x)\n",
        "  return np.exp(x) / np.sum(np.exp(x))\n",
        "\n",
        "softmax(np.array([1010, 1000, 900]))"
      ],
      "execution_count": 247,
      "outputs": [
        {
          "output_type": "execute_result",
          "data": {
            "text/plain": [
              "array([9.99954602e-01, 4.53978687e-05, 1.68883521e-48])"
            ]
          },
          "metadata": {
            "tags": []
          },
          "execution_count": 247
        }
      ]
    },
    {
      "metadata": {
        "id": "oZXep5rq3kd5",
        "colab_type": "code",
        "colab": {
          "base_uri": "https://localhost:8080/",
          "height": 187
        },
        "outputId": "cacdd6d8-91a5-4a9b-9515-0dcbacb1f112"
      },
      "cell_type": "code",
      "source": [
        "try:\n",
        "    import urllib.request\n",
        "except ImportError:\n",
        "    raise ImportError('You should use Python 3.x')\n",
        "import os.path\n",
        "import gzip\n",
        "import pickle\n",
        "import os\n",
        "import numpy as np\n",
        "\n",
        "\n",
        "url_base = 'http://yann.lecun.com/exdb/mnist/'\n",
        "key_file = {\n",
        "    'train_img':'train-images-idx3-ubyte.gz',\n",
        "    'train_label':'train-labels-idx1-ubyte.gz',\n",
        "    'test_img':'t10k-images-idx3-ubyte.gz',\n",
        "    'test_label':'t10k-labels-idx1-ubyte.gz'\n",
        "}\n",
        "\n",
        "dataset_dir = os.path.dirname('obj1')\n",
        "save_file = dataset_dir + \"/mnist.pkl\"\n",
        "\n",
        "train_num = 60000\n",
        "test_num = 10000\n",
        "img_dim = (1, 28, 28)\n",
        "img_size = 784\n",
        "\n",
        "\n",
        "def _download(file_name):\n",
        "    file_path = dataset_dir + \"/\" + file_name\n",
        "\n",
        "    if os.path.exists(file_path):\n",
        "        return\n",
        "\n",
        "    print(\"Downloading \" + file_name + \" ... \")\n",
        "    urllib.request.urlretrieve(url_base + file_name, file_path)\n",
        "    print(\"Done\")\n",
        "\n",
        "def download_mnist():\n",
        "    for v in key_file.values():\n",
        "       _download(v)\n",
        "\n",
        "def _load_label(file_name):\n",
        "    file_path = dataset_dir + \"/\" + file_name\n",
        "\n",
        "    print(\"Converting \" + file_name + \" to NumPy Array ...\")\n",
        "    with gzip.open(file_path, 'rb') as f:\n",
        "            labels = np.frombuffer(f.read(), np.uint8, offset=8)\n",
        "    print(\"Done\")\n",
        "\n",
        "    return labels\n",
        "\n",
        "def _load_img(file_name):\n",
        "    file_path = dataset_dir + \"/\" + file_name\n",
        "\n",
        "    print(\"Converting \" + file_name + \" to NumPy Array ...\")\n",
        "    with gzip.open(file_path, 'rb') as f:\n",
        "            data = np.frombuffer(f.read(), np.uint8, offset=16)\n",
        "    data = data.reshape(-1, img_size)\n",
        "    print(\"Done\")\n",
        "\n",
        "    return data\n",
        "\n",
        "def _convert_numpy():\n",
        "    dataset = {}\n",
        "    dataset['train_img'] =  _load_img(key_file['train_img'])\n",
        "    dataset['train_label'] = _load_label(key_file['train_label'])\n",
        "    dataset['test_img'] = _load_img(key_file['test_img'])\n",
        "    dataset['test_label'] = _load_label(key_file['test_label'])\n",
        "\n",
        "    return dataset\n",
        "\n",
        "def init_mnist():\n",
        "    download_mnist()\n",
        "    dataset = _convert_numpy()\n",
        "    print(\"Creating pickle file ...\")\n",
        "    with open(save_file, 'wb') as f:\n",
        "        pickle.dump(dataset, f, -1)\n",
        "    print(\"Done!\")\n",
        "\n",
        "def _change_one_hot_label(X):\n",
        "    T = np.zeros((X.size, 10))\n",
        "    for idx, row in enumerate(T):\n",
        "        row[X[idx]] = 1\n",
        "\n",
        "    return T\n",
        "\n",
        "\n",
        "def load_mnist(normalize=True, flatten=True, one_hot_label=False):\n",
        "    \"\"\"MNISTデータセットの読み込み\n",
        "    Parameters\n",
        "    ----------\n",
        "    normalize : 画像のピクセル値を0.0~1.0に正規化する\n",
        "    one_hot_label :\n",
        "        one_hot_labelがTrueの場合、ラベルはone-hot配列として返す\n",
        "        one-hot配列とは、たとえば[0,0,1,0,0,0,0,0,0,0]のような配列\n",
        "    flatten : 画像を一次元配列に平にするかどうか\n",
        "    Returns\n",
        "    -------\n",
        "    (訓練画像, 訓練ラベル), (テスト画像, テストラベル)\n",
        "    \"\"\"\n",
        "    if not os.path.exists(save_file):\n",
        "        init_mnist()\n",
        "\n",
        "    with open(save_file, 'rb') as f:\n",
        "        dataset = pickle.load(f)\n",
        "\n",
        "    if normalize:\n",
        "        for key in ('train_img', 'test_img'):\n",
        "            dataset[key] = dataset[key].astype(np.float32)\n",
        "            dataset[key] /= 255.0\n",
        "\n",
        "    if one_hot_label:\n",
        "        dataset['train_label'] = _change_one_hot_label(dataset['train_label'])\n",
        "        dataset['test_label'] = _change_one_hot_label(dataset['test_label'])\n",
        "\n",
        "    if not flatten:\n",
        "         for key in ('train_img', 'test_img'):\n",
        "            dataset[key] = dataset[key].reshape(-1, 1, 28, 28)\n",
        "\n",
        "    return (dataset['train_img'], dataset['train_label']), (dataset['test_img'], dataset['test_label'])\n",
        "\n",
        "\n",
        "if __name__ == '__main__':\n",
        "    init_mnist()"
      ],
      "execution_count": 248,
      "outputs": [
        {
          "output_type": "stream",
          "text": [
            "Converting train-images-idx3-ubyte.gz to NumPy Array ...\n",
            "Done\n",
            "Converting train-labels-idx1-ubyte.gz to NumPy Array ...\n",
            "Done\n",
            "Converting t10k-images-idx3-ubyte.gz to NumPy Array ...\n",
            "Done\n",
            "Converting t10k-labels-idx1-ubyte.gz to NumPy Array ...\n",
            "Done\n",
            "Creating pickle file ...\n",
            "Done!\n"
          ],
          "name": "stdout"
        }
      ]
    },
    {
      "metadata": {
        "id": "n2fHSRa24DIZ",
        "colab_type": "code",
        "colab": {
          "base_uri": "https://localhost:8080/",
          "height": 187
        },
        "outputId": "505a4b50-3c0c-4bad-9fe0-db7f87017541"
      },
      "cell_type": "code",
      "source": [
        "init_mnist()\n"
      ],
      "execution_count": 249,
      "outputs": [
        {
          "output_type": "stream",
          "text": [
            "Converting train-images-idx3-ubyte.gz to NumPy Array ...\n",
            "Done\n",
            "Converting train-labels-idx1-ubyte.gz to NumPy Array ...\n",
            "Done\n",
            "Converting t10k-images-idx3-ubyte.gz to NumPy Array ...\n",
            "Done\n",
            "Converting t10k-labels-idx1-ubyte.gz to NumPy Array ...\n",
            "Done\n",
            "Creating pickle file ...\n",
            "Done!\n"
          ],
          "name": "stdout"
        }
      ]
    },
    {
      "metadata": {
        "id": "f_GP-rKO5LLR",
        "colab_type": "code",
        "colab": {
          "base_uri": "https://localhost:8080/",
          "height": 34
        },
        "outputId": "b59917ce-2077-4a9e-9d28-73f25e34c936"
      },
      "cell_type": "code",
      "source": [
        "!ls\n"
      ],
      "execution_count": 250,
      "outputs": [
        {
          "output_type": "stream",
          "text": [
            "datalab  sample_data  sample_weight.pkl\r\n"
          ],
          "name": "stdout"
        }
      ]
    },
    {
      "metadata": {
        "id": "pyUvm9Q_46qc",
        "colab_type": "code",
        "colab": {}
      },
      "cell_type": "code",
      "source": [
        "(x_train,t_train),(x_test,t_test) = load_mnist(flatten=True, normalize=False)"
      ],
      "execution_count": 0,
      "outputs": []
    },
    {
      "metadata": {
        "id": "DDEZ7TKw5du3",
        "colab_type": "code",
        "colab": {
          "base_uri": "https://localhost:8080/",
          "height": 34
        },
        "outputId": "37ef1cc6-1353-4478-ac0b-54348124833e"
      },
      "cell_type": "code",
      "source": [
        "x_train.shape"
      ],
      "execution_count": 252,
      "outputs": [
        {
          "output_type": "execute_result",
          "data": {
            "text/plain": [
              "(60000, 784)"
            ]
          },
          "metadata": {
            "tags": []
          },
          "execution_count": 252
        }
      ]
    },
    {
      "metadata": {
        "id": "ipgbKgCc53hE",
        "colab_type": "code",
        "colab": {
          "base_uri": "https://localhost:8080/",
          "height": 85
        },
        "outputId": "a5d9e587-b8ff-4406-f606-2f13ae9a6357"
      },
      "cell_type": "code",
      "source": [
        "import sys, os\n",
        "sys.path.append(os.pardir)\n",
        "\n",
        "(x_train,t_train),(x_test,t_test) = load_mnist(flatten=True, normalize=False)\n",
        "\n",
        "print(x_train.shape)\n",
        "print(t_train.shape)\n",
        "print(x_test.shape)\n",
        "print(t_test.shape)"
      ],
      "execution_count": 253,
      "outputs": [
        {
          "output_type": "stream",
          "text": [
            "(60000, 784)\n",
            "(60000,)\n",
            "(10000, 784)\n",
            "(10000,)\n"
          ],
          "name": "stdout"
        }
      ]
    },
    {
      "metadata": {
        "id": "rBynMI6t6t0J",
        "colab_type": "code",
        "colab": {
          "base_uri": "https://localhost:8080/",
          "height": 68
        },
        "outputId": "f775ccce-a2c2-4a94-a2b6-961d0d0ff3a9"
      },
      "cell_type": "code",
      "source": [
        "import sys, os\n",
        "sys.path.append(os.pardir)\n",
        "import numpy as np\n",
        "from PIL import Image\n",
        "\n",
        "def img_show(img):\n",
        "  pil_img = Image.fromarray(np.uint8(img))\n",
        "  pil_img.show()\n",
        "  \n",
        "(x_train,t_train),(x_test,t_test) = load_mnist(flatten=True, normalize=False)\n",
        "img = x_train[0]\n",
        "label = t_train[0]\n",
        "\n",
        "print(label)\n",
        "\n",
        "print(img.shape)\n",
        "img = img.reshape(28, 28)\n",
        "print(img.shape)\n",
        "\n",
        "img_show(img)"
      ],
      "execution_count": 254,
      "outputs": [
        {
          "output_type": "stream",
          "text": [
            "5\n",
            "(784,)\n",
            "(28, 28)\n"
          ],
          "name": "stdout"
        }
      ]
    },
    {
      "metadata": {
        "id": "oH7lFaJQO1TT",
        "colab_type": "code",
        "colab": {
          "resources": {
            "http://localhost:8080/nbextensions/google.colab/files.js": {
              "data": "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",
              "ok": true,
              "headers": [
                [
                  "content-type",
                  "application/javascript"
                ]
              ],
              "status": 200,
              "status_text": ""
            }
          },
          "base_uri": "https://localhost:8080/",
          "height": 77
        },
        "outputId": "77b7b108-8902-406d-ea33-69f6e8f92141"
      },
      "cell_type": "code",
      "source": [
        "from google.colab import files\n",
        "uploaded = files.upload()"
      ],
      "execution_count": 255,
      "outputs": [
        {
          "output_type": "display_data",
          "data": {
            "text/html": [
              "\n",
              "     <input type=\"file\" id=\"files-5643703f-7961-490f-9206-8803ff2713c3\" name=\"files[]\" multiple disabled />\n",
              "     <output id=\"result-5643703f-7961-490f-9206-8803ff2713c3\">\n",
              "      Upload widget is only available when the cell has been executed in the\n",
              "      current browser session. Please rerun this cell to enable.\n",
              "      </output>\n",
              "      <script src=\"/nbextensions/google.colab/files.js\"></script> "
            ],
            "text/plain": [
              "<IPython.core.display.HTML object>"
            ]
          },
          "metadata": {
            "tags": []
          }
        },
        {
          "output_type": "stream",
          "text": [
            "Saving sample_weight.pkl to sample_weight (1).pkl\n"
          ],
          "name": "stdout"
        }
      ]
    },
    {
      "metadata": {
        "id": "IKePY5BEMZm1",
        "colab_type": "code",
        "colab": {
          "base_uri": "https://localhost:8080/",
          "height": 34
        },
        "outputId": "bed0af8e-1496-4cc9-8cd6-d35c44bbd214"
      },
      "cell_type": "code",
      "source": [
        "def get_data():\n",
        "  (x_train,t_train),(x_test,t_test) = load_mnist(flatten=True, normalize=True, one_hot_label=False)\n",
        "  return x_test, t_test\n",
        "\n",
        "def init_network():\n",
        "  with open(\"sample_weight.pkl\", 'rb') as f:\n",
        "    network = pickle.load(f)\n",
        "  return network\n",
        "\n",
        "def predict(network, x):\n",
        "  W1, W2, W3 = network['W1'], network['W2'], network['W3']\n",
        "  b1, b2, b3 = network['b1'], network['b2'], network['b3']\n",
        "  \n",
        "  a1 = np.dot(x, W1) + b1\n",
        "  z1 = sigmoid(a1)\n",
        "  a2 = np.dot(z1, W2) + b2\n",
        "  z2 = sigmoid(a2)\n",
        "  a3 = np.dot(z2, W3) + b3\n",
        "  y = softmax(a3)\n",
        "  \n",
        "  return y\n",
        "\n",
        "x, t = get_data()\n",
        "network = init_network()\n",
        "\n",
        "accuracy_cnt = 0\n",
        "for i in range(len(x)):\n",
        "  y = predict(network, x[i])\n",
        "  p = np.argmax(y)\n",
        "  if p == t[i]:\n",
        "    accuracy_cnt += 1\n",
        "  \n",
        "print(\"Accuracy:\"+str(float(accuracy_cnt)/len(x)))"
      ],
      "execution_count": 256,
      "outputs": [
        {
          "output_type": "stream",
          "text": [
            "Accuracy:0.9352\n"
          ],
          "name": "stdout"
        }
      ]
    },
    {
      "metadata": {
        "id": "jfuxSIKVRQxs",
        "colab_type": "code",
        "colab": {
          "base_uri": "https://localhost:8080/",
          "height": 102
        },
        "outputId": "69661357-0ff6-492d-c61d-2b03c1018346"
      },
      "cell_type": "code",
      "source": [
        "x, _ = get_data()\n",
        "network = init_network()\n",
        "W1, W2, W3 = network['W1'], network['W2'], network['W3']\n",
        "\n",
        "print(x.shape)\n",
        "print(x[0].shape)\n",
        "print(W1.shape)\n",
        "print(W2.shape)\n",
        "print(W3.shape)"
      ],
      "execution_count": 257,
      "outputs": [
        {
          "output_type": "stream",
          "text": [
            "(10000, 784)\n",
            "(784,)\n",
            "(784, 50)\n",
            "(50, 100)\n",
            "(100, 10)\n"
          ],
          "name": "stdout"
        }
      ]
    },
    {
      "metadata": {
        "id": "4Fp9vNSoRc5C",
        "colab_type": "code",
        "colab": {
          "base_uri": "https://localhost:8080/",
          "height": 34
        },
        "outputId": "e36a99a9-6fe0-41d0-fe6e-0fe6aa4d3988"
      },
      "cell_type": "code",
      "source": [
        "x, t = get_data()\n",
        "network = init_network()\n",
        "batch_size = 100\n",
        "accuracy_cnt = 0\n",
        "for i in range(0, len(x), batch_size):\n",
        "  x_batch = x[i:i+batch_size]\n",
        "  y_batch = predict(network, x_batch)\n",
        "  p = np.argmax(y_batch, axis=1)\n",
        "  accuracy_cnt += np.sum(p == t[i:i+batch_size])\n",
        "  \n",
        "print(\"Accuracy:\"+str(float(accuracy_cnt)/len(x)))"
      ],
      "execution_count": 258,
      "outputs": [
        {
          "output_type": "stream",
          "text": [
            "Accuracy:0.9352\n"
          ],
          "name": "stdout"
        }
      ]
    },
    {
      "metadata": {
        "id": "PN1DI9DF3aTP",
        "colab_type": "code",
        "colab": {
          "base_uri": "https://localhost:8080/",
          "height": 34
        },
        "outputId": "4dee904f-e80e-4790-c28f-3750c9e01c05"
      },
      "cell_type": "code",
      "source": [
        "y = np.array([0.1, 0.05, 0.6, 0.0, 0.05, 0.1, 0.0, 0.1, 0.0, 0.0])\n",
        "t = np.array([0, 0, 1, 0, 0, 0, 0, 0, 0, 0])\n",
        "def mean_squared_error(y, t):\n",
        "  return 0.5 * np.sum((y - t)**2)\n",
        "\n",
        "print(mean_squared_error(y, t))"
      ],
      "execution_count": 259,
      "outputs": [
        {
          "output_type": "stream",
          "text": [
            "0.09750000000000003\n"
          ],
          "name": "stdout"
        }
      ]
    },
    {
      "metadata": {
        "id": "XBorsB3d7N91",
        "colab_type": "code",
        "colab": {
          "base_uri": "https://localhost:8080/",
          "height": 34
        },
        "outputId": "65d57774-b345-4493-ac9b-c9dd1bf648bc"
      },
      "cell_type": "code",
      "source": [
        "y = np.array([0.1, 0.05, 0.1, 0.0, 0.05, 0.1, 0.0, 0.6, 0.0, 0.0])\n",
        "mean_squared_error(y, t)"
      ],
      "execution_count": 260,
      "outputs": [
        {
          "output_type": "execute_result",
          "data": {
            "text/plain": [
              "0.5975"
            ]
          },
          "metadata": {
            "tags": []
          },
          "execution_count": 260
        }
      ]
    },
    {
      "metadata": {
        "id": "p9QcOEQs7nxC",
        "colab_type": "code",
        "colab": {
          "base_uri": "https://localhost:8080/",
          "height": 34
        },
        "outputId": "b498c5f6-5c31-40c4-e887-9be83b1f0d2f"
      },
      "cell_type": "code",
      "source": [
        "def cross_entropy_error(y, t):\n",
        "  delta = 1e-7\n",
        "  return -np.sum(t * np.log(y + delta))\n",
        "cross_entropy_error(y, t)"
      ],
      "execution_count": 261,
      "outputs": [
        {
          "output_type": "execute_result",
          "data": {
            "text/plain": [
              "2.302584092994546"
            ]
          },
          "metadata": {
            "tags": []
          },
          "execution_count": 261
        }
      ]
    },
    {
      "metadata": {
        "id": "N4f9nqh68PGO",
        "colab_type": "code",
        "colab": {
          "base_uri": "https://localhost:8080/",
          "height": 34
        },
        "outputId": "1d3044ef-22fa-441d-f411-0fd0a60fe400"
      },
      "cell_type": "code",
      "source": [
        "y = np.array([0.1, 0.05, 0.6, 0.0, 0.05, 0.1, 0.0, 0.1, 0.0, 0.0])\n",
        "cross_entropy_error(y, t)"
      ],
      "execution_count": 262,
      "outputs": [
        {
          "output_type": "execute_result",
          "data": {
            "text/plain": [
              "0.510825457099338"
            ]
          },
          "metadata": {
            "tags": []
          },
          "execution_count": 262
        }
      ]
    },
    {
      "metadata": {
        "id": "pYpjjB_88Uk9",
        "colab_type": "code",
        "colab": {
          "base_uri": "https://localhost:8080/",
          "height": 51
        },
        "outputId": "16409eae-32e0-46f9-e266-6b046be686b1"
      },
      "cell_type": "code",
      "source": [
        "(x_train,t_train),(x_test,t_test) = load_mnist(normalize=True, one_hot_label=False)\n",
        "\n",
        "print(x_train.shape)\n",
        "print(t_train.shape)\n",
        "\n"
      ],
      "execution_count": 263,
      "outputs": [
        {
          "output_type": "stream",
          "text": [
            "(60000, 784)\n",
            "(60000,)\n"
          ],
          "name": "stdout"
        }
      ]
    },
    {
      "metadata": {
        "id": "Tz_k90kX82Pr",
        "colab_type": "code",
        "colab": {
          "base_uri": "https://localhost:8080/",
          "height": 51
        },
        "outputId": "dca9b888-a141-41fd-d06a-688cccee9202"
      },
      "cell_type": "code",
      "source": [
        "train_size = x_train.shape[0]\n",
        "batch_size = 10\n",
        "batch_mask = np.random.choice(train_size, batch_size)\n",
        "x_batch = x_train[batch_mask]\n",
        "t_batch = t_train[batch_mask]\n",
        "\n",
        "print(x_batch.shape)\n",
        "print(t_batch.shape)"
      ],
      "execution_count": 264,
      "outputs": [
        {
          "output_type": "stream",
          "text": [
            "(10, 784)\n",
            "(10,)\n"
          ],
          "name": "stdout"
        }
      ]
    },
    {
      "metadata": {
        "id": "lCsrlfnM9lsG",
        "colab_type": "code",
        "colab": {
          "base_uri": "https://localhost:8080/",
          "height": 51
        },
        "outputId": "12acb6a2-acfc-4c45-b469-c2e7ec373e80"
      },
      "cell_type": "code",
      "source": [
        "np.random.choice(60000, 10)"
      ],
      "execution_count": 265,
      "outputs": [
        {
          "output_type": "execute_result",
          "data": {
            "text/plain": [
              "array([21468, 51032, 46292, 16633,  7196, 28723, 38549, 10881, 10883,\n",
              "        5618])"
            ]
          },
          "metadata": {
            "tags": []
          },
          "execution_count": 265
        }
      ]
    },
    {
      "metadata": {
        "id": "j_qFyfuX9xlE",
        "colab_type": "code",
        "colab": {
          "base_uri": "https://localhost:8080/",
          "height": 34
        },
        "outputId": "c7ecb5a8-78ce-43d2-b347-a6deae1ccbe5"
      },
      "cell_type": "code",
      "source": [
        "def cross_entropy_error(y, t):\n",
        "    if y.ndim == 1:\n",
        "      t = t.reshape(1, t.size)\n",
        "      y = y.reshape(1, y.size)\n",
        "        \n",
        "    if t.size == y.size:\n",
        "        t = t.argmax(axis=1)\n",
        "             \n",
        "    batch_size = y.shape[0]\n",
        "    return -np.sum(np.log(y[np.arange(batch_size), t] + 1e-7)) / batch_size\n",
        "\n",
        "y = predict(network, x_batch)\n",
        "cross_entropy_error(y, t_batch)"
      ],
      "execution_count": 266,
      "outputs": [
        {
          "output_type": "execute_result",
          "data": {
            "text/plain": [
              "0.10584694147109985"
            ]
          },
          "metadata": {
            "tags": []
          },
          "execution_count": 266
        }
      ]
    },
    {
      "metadata": {
        "id": "zfGNVuSJ_TFb",
        "colab_type": "code",
        "colab": {
          "base_uri": "https://localhost:8080/",
          "height": 378
        },
        "outputId": "8b959495-964e-4951-a51e-0df08f802f88"
      },
      "cell_type": "code",
      "source": [
        "import matplotlib.pylab as plot\n",
        "\n",
        "def numerical_diff(f, x):\n",
        "  h = 1e-4\n",
        "  return (f(x+h) - f(x-h)) / (2*h)\n",
        "\n",
        "def function_1(x):\n",
        "  return 0.01*x**2 + 0.1*x\n",
        "\n",
        "def diff_func(x, f, pos):\n",
        "  y = function_1(pos)\n",
        "  a = numerical_diff(f, pos)\n",
        "  b = y - (a * pos)\n",
        "  return a*x + b\n",
        "\n",
        "x = np.arange(0.0, 20.0, 0.1)\n",
        "y = function_1(x)\n",
        "y2 = diff_func(x, function_1, 10)\n",
        "plot.xlabel(\"x\")\n",
        "plot.ylabel(\"y\")\n",
        "plot.plot(x, y)\n",
        "plot.plot(x, y2)\n",
        "plot.show()\n",
        "print(numerical_diff(function_1, 5))"
      ],
      "execution_count": 267,
      "outputs": [
        {
          "output_type": "display_data",
          "data": {
            "image/png": "[encoded data removed]",
            "text/plain": [
              "<matplotlib.figure.Figure at 0x7fa29343c470>"
            ]
          },
          "metadata": {
            "tags": []
          }
        },
        {
          "output_type": "stream",
          "text": [
            "0.1999999999990898\n"
          ],
          "name": "stdout"
        }
      ]
    },
    {
      "metadata": {
        "id": "C_MO0mVaGX1v",
        "colab_type": "code",
        "colab": {
          "base_uri": "https://localhost:8080/",
          "height": 427
        },
        "outputId": "2471e54e-29e7-4130-a433-1ddac7e70fed"
      },
      "cell_type": "code",
      "source": [
        "from mpl_toolkits.mplot3d import Axes3D\n",
        "\n",
        "\n",
        "def function_2(X, Y):\n",
        "  return X**2 + Y**2\n",
        "\n",
        "x1 = np.arange(-20.0, 20.0, 0.1)\n",
        "x2 = np.arange(-20.0, 20.0, 0.1)\n",
        "X, Y = np.meshgrid(x1, x2)\n",
        "Z = function_2(X, Y)\n",
        "fig = plot.figure()\n",
        "ax = Axes3D(fig)\n",
        "ax.plot_wireframe(X, Y, Z)\n",
        "plot.show()"
      ],
      "execution_count": 268,
      "outputs": [
        {
          "output_type": "display_data",
          "data": {
            "image/png": "[encoded data removed]",
            "text/plain": [
              "<matplotlib.figure.Figure at 0x7fa293489b70>"
            ]
          },
          "metadata": {
            "tags": []
          }
        }
      ]
    },
    {
      "metadata": {
        "id": "FgoU9fwcGt6e",
        "colab_type": "code",
        "colab": {
          "base_uri": "https://localhost:8080/",
          "height": 34
        },
        "outputId": "5a2f2849-c484-45dc-89be-abdffdf4c87f"
      },
      "cell_type": "code",
      "source": [
        "def function_2(x):\n",
        "  return x[0]**2 + x[1]**2\n",
        "\n",
        "def numerical_gradient(f, x):\n",
        "  h = 1e-4\n",
        "  grad = np.zeros_like(x)\n",
        "  \n",
        "  for idx in range(x.size):\n",
        "    tmp_val = x[idx]\n",
        "    x[idx] = tmp_val + h\n",
        "    fxh1 = f(x)\n",
        "    x[idx] = tmp_val - h\n",
        "    fxh2 = f(x)\n",
        "    grad[idx] = (fxh1 - fxh2) / (2*h)\n",
        "    x[idx] = tmp_val\n",
        "  return grad\n",
        "\n",
        "numerical_gradient(function_2, np.array([3.0, 4.0]))"
      ],
      "execution_count": 269,
      "outputs": [
        {
          "output_type": "execute_result",
          "data": {
            "text/plain": [
              "array([6., 8.])"
            ]
          },
          "metadata": {
            "tags": []
          },
          "execution_count": 269
        }
      ]
    },
    {
      "metadata": {
        "id": "TLDpAc0pNAq5",
        "colab_type": "code",
        "colab": {
          "base_uri": "https://localhost:8080/",
          "height": 382
        },
        "outputId": "e5df06bf-f508-4434-ae06-8ac8eec3d8ca"
      },
      "cell_type": "code",
      "source": [
        "import numpy as np\n",
        "import matplotlib.pylab as plt\n",
        "from mpl_toolkits.mplot3d import Axes3D\n",
        "\n",
        "\n",
        "def _numerical_gradient_no_batch(f, x):\n",
        "    h = 1e-4  # 0.0001\n",
        "    grad = np.zeros_like(x)\n",
        "    \n",
        "    for idx in range(x.size):\n",
        "        tmp_val = x[idx]\n",
        "        x[idx] = float(tmp_val) + h\n",
        "        fxh1 = f(x)  # f(x+h)\n",
        "        \n",
        "        x[idx] = tmp_val - h \n",
        "        fxh2 = f(x)  # f(x-h)\n",
        "        grad[idx] = (fxh1 - fxh2) / (2*h)\n",
        "        \n",
        "        x[idx] = tmp_val  # 値を元に戻す\n",
        "        \n",
        "    return grad\n",
        "\n",
        "\n",
        "def numerical_gradient(f, X):\n",
        "    if X.ndim == 1:\n",
        "        return _numerical_gradient_no_batch(f, X)\n",
        "    else:\n",
        "        grad = np.zeros_like(X)\n",
        "        \n",
        "        for idx, x in enumerate(X):\n",
        "            grad[idx] = _numerical_gradient_no_batch(f, x)\n",
        "        \n",
        "        return grad\n",
        "\n",
        "\n",
        "def function_2(x):\n",
        "    if x.ndim == 1:\n",
        "        return np.sum(x**2)\n",
        "    else:\n",
        "        return np.sum(x**2, axis=1)\n",
        "\n",
        "\n",
        "def tangent_line(f, x):\n",
        "    d = numerical_gradient(f, x)\n",
        "    print(d)\n",
        "    y = f(x) - d*x\n",
        "    return lambda t: d*t + y\n",
        "\n",
        "\n",
        "if __name__ == '__main__':\n",
        "    x0 = np.arange(-2, 2.5, 0.25)\n",
        "    x1 = np.arange(-2, 2.5, 0.25)\n",
        "    X, Y = np.meshgrid(x0, x1)\n",
        "    \n",
        "    X = X.flatten()\n",
        "    Y = Y.flatten()\n",
        "    \n",
        "    grad = numerical_gradient(function_2, np.array([X, Y]))\n",
        "    \n",
        "    plt.figure()\n",
        "    plt.quiver(X, Y, -grad[0], -grad[1],  angles=\"xy\",color=\"#666666\")\n",
        "    plt.xlim([-2, 2])\n",
        "    plt.ylim([-2, 2])\n",
        "    plt.xlabel('x0')\n",
        "    plt.ylabel('x1')\n",
        "    plt.grid()\n",
        "    plt.legend()\n",
        "    plt.draw()\n",
        "    plt.show()"
      ],
      "execution_count": 270,
      "outputs": [
        {
          "output_type": "stream",
          "text": [
            "No handles with labels found to put in legend.\n"
          ],
          "name": "stderr"
        },
        {
          "output_type": "display_data",
          "data": {
            "image/png": "[encoded data removed]",
            "text/plain": [
              "<matplotlib.figure.Figure at 0x7fa29139fa90>"
            ]
          },
          "metadata": {
            "tags": []
          }
        }
      ]
    },
    {
      "metadata": {
        "id": "Hk0GgAV1NceG",
        "colab_type": "code",
        "colab": {
          "base_uri": "https://localhost:8080/",
          "height": 34
        },
        "outputId": "29b79d43-ba1b-4874-dbfe-ef22ecd98574"
      },
      "cell_type": "code",
      "source": [
        "def gradient_descent(f, init_x, lr=0.01, step_num=100):\n",
        "  x = init_x\n",
        "  \n",
        "  for i in range(step_num):\n",
        "    grad = numerical_gradient(f, x)\n",
        "    x -= lr * grad\n",
        "    \n",
        "  return x\n",
        "\n",
        "def function_2(x):\n",
        "  return x[0]**2 + x[1]**2\n",
        "\n",
        "init_x = np.array([-3.0, 4.0])\n",
        "gradient_descent(function_2, init_x=init_x, lr=0.1, step_num=100)"
      ],
      "execution_count": 271,
      "outputs": [
        {
          "output_type": "execute_result",
          "data": {
            "text/plain": [
              "array([-6.11110793e-10,  8.14814391e-10])"
            ]
          },
          "metadata": {
            "tags": []
          },
          "execution_count": 271
        }
      ]
    },
    {
      "metadata": {
        "id": "nCp5SnfvOtHO",
        "colab_type": "code",
        "colab": {
          "base_uri": "https://localhost:8080/",
          "height": 34
        },
        "outputId": "ca8bbe80-abd4-4297-d888-5f94d2064420"
      },
      "cell_type": "code",
      "source": [
        "gradient_descent(function_2, init_x=init_x, lr=10.0, step_num=100)"
      ],
      "execution_count": 272,
      "outputs": [
        {
          "output_type": "execute_result",
          "data": {
            "text/plain": [
              "array([ 2.34235971e+12, -3.96091057e+12])"
            ]
          },
          "metadata": {
            "tags": []
          },
          "execution_count": 272
        }
      ]
    },
    {
      "metadata": {
        "id": "-LwYQ1KQPQzb",
        "colab_type": "code",
        "colab": {
          "base_uri": "https://localhost:8080/",
          "height": 34
        },
        "outputId": "2d1b4e54-3e3e-4ce1-9151-58372342337d"
      },
      "cell_type": "code",
      "source": [
        "gradient_descent(function_2, init_x=init_x, lr=1e-10)"
      ],
      "execution_count": 273,
      "outputs": [
        {
          "output_type": "execute_result",
          "data": {
            "text/plain": [
              "array([ 2.34235971e+12, -3.96091057e+12])"
            ]
          },
          "metadata": {
            "tags": []
          },
          "execution_count": 273
        }
      ]
    },
    {
      "metadata": {
        "id": "DYIdfyt4Pam7",
        "colab_type": "code",
        "colab": {
          "base_uri": "https://localhost:8080/",
          "height": 361
        },
        "outputId": "459a5f65-f584-4eb1-a02e-bd62cabb8c06"
      },
      "cell_type": "code",
      "source": [
        "import numpy as np\n",
        "import matplotlib.pylab as plot\n",
        "\n",
        "init_x = np.array([-3.0, 4.0])\n",
        "\n",
        "def gradient_descent(f, init_x, lr=0.01, step_num=100):\n",
        "  x = init_x\n",
        "  x_history = []\n",
        "  \n",
        "  for i in range(step_num):\n",
        "    x_history.append(x.copy())\n",
        "    grad = numerical_gradient(f, x)\n",
        "    x -= lr * grad\n",
        "    \n",
        "  return x, np.array(x_history)\n",
        "\n",
        "lr = 0.1\n",
        "step_num = 20\n",
        "x, x_history = gradient_descent(function_2, init_x, lr=lr, step_num=step_num)\n",
        "\n",
        "plot.plot( [-5, 5], [0,0], '--b')\n",
        "plot.plot( [0,0], [-5, 5], '--b')\n",
        "plot.plot(x_history[:,0], x_history[:,1], 'o')\n",
        "\n",
        "plot.xlim(-3.5, 3.5)\n",
        "plot.ylim(-4.5, 4.5)\n",
        "plot.xlabel(\"X0\")\n",
        "plot.ylabel(\"X1\")\n",
        "plot.show()"
      ],
      "execution_count": 274,
      "outputs": [
        {
          "output_type": "display_data",
          "data": {
            "image/png": "[encoded data removed]",
            "text/plain": [
              "<matplotlib.figure.Figure at 0x7fa2915808d0>"
            ]
          },
          "metadata": {
            "tags": []
          }
        }
      ]
    },
    {
      "metadata": {
        "id": "oCJ2Qp8zPo6J",
        "colab_type": "code",
        "colab": {
          "base_uri": "https://localhost:8080/",
          "height": 51
        },
        "outputId": "2eb03a62-1a95-4e7f-e862-ebbe17c444b8"
      },
      "cell_type": "code",
      "source": [
        "class simpleNet:\n",
        "  def __init__(self):\n",
        "    self.W = np.random.randn(2, 3)\n",
        "  \n",
        "  def predict(self, x):\n",
        "    return np.dot(x, self.W)\n",
        "  \n",
        "  def loss(self, x, t):\n",
        "    z = self.predict(x)\n",
        "    y = softmax(z)\n",
        "    loss = cross_entropy_error(y, t)\n",
        "    \n",
        "    return loss\n",
        "  \n",
        "net = simpleNet()\n",
        "print(net.W)"
      ],
      "execution_count": 275,
      "outputs": [
        {
          "output_type": "stream",
          "text": [
            "[[-0.42275211 -1.71343467 -0.46569157]\n",
            " [-1.8888884  -0.24003711 -0.30669166]]\n"
          ],
          "name": "stdout"
        }
      ]
    },
    {
      "metadata": {
        "id": "B34U7ASJQ6_C",
        "colab_type": "code",
        "colab": {
          "base_uri": "https://localhost:8080/",
          "height": 51
        },
        "outputId": "65227631-6483-4ccc-80c7-05ef03d7ca4b"
      },
      "cell_type": "code",
      "source": [
        "x = np.array([0.6, 0.9])\n",
        "p = net.predict(x)\n",
        "print(np.argmax(p))\n",
        "print(p)"
      ],
      "execution_count": 276,
      "outputs": [
        {
          "output_type": "stream",
          "text": [
            "2\n",
            "[-1.95365083 -1.2440942  -0.55543743]\n"
          ],
          "name": "stdout"
        }
      ]
    },
    {
      "metadata": {
        "id": "L4nkirS5RDow",
        "colab_type": "code",
        "colab": {
          "base_uri": "https://localhost:8080/",
          "height": 34
        },
        "outputId": "ad1ff7bd-ec47-4bf6-f1a5-8880f5bf74ed"
      },
      "cell_type": "code",
      "source": [
        "t = np.array([0, 0, 1])\n",
        "net.loss(x, t)"
      ],
      "execution_count": 277,
      "outputs": [
        {
          "output_type": "execute_result",
          "data": {
            "text/plain": [
              "0.5592087785239634"
            ]
          },
          "metadata": {
            "tags": []
          },
          "execution_count": 277
        }
      ]
    },
    {
      "metadata": {
        "id": "2l1KGy7vRRS_",
        "colab_type": "code",
        "colab": {
          "base_uri": "https://localhost:8080/",
          "height": 51
        },
        "outputId": "6f283778-6365-4ce6-adae-28789070824a"
      },
      "cell_type": "code",
      "source": [
        "def f(W):\n",
        "  return net.loss(x, t)\n",
        "\n",
        "dW = numerical_gradient(f, net.W)\n",
        "print(dW)"
      ],
      "execution_count": 278,
      "outputs": [
        {
          "output_type": "stream",
          "text": [
            "[[ 0.08473317  0.17227013 -0.2570033 ]\n",
            " [ 0.12709975  0.25840519 -0.38550495]]\n"
          ],
          "name": "stdout"
        }
      ]
    },
    {
      "metadata": {
        "id": "9i1HIlbrR0Kc",
        "colab_type": "code",
        "colab": {
          "base_uri": "https://localhost:8080/",
          "height": 51
        },
        "outputId": "54ae7bb6-a38c-494f-920f-bf85efbbbc40"
      },
      "cell_type": "code",
      "source": [
        "np.random.randn(2, 3)"
      ],
      "execution_count": 279,
      "outputs": [
        {
          "output_type": "execute_result",
          "data": {
            "text/plain": [
              "array([[ 0.44293243,  1.53438535, -0.76342465],\n",
              "       [-1.15649127, -0.16725245, -1.21392703]])"
            ]
          },
          "metadata": {
            "tags": []
          },
          "execution_count": 279
        }
      ]
    },
    {
      "metadata": {
        "id": "kLLci4e2SG8L",
        "colab_type": "code",
        "colab": {
          "base_uri": "https://localhost:8080/",
          "height": 85
        },
        "outputId": "e0cc84ed-a839-4946-c8dc-cadf24367e1f"
      },
      "cell_type": "code",
      "source": [
        "class TwoLayerNet:\n",
        "  def __init__(self, input_size, hidden_size, output_size, weight_init_std=0.01):\n",
        "    self.params = {}\n",
        "    self.params['W1'] = weight_init_std * np.random.randn(input_size, hidden_size)\n",
        "    self.params['b1'] = np.zeros(hidden_size)\n",
        "    self.params['W2'] = weight_init_std * np.random.randn(hidden_size, output_size)\n",
        "    self.params['b2'] = np.zeros(output_size)\n",
        "    \n",
        "  def predict(self, x):\n",
        "    W1, W2 = self.params['W1'], self.params['W2']\n",
        "    b1, b2 = self.params['b1'], self.params['b2']\n",
        "    \n",
        "    a1 = np.dot(x, W1) + b1\n",
        "    z1 = sigmoid(a1)\n",
        "    a2 = np.dot(z1, W2) + b2\n",
        "    y = softmax(a2)\n",
        "    \n",
        "    return y\n",
        "  \n",
        "  def loss(self, x, t):\n",
        "    y = self.predict(x)\n",
        "    return cross_entropy_error(y, t)\n",
        "  \n",
        "  def accuracy(self, x, t):\n",
        "    y = self.predict(x)\n",
        "    y = np.argmax(y, axis=1)\n",
        "    t = np.argmax(t, axis=1)\n",
        "    \n",
        "    accuracy = np.sum(y == t) / float(x.shape[0])\n",
        "    return accuracy\n",
        "  \n",
        "  def numerical_gradient(self, x, t):\n",
        "    loss_W = lambda W: self.loss(x, t)\n",
        "    \n",
        "    grads  = {}\n",
        "    \n",
        "    grads['W1'] = numerical_gradient(loss_W, self.params['W1'])\n",
        "    grads['b1'] = numerical_gradient(loss_W, self.params['b1'])\n",
        "    grads['W2'] = numerical_gradient(loss_W, self.params['W2'])\n",
        "    grads['b2'] = numerical_gradient(loss_W, self.params['b2'])\n",
        "    \n",
        "    return grads\n",
        "\n",
        "  \n",
        "net = TwoLayerNet(input_size=784, hidden_size=100, output_size=10)\n",
        "print(net.params['W1'].shape)\n",
        "print(net.params['b1'].shape)\n",
        "print(net.params['W2'].shape)\n",
        "print(net.params['b2'].shape)"
      ],
      "execution_count": 280,
      "outputs": [
        {
          "output_type": "stream",
          "text": [
            "(784, 100)\n",
            "(100,)\n",
            "(100, 10)\n",
            "(10,)\n"
          ],
          "name": "stdout"
        }
      ]
    },
    {
      "metadata": {
        "id": "Vvve8qTAYgh1",
        "colab_type": "code",
        "colab": {
          "base_uri": "https://localhost:8080/",
          "height": 3417
        },
        "outputId": "817fd4e2-3d15-474c-f6ff-d6f6ed940318"
      },
      "cell_type": "code",
      "source": [
        "x = np.random.rand(100, 784)\n",
        "net.predict(x)"
      ],
      "execution_count": 281,
      "outputs": [
        {
          "output_type": "execute_result",
          "data": {
            "text/plain": [
              "array([[0.10204823, 0.09408922, 0.10317528, 0.09726024, 0.09682531,\n",
              "        0.09898226, 0.1001068 , 0.09870817, 0.10763705, 0.10116744],\n",
              "       [0.10255235, 0.09402849, 0.10283995, 0.09720423, 0.09673175,\n",
              "        0.09953321, 0.09980941, 0.0989165 , 0.10747541, 0.1009087 ],\n",
              "       [0.1024721 , 0.09395513, 0.1023592 , 0.09707577, 0.09684852,\n",
              "        0.09982155, 0.09999353, 0.09892349, 0.10761312, 0.10093758],\n",
              "       [0.10220146, 0.09436365, 0.10234973, 0.09751801, 0.09676915,\n",
              "        0.09945682, 0.09994391, 0.09926495, 0.10716846, 0.10096387],\n",
              "       [0.10229553, 0.09391932, 0.10275682, 0.09736055, 0.09711995,\n",
              "        0.09949785, 0.09965577, 0.09921323, 0.1070662 , 0.10111479],\n",
              "       [0.10217812, 0.0939144 , 0.10273913, 0.09714354, 0.09687274,\n",
              "        0.09955315, 0.09992833, 0.09910357, 0.10748122, 0.10108579],\n",
              "       [0.10241316, 0.09396296, 0.1026871 , 0.09703915, 0.09721163,\n",
              "        0.09902204, 0.10003722, 0.09907987, 0.10746563, 0.10108125],\n",
              "       [0.10229719, 0.09433544, 0.10242459, 0.09693839, 0.09694351,\n",
              "        0.09926428, 0.09972995, 0.09938375, 0.10749642, 0.10118647],\n",
              "       [0.10197817, 0.09409603, 0.10263482, 0.09712139, 0.09689997,\n",
              "        0.09973215, 0.10000999, 0.09905991, 0.10727421, 0.10119336],\n",
              "       [0.10186846, 0.0941967 , 0.10275678, 0.09705768, 0.09708329,\n",
              "        0.09926149, 0.09954898, 0.09960425, 0.10737849, 0.10124387],\n",
              "       [0.10218665, 0.09396551, 0.10259766, 0.09703664, 0.09680331,\n",
              "        0.09919457, 0.10005267, 0.09943069, 0.10759454, 0.10113777],\n",
              "       [0.10224116, 0.0942293 , 0.10313062, 0.09705631, 0.09679887,\n",
              "        0.09952212, 0.09995639, 0.09910656, 0.10700912, 0.10094954],\n",
              "       [0.10219187, 0.09390458, 0.10266053, 0.09727385, 0.09729683,\n",
              "        0.09928442, 0.09986786, 0.09917026, 0.10727813, 0.10107166],\n",
              "       [0.10214441, 0.09409516, 0.10275539, 0.09731602, 0.09710885,\n",
              "        0.09932922, 0.09992594, 0.09901754, 0.1073239 , 0.10098356],\n",
              "       [0.10214618, 0.09398723, 0.10283994, 0.09722019, 0.09707034,\n",
              "        0.09945434, 0.09992466, 0.09894233, 0.10737846, 0.10103634],\n",
              "       [0.10199568, 0.09418652, 0.10253426, 0.09727336, 0.09699249,\n",
              "        0.09940787, 0.1000119 , 0.09927533, 0.10735539, 0.10096719],\n",
              "       [0.1022705 , 0.0942233 , 0.1026737 , 0.09693476, 0.09723902,\n",
              "        0.09928396, 0.09991748, 0.09919288, 0.10730066, 0.10096372],\n",
              "       [0.10204976, 0.09437615, 0.10289104, 0.09740881, 0.09686043,\n",
              "        0.09930874, 0.09967098, 0.09939263, 0.1071744 , 0.10086706],\n",
              "       [0.10191915, 0.09407735, 0.10291282, 0.09714109, 0.0970008 ,\n",
              "        0.09958387, 0.09997881, 0.09892213, 0.10714549, 0.1013185 ],\n",
              "       [0.10233633, 0.09400013, 0.1027599 , 0.09710751, 0.09700657,\n",
              "        0.09920796, 0.09964916, 0.09966051, 0.107211  , 0.10106093],\n",
              "       [0.10197896, 0.09443963, 0.10292858, 0.09715164, 0.09695172,\n",
              "        0.09927179, 0.09966567, 0.09920876, 0.10741097, 0.10099228],\n",
              "       [0.10201879, 0.09431876, 0.10296971, 0.09694122, 0.09708215,\n",
              "        0.09925036, 0.09963682, 0.09916723, 0.10731423, 0.10130073],\n",
              "       [0.10219615, 0.09420491, 0.10288486, 0.0970682 , 0.09693444,\n",
              "        0.09960785, 0.09991534, 0.0989814 , 0.1071464 , 0.10106044],\n",
              "       [0.10230112, 0.09435506, 0.1027382 , 0.09723523, 0.09673929,\n",
              "        0.09951723, 0.09978559, 0.09900012, 0.10746397, 0.1008642 ],\n",
              "       [0.10205925, 0.09380773, 0.10266141, 0.09732113, 0.09711895,\n",
              "        0.0993975 , 0.09968275, 0.09943362, 0.10728381, 0.10123385],\n",
              "       [0.10215331, 0.09400051, 0.10294852, 0.09701625, 0.09671561,\n",
              "        0.09943232, 0.09998022, 0.09906676, 0.10749674, 0.10118976],\n",
              "       [0.10223933, 0.09402361, 0.10319808, 0.09711186, 0.09686977,\n",
              "        0.09962693, 0.09962981, 0.09900549, 0.10716216, 0.10113294],\n",
              "       [0.10225539, 0.09451511, 0.10274202, 0.09765537, 0.09666853,\n",
              "        0.09935892, 0.09979683, 0.09910867, 0.10700693, 0.10089224],\n",
              "       [0.1022939 , 0.09432334, 0.10234736, 0.09734542, 0.09688062,\n",
              "        0.09951791, 0.09995891, 0.09914191, 0.10719231, 0.10099832],\n",
              "       [0.10211947, 0.09414597, 0.10257774, 0.09721345, 0.09704989,\n",
              "        0.09922871, 0.09999283, 0.0992751 , 0.10718225, 0.1012146 ],\n",
              "       [0.1017491 , 0.0941463 , 0.10287385, 0.09718769, 0.09706455,\n",
              "        0.09933664, 0.10009035, 0.09921577, 0.10734104, 0.10099472],\n",
              "       [0.10223006, 0.09421231, 0.1025646 , 0.09697429, 0.09723782,\n",
              "        0.09935357, 0.0998921 , 0.0992794 , 0.10703178, 0.10122409],\n",
              "       [0.10198936, 0.09427486, 0.10279556, 0.09719024, 0.09709461,\n",
              "        0.09930926, 0.09983634, 0.09889935, 0.10775107, 0.10085934],\n",
              "       [0.10211749, 0.09458089, 0.10317454, 0.09686666, 0.0969068 ,\n",
              "        0.09931391, 0.09955693, 0.09913137, 0.10729266, 0.10105875],\n",
              "       [0.10241875, 0.09401536, 0.10325621, 0.0968525 , 0.09684083,\n",
              "        0.0994331 , 0.09979036, 0.09900194, 0.10720884, 0.10118211],\n",
              "       [0.10215098, 0.09447802, 0.10264038, 0.09697005, 0.09731706,\n",
              "        0.09915717, 0.09979181, 0.09935539, 0.10719474, 0.1009444 ],\n",
              "       [0.10197041, 0.09398496, 0.10254171, 0.09717364, 0.09713077,\n",
              "        0.09931389, 0.09970243, 0.09927043, 0.10776334, 0.10114842],\n",
              "       [0.10231108, 0.09423078, 0.10264356, 0.09726537, 0.09688759,\n",
              "        0.09971202, 0.09990576, 0.09862665, 0.10741916, 0.10099804],\n",
              "       [0.10228929, 0.09377866, 0.10267855, 0.0972277 , 0.09733372,\n",
              "        0.09942521, 0.10004503, 0.09914454, 0.1071152 , 0.10096209],\n",
              "       [0.10205218, 0.09419018, 0.1028055 , 0.09699737, 0.09703266,\n",
              "        0.09900994, 0.10037083, 0.09929711, 0.10714527, 0.10109895],\n",
              "       [0.10234131, 0.09404178, 0.1027744 , 0.09731032, 0.09702301,\n",
              "        0.09932908, 0.09989713, 0.09908576, 0.10717405, 0.10102315],\n",
              "       [0.10242585, 0.09417549, 0.10276876, 0.09708444, 0.09677149,\n",
              "        0.09926743, 0.09987166, 0.09919008, 0.10734353, 0.10110126],\n",
              "       [0.10185743, 0.09395101, 0.10268658, 0.09724237, 0.09709645,\n",
              "        0.09943034, 0.09989703, 0.09899456, 0.10747091, 0.10137333],\n",
              "       [0.10199756, 0.09433796, 0.10254223, 0.09729428, 0.09722242,\n",
              "        0.09938118, 0.09973412, 0.09912747, 0.10734604, 0.10101674],\n",
              "       [0.10266293, 0.094216  , 0.10291482, 0.09708933, 0.09697076,\n",
              "        0.09895261, 0.10005238, 0.09891019, 0.10730702, 0.10092397],\n",
              "       [0.10231538, 0.09412626, 0.10266825, 0.09741044, 0.09694309,\n",
              "        0.09908645, 0.10002539, 0.09928578, 0.10714294, 0.10099601],\n",
              "       [0.10180919, 0.09407327, 0.10316643, 0.09716511, 0.09674067,\n",
              "        0.09931071, 0.10011499, 0.09934762, 0.10725928, 0.10101274],\n",
              "       [0.10189998, 0.09407181, 0.10246936, 0.09734913, 0.09716848,\n",
              "        0.09914444, 0.09987201, 0.09949666, 0.10719512, 0.10133301],\n",
              "       [0.10234669, 0.09403791, 0.10283935, 0.09727142, 0.09688692,\n",
              "        0.09924968, 0.09976888, 0.09926014, 0.10710776, 0.10123126],\n",
              "       [0.10221104, 0.09392387, 0.10284825, 0.09728774, 0.09708548,\n",
              "        0.09918126, 0.09967098, 0.09941057, 0.10741971, 0.1009611 ],\n",
              "       [0.10243323, 0.09395654, 0.10254682, 0.09720915, 0.09701581,\n",
              "        0.09931912, 0.09993505, 0.09894916, 0.1078452 , 0.10078992],\n",
              "       [0.10212947, 0.0943158 , 0.10272933, 0.09750008, 0.09695833,\n",
              "        0.09955653, 0.0998671 , 0.09897316, 0.10700248, 0.10096774],\n",
              "       [0.10233385, 0.09399512, 0.10260367, 0.09724259, 0.09671744,\n",
              "        0.09962349, 0.09984435, 0.09917555, 0.10728955, 0.10117439],\n",
              "       [0.1019538 , 0.09399641, 0.10294156, 0.09710885, 0.09714044,\n",
              "        0.09927965, 0.10000179, 0.09907428, 0.10745557, 0.10104764],\n",
              "       [0.10216451, 0.09409503, 0.10270379, 0.09714799, 0.09707146,\n",
              "        0.09939562, 0.10005983, 0.09924733, 0.10699926, 0.10111519],\n",
              "       [0.10202267, 0.09421681, 0.10272789, 0.09714295, 0.09719172,\n",
              "        0.09955528, 0.1000945 , 0.09907796, 0.1067891 , 0.10118111],\n",
              "       [0.10221626, 0.09393989, 0.10292574, 0.09717257, 0.09693114,\n",
              "        0.09944609, 0.09991847, 0.09891847, 0.1076716 , 0.10085977],\n",
              "       [0.1025815 , 0.09410125, 0.10265986, 0.09709781, 0.09688425,\n",
              "        0.09924291, 0.09985135, 0.09915183, 0.10723599, 0.10119325],\n",
              "       [0.10249674, 0.09424502, 0.10308438, 0.09709478, 0.096804  ,\n",
              "        0.09949598, 0.09950883, 0.09903306, 0.10745746, 0.10077974],\n",
              "       [0.10226185, 0.09445479, 0.10263282, 0.09693102, 0.09705613,\n",
              "        0.09939445, 0.09978417, 0.09921966, 0.10747023, 0.1007949 ],\n",
              "       [0.10194737, 0.09402044, 0.10296271, 0.09724324, 0.09711846,\n",
              "        0.09936726, 0.09928605, 0.09959445, 0.10749803, 0.10096198],\n",
              "       [0.10240462, 0.09417473, 0.10255821, 0.0971608 , 0.09701387,\n",
              "        0.09967318, 0.10002786, 0.09920047, 0.10690003, 0.10088625],\n",
              "       [0.1022821 , 0.09430488, 0.10264739, 0.09726412, 0.09664578,\n",
              "        0.09929632, 0.1002303 , 0.09907854, 0.10748685, 0.10076373],\n",
              "       [0.1022409 , 0.09421716, 0.10273251, 0.09709898, 0.09671577,\n",
              "        0.09951273, 0.10002648, 0.09906868, 0.10736679, 0.10102001],\n",
              "       [0.10255539, 0.09378349, 0.10302185, 0.09741195, 0.09668632,\n",
              "        0.09945216, 0.09988446, 0.0988379 , 0.10754494, 0.10082155],\n",
              "       [0.10208481, 0.09388187, 0.1028397 , 0.09710958, 0.09713401,\n",
              "        0.09980405, 0.09990865, 0.09896208, 0.10714401, 0.10113124],\n",
              "       [0.10236957, 0.09420626, 0.1027453 , 0.09711353, 0.09697464,\n",
              "        0.09912686, 0.10005575, 0.09929058, 0.10696304, 0.10115447],\n",
              "       [0.10198566, 0.09420153, 0.10271877, 0.0971431 , 0.0969041 ,\n",
              "        0.09935272, 0.10006233, 0.09948791, 0.10733528, 0.1008086 ],\n",
              "       [0.10209173, 0.09399742, 0.10255493, 0.09710928, 0.09727873,\n",
              "        0.09923016, 0.10008841, 0.09885241, 0.10744068, 0.10135624],\n",
              "       [0.10174667, 0.09410166, 0.10284628, 0.09707018, 0.0970706 ,\n",
              "        0.09980018, 0.09935381, 0.09927371, 0.1075783 , 0.1011586 ],\n",
              "       [0.10218918, 0.09377844, 0.1030436 , 0.09709583, 0.09697525,\n",
              "        0.09954053, 0.09994558, 0.09898988, 0.10746761, 0.10097409],\n",
              "       [0.10195991, 0.09401369, 0.10292424, 0.09713788, 0.09706542,\n",
              "        0.0990959 , 0.10020618, 0.09927147, 0.10729799, 0.10102731],\n",
              "       [0.10223632, 0.09420714, 0.1028017 , 0.09697635, 0.0970814 ,\n",
              "        0.09907737, 0.09982602, 0.09927674, 0.10729036, 0.1012266 ],\n",
              "       [0.10198079, 0.09394591, 0.10253425, 0.09734514, 0.0969088 ,\n",
              "        0.09986243, 0.09993184, 0.09901336, 0.10752751, 0.10094996],\n",
              "       [0.10216109, 0.09412169, 0.10232337, 0.09720863, 0.09693064,\n",
              "        0.09943045, 0.09996877, 0.09937207, 0.10747471, 0.10100858],\n",
              "       [0.10212538, 0.0942223 , 0.1028346 , 0.09713042, 0.09701092,\n",
              "        0.09932494, 0.10004575, 0.09909509, 0.10741599, 0.10079461],\n",
              "       [0.10209092, 0.09410169, 0.10264858, 0.09723371, 0.09697744,\n",
              "        0.09941952, 0.09997005, 0.0994062 , 0.10722984, 0.10092206],\n",
              "       [0.1024322 , 0.09413186, 0.10301832, 0.09699903, 0.09711277,\n",
              "        0.09900012, 0.09988115, 0.09909496, 0.1072557 , 0.1010739 ],\n",
              "       [0.10219111, 0.09441029, 0.10253502, 0.09721444, 0.09700572,\n",
              "        0.09963939, 0.0998943 , 0.09890626, 0.10710503, 0.10109845],\n",
              "       [0.10243905, 0.0941683 , 0.10276445, 0.09724554, 0.09663846,\n",
              "        0.09936689, 0.09962366, 0.09915586, 0.10757578, 0.10102201],\n",
              "       [0.10205285, 0.09366545, 0.10302221, 0.09697209, 0.09679104,\n",
              "        0.09978127, 0.09989557, 0.09895977, 0.10748811, 0.10137163],\n",
              "       [0.10207235, 0.09423806, 0.10260787, 0.09705948, 0.09717438,\n",
              "        0.09939342, 0.09975491, 0.09914625, 0.10738542, 0.10116787],\n",
              "       [0.10219104, 0.09458206, 0.10253741, 0.09703791, 0.09691837,\n",
              "        0.09916834, 0.09982078, 0.09931638, 0.10740102, 0.10102668],\n",
              "       [0.10219333, 0.09401373, 0.10290695, 0.09706306, 0.09676505,\n",
              "        0.09934748, 0.10002009, 0.09917029, 0.10775147, 0.10076854],\n",
              "       [0.10242066, 0.09419923, 0.10254794, 0.09710907, 0.09693937,\n",
              "        0.099596  , 0.09998866, 0.09902707, 0.10698958, 0.10118242],\n",
              "       [0.10191465, 0.09406434, 0.10268608, 0.0967473 , 0.09679745,\n",
              "        0.09940423, 0.10024869, 0.09915679, 0.1076066 , 0.10137388],\n",
              "       [0.10224602, 0.09407638, 0.10242757, 0.0974418 , 0.09710245,\n",
              "        0.09959713, 0.09967666, 0.09910318, 0.10750322, 0.10082558],\n",
              "       [0.10242457, 0.09395698, 0.1026208 , 0.09722617, 0.09694087,\n",
              "        0.09901196, 0.09997205, 0.09927789, 0.10725271, 0.101316  ],\n",
              "       [0.10230311, 0.09433593, 0.10241119, 0.09737468, 0.09691779,\n",
              "        0.0992218 , 0.09984218, 0.09947549, 0.10732605, 0.10079177],\n",
              "       [0.10188258, 0.09417921, 0.10307173, 0.09710378, 0.09676155,\n",
              "        0.09940724, 0.09960794, 0.09912294, 0.10763478, 0.10122824],\n",
              "       [0.10259066, 0.09405316, 0.10268541, 0.09700747, 0.09711984,\n",
              "        0.09934097, 0.09967502, 0.09924548, 0.10757861, 0.10070338],\n",
              "       [0.10215941, 0.09406239, 0.10291776, 0.09708789, 0.09660579,\n",
              "        0.09938199, 0.10023905, 0.09912379, 0.10740042, 0.10102151],\n",
              "       [0.10244181, 0.09397788, 0.10274938, 0.09728256, 0.09695927,\n",
              "        0.09914146, 0.09983779, 0.09931858, 0.10753872, 0.10075254],\n",
              "       [0.10198457, 0.09433198, 0.10303302, 0.09720239, 0.09664714,\n",
              "        0.09964715, 0.09968162, 0.09924533, 0.10741457, 0.10081222],\n",
              "       [0.10229966, 0.09407562, 0.10257295, 0.09684351, 0.09721058,\n",
              "        0.09948923, 0.09980062, 0.09911291, 0.10725819, 0.10133673],\n",
              "       [0.10227176, 0.09433199, 0.10275302, 0.09707763, 0.09689804,\n",
              "        0.09892609, 0.0997858 , 0.09976053, 0.10716296, 0.10103218],\n",
              "       [0.10240727, 0.09447515, 0.10213629, 0.09739854, 0.09710719,\n",
              "        0.09903217, 0.09989242, 0.0992983 , 0.10741888, 0.10083379],\n",
              "       [0.10234282, 0.09386357, 0.10272087, 0.09738959, 0.09693265,\n",
              "        0.09934044, 0.10014533, 0.09880354, 0.10752788, 0.10093331],\n",
              "       [0.10258181, 0.09399732, 0.10297141, 0.09708324, 0.09675839,\n",
              "        0.09940946, 0.09993289, 0.09888687, 0.10717817, 0.10120045],\n",
              "       [0.1018332 , 0.09393081, 0.10244982, 0.09733609, 0.09712727,\n",
              "        0.09960592, 0.0998482 , 0.09919843, 0.10725588, 0.10141438]])"
            ]
          },
          "metadata": {
            "tags": []
          },
          "execution_count": 281
        }
      ]
    },
    {
      "metadata": {
        "id": "NLVBjOHIZHwA",
        "colab_type": "code",
        "colab": {
          "base_uri": "https://localhost:8080/",
          "height": 950
        },
        "outputId": "de3da158-a8d8-4f51-8e2a-f1b6ac917854"
      },
      "cell_type": "code",
      "source": [
        "import numpy as np\n",
        "t = np.random.rand(100, 10)\n",
        "\n",
        "grads = net.numerical_gradient(x, t)\n",
        "\n",
        "print(grads['W1'].shape)\n",
        "print(grads['b1'].shape)\n",
        "print(grads['W2'].shape)\n",
        "print(grads['b2'].shape)"
      ],
      "execution_count": 282,
      "outputs": [
        {
          "output_type": "error",
          "ename": "KeyboardInterrupt",
          "evalue": "ignored",
          "traceback": [
            "\u001b[0;31m---------------------------------------------------------------------------\u001b[0m",
            "\u001b[0;31mKeyboardInterrupt\u001b[0m                         Traceback (most recent call last)",
            "\u001b[0;32m<ipython-input-282-95b0421e211f>\u001b[0m in \u001b[0;36m<module>\u001b[0;34m()\u001b[0m\n\u001b[1;32m      2\u001b[0m \u001b[0mt\u001b[0m \u001b[0;34m=\u001b[0m \u001b[0mnp\u001b[0m\u001b[0;34m.\u001b[0m\u001b[0mrandom\u001b[0m\u001b[0;34m.\u001b[0m\u001b[0mrand\u001b[0m\u001b[0;34m(\u001b[0m\u001b[0;36m100\u001b[0m\u001b[0;34m,\u001b[0m \u001b[0;36m10\u001b[0m\u001b[0;34m)\u001b[0m\u001b[0;34m\u001b[0m\u001b[0m\n\u001b[1;32m      3\u001b[0m \u001b[0;34m\u001b[0m\u001b[0m\n\u001b[0;32m----> 4\u001b[0;31m \u001b[0mgrads\u001b[0m \u001b[0;34m=\u001b[0m \u001b[0mnet\u001b[0m\u001b[0;34m.\u001b[0m\u001b[0mnumerical_gradient\u001b[0m\u001b[0;34m(\u001b[0m\u001b[0mx\u001b[0m\u001b[0;34m,\u001b[0m \u001b[0mt\u001b[0m\u001b[0;34m)\u001b[0m\u001b[0;34m\u001b[0m\u001b[0m\n\u001b[0m\u001b[1;32m      5\u001b[0m \u001b[0;34m\u001b[0m\u001b[0m\n\u001b[1;32m      6\u001b[0m \u001b[0mprint\u001b[0m\u001b[0;34m(\u001b[0m\u001b[0mgrads\u001b[0m\u001b[0;34m[\u001b[0m\u001b[0;34m'W1'\u001b[0m\u001b[0;34m]\u001b[0m\u001b[0;34m.\u001b[0m\u001b[0mshape\u001b[0m\u001b[0;34m)\u001b[0m\u001b[0;34m\u001b[0m\u001b[0m\n",
            "\u001b[0;32m<ipython-input-280-261396d827ed>\u001b[0m in \u001b[0;36mnumerical_gradient\u001b[0;34m(self, x, t)\u001b[0m\n\u001b[1;32m     35\u001b[0m     \u001b[0mgrads\u001b[0m  \u001b[0;34m=\u001b[0m \u001b[0;34m{\u001b[0m\u001b[0;34m}\u001b[0m\u001b[0;34m\u001b[0m\u001b[0m\n\u001b[1;32m     36\u001b[0m \u001b[0;34m\u001b[0m\u001b[0m\n\u001b[0;32m---> 37\u001b[0;31m     \u001b[0mgrads\u001b[0m\u001b[0;34m[\u001b[0m\u001b[0;34m'W1'\u001b[0m\u001b[0;34m]\u001b[0m \u001b[0;34m=\u001b[0m \u001b[0mnumerical_gradient\u001b[0m\u001b[0;34m(\u001b[0m\u001b[0mloss_W\u001b[0m\u001b[0;34m,\u001b[0m \u001b[0mself\u001b[0m\u001b[0;34m.\u001b[0m\u001b[0mparams\u001b[0m\u001b[0;34m[\u001b[0m\u001b[0;34m'W1'\u001b[0m\u001b[0;34m]\u001b[0m\u001b[0;34m)\u001b[0m\u001b[0;34m\u001b[0m\u001b[0m\n\u001b[0m\u001b[1;32m     38\u001b[0m     \u001b[0mgrads\u001b[0m\u001b[0;34m[\u001b[0m\u001b[0;34m'b1'\u001b[0m\u001b[0;34m]\u001b[0m \u001b[0;34m=\u001b[0m \u001b[0mnumerical_gradient\u001b[0m\u001b[0;34m(\u001b[0m\u001b[0mloss_W\u001b[0m\u001b[0;34m,\u001b[0m \u001b[0mself\u001b[0m\u001b[0;34m.\u001b[0m\u001b[0mparams\u001b[0m\u001b[0;34m[\u001b[0m\u001b[0;34m'b1'\u001b[0m\u001b[0;34m]\u001b[0m\u001b[0;34m)\u001b[0m\u001b[0;34m\u001b[0m\u001b[0m\n\u001b[1;32m     39\u001b[0m     \u001b[0mgrads\u001b[0m\u001b[0;34m[\u001b[0m\u001b[0;34m'W2'\u001b[0m\u001b[0;34m]\u001b[0m \u001b[0;34m=\u001b[0m \u001b[0mnumerical_gradient\u001b[0m\u001b[0;34m(\u001b[0m\u001b[0mloss_W\u001b[0m\u001b[0;34m,\u001b[0m \u001b[0mself\u001b[0m\u001b[0;34m.\u001b[0m\u001b[0mparams\u001b[0m\u001b[0;34m[\u001b[0m\u001b[0;34m'W2'\u001b[0m\u001b[0;34m]\u001b[0m\u001b[0;34m)\u001b[0m\u001b[0;34m\u001b[0m\u001b[0m\n",
            "\u001b[0;32m<ipython-input-270-f437390eef06>\u001b[0m in \u001b[0;36mnumerical_gradient\u001b[0;34m(f, X)\u001b[0m\n\u001b[1;32m     29\u001b[0m \u001b[0;34m\u001b[0m\u001b[0m\n\u001b[1;32m     30\u001b[0m         \u001b[0;32mfor\u001b[0m \u001b[0midx\u001b[0m\u001b[0;34m,\u001b[0m \u001b[0mx\u001b[0m \u001b[0;32min\u001b[0m \u001b[0menumerate\u001b[0m\u001b[0;34m(\u001b[0m\u001b[0mX\u001b[0m\u001b[0;34m)\u001b[0m\u001b[0;34m:\u001b[0m\u001b[0;34m\u001b[0m\u001b[0m\n\u001b[0;32m---> 31\u001b[0;31m             \u001b[0mgrad\u001b[0m\u001b[0;34m[\u001b[0m\u001b[0midx\u001b[0m\u001b[0;34m]\u001b[0m \u001b[0;34m=\u001b[0m \u001b[0m_numerical_gradient_no_batch\u001b[0m\u001b[0;34m(\u001b[0m\u001b[0mf\u001b[0m\u001b[0;34m,\u001b[0m \u001b[0mx\u001b[0m\u001b[0;34m)\u001b[0m\u001b[0;34m\u001b[0m\u001b[0m\n\u001b[0m\u001b[1;32m     32\u001b[0m \u001b[0;34m\u001b[0m\u001b[0m\n\u001b[1;32m     33\u001b[0m         \u001b[0;32mreturn\u001b[0m \u001b[0mgrad\u001b[0m\u001b[0;34m\u001b[0m\u001b[0m\n",
            "\u001b[0;32m<ipython-input-270-f437390eef06>\u001b[0m in \u001b[0;36m_numerical_gradient_no_batch\u001b[0;34m(f, x)\u001b[0m\n\u001b[1;32m     11\u001b[0m         \u001b[0mtmp_val\u001b[0m \u001b[0;34m=\u001b[0m \u001b[0mx\u001b[0m\u001b[0;34m[\u001b[0m\u001b[0midx\u001b[0m\u001b[0;34m]\u001b[0m\u001b[0;34m\u001b[0m\u001b[0m\n\u001b[1;32m     12\u001b[0m         \u001b[0mx\u001b[0m\u001b[0;34m[\u001b[0m\u001b[0midx\u001b[0m\u001b[0;34m]\u001b[0m \u001b[0;34m=\u001b[0m \u001b[0mfloat\u001b[0m\u001b[0;34m(\u001b[0m\u001b[0mtmp_val\u001b[0m\u001b[0;34m)\u001b[0m \u001b[0;34m+\u001b[0m \u001b[0mh\u001b[0m\u001b[0;34m\u001b[0m\u001b[0m\n\u001b[0;32m---> 13\u001b[0;31m         \u001b[0mfxh1\u001b[0m \u001b[0;34m=\u001b[0m \u001b[0mf\u001b[0m\u001b[0;34m(\u001b[0m\u001b[0mx\u001b[0m\u001b[0;34m)\u001b[0m  \u001b[0;31m# f(x+h)\u001b[0m\u001b[0;34m\u001b[0m\u001b[0m\n\u001b[0m\u001b[1;32m     14\u001b[0m \u001b[0;34m\u001b[0m\u001b[0m\n\u001b[1;32m     15\u001b[0m         \u001b[0mx\u001b[0m\u001b[0;34m[\u001b[0m\u001b[0midx\u001b[0m\u001b[0;34m]\u001b[0m \u001b[0;34m=\u001b[0m \u001b[0mtmp_val\u001b[0m \u001b[0;34m-\u001b[0m \u001b[0mh\u001b[0m\u001b[0;34m\u001b[0m\u001b[0m\n",
            "\u001b[0;32m<ipython-input-280-261396d827ed>\u001b[0m in \u001b[0;36m<lambda>\u001b[0;34m(W)\u001b[0m\n\u001b[1;32m     31\u001b[0m \u001b[0;34m\u001b[0m\u001b[0m\n\u001b[1;32m     32\u001b[0m   \u001b[0;32mdef\u001b[0m \u001b[0mnumerical_gradient\u001b[0m\u001b[0;34m(\u001b[0m\u001b[0mself\u001b[0m\u001b[0;34m,\u001b[0m \u001b[0mx\u001b[0m\u001b[0;34m,\u001b[0m \u001b[0mt\u001b[0m\u001b[0;34m)\u001b[0m\u001b[0;34m:\u001b[0m\u001b[0;34m\u001b[0m\u001b[0m\n\u001b[0;32m---> 33\u001b[0;31m     \u001b[0mloss_W\u001b[0m \u001b[0;34m=\u001b[0m \u001b[0;32mlambda\u001b[0m \u001b[0mW\u001b[0m\u001b[0;34m:\u001b[0m \u001b[0mself\u001b[0m\u001b[0;34m.\u001b[0m\u001b[0mloss\u001b[0m\u001b[0;34m(\u001b[0m\u001b[0mx\u001b[0m\u001b[0;34m,\u001b[0m \u001b[0mt\u001b[0m\u001b[0;34m)\u001b[0m\u001b[0;34m\u001b[0m\u001b[0m\n\u001b[0m\u001b[1;32m     34\u001b[0m \u001b[0;34m\u001b[0m\u001b[0m\n\u001b[1;32m     35\u001b[0m     \u001b[0mgrads\u001b[0m  \u001b[0;34m=\u001b[0m \u001b[0;34m{\u001b[0m\u001b[0;34m}\u001b[0m\u001b[0;34m\u001b[0m\u001b[0m\n",
            "\u001b[0;32m<ipython-input-280-261396d827ed>\u001b[0m in \u001b[0;36mloss\u001b[0;34m(self, x, t)\u001b[0m\n\u001b[1;32m     19\u001b[0m \u001b[0;34m\u001b[0m\u001b[0m\n\u001b[1;32m     20\u001b[0m   \u001b[0;32mdef\u001b[0m \u001b[0mloss\u001b[0m\u001b[0;34m(\u001b[0m\u001b[0mself\u001b[0m\u001b[0;34m,\u001b[0m \u001b[0mx\u001b[0m\u001b[0;34m,\u001b[0m \u001b[0mt\u001b[0m\u001b[0;34m)\u001b[0m\u001b[0;34m:\u001b[0m\u001b[0;34m\u001b[0m\u001b[0m\n\u001b[0;32m---> 21\u001b[0;31m     \u001b[0my\u001b[0m \u001b[0;34m=\u001b[0m \u001b[0mself\u001b[0m\u001b[0;34m.\u001b[0m\u001b[0mpredict\u001b[0m\u001b[0;34m(\u001b[0m\u001b[0mx\u001b[0m\u001b[0;34m)\u001b[0m\u001b[0;34m\u001b[0m\u001b[0m\n\u001b[0m\u001b[1;32m     22\u001b[0m     \u001b[0;32mreturn\u001b[0m \u001b[0mcross_entropy_error\u001b[0m\u001b[0;34m(\u001b[0m\u001b[0my\u001b[0m\u001b[0;34m,\u001b[0m \u001b[0mt\u001b[0m\u001b[0;34m)\u001b[0m\u001b[0;34m\u001b[0m\u001b[0m\n\u001b[1;32m     23\u001b[0m \u001b[0;34m\u001b[0m\u001b[0m\n",
            "\u001b[0;32m<ipython-input-280-261396d827ed>\u001b[0m in \u001b[0;36mpredict\u001b[0;34m(self, x)\u001b[0m\n\u001b[1;32m     11\u001b[0m     \u001b[0mb1\u001b[0m\u001b[0;34m,\u001b[0m \u001b[0mb2\u001b[0m \u001b[0;34m=\u001b[0m \u001b[0mself\u001b[0m\u001b[0;34m.\u001b[0m\u001b[0mparams\u001b[0m\u001b[0;34m[\u001b[0m\u001b[0;34m'b1'\u001b[0m\u001b[0;34m]\u001b[0m\u001b[0;34m,\u001b[0m \u001b[0mself\u001b[0m\u001b[0;34m.\u001b[0m\u001b[0mparams\u001b[0m\u001b[0;34m[\u001b[0m\u001b[0;34m'b2'\u001b[0m\u001b[0;34m]\u001b[0m\u001b[0;34m\u001b[0m\u001b[0m\n\u001b[1;32m     12\u001b[0m \u001b[0;34m\u001b[0m\u001b[0m\n\u001b[0;32m---> 13\u001b[0;31m     \u001b[0ma1\u001b[0m \u001b[0;34m=\u001b[0m \u001b[0mnp\u001b[0m\u001b[0;34m.\u001b[0m\u001b[0mdot\u001b[0m\u001b[0;34m(\u001b[0m\u001b[0mx\u001b[0m\u001b[0;34m,\u001b[0m \u001b[0mW1\u001b[0m\u001b[0;34m)\u001b[0m \u001b[0;34m+\u001b[0m \u001b[0mb1\u001b[0m\u001b[0;34m\u001b[0m\u001b[0m\n\u001b[0m\u001b[1;32m     14\u001b[0m     \u001b[0mz1\u001b[0m \u001b[0;34m=\u001b[0m \u001b[0msigmoid\u001b[0m\u001b[0;34m(\u001b[0m\u001b[0ma1\u001b[0m\u001b[0;34m)\u001b[0m\u001b[0;34m\u001b[0m\u001b[0m\n\u001b[1;32m     15\u001b[0m     \u001b[0ma2\u001b[0m \u001b[0;34m=\u001b[0m \u001b[0mnp\u001b[0m\u001b[0;34m.\u001b[0m\u001b[0mdot\u001b[0m\u001b[0;34m(\u001b[0m\u001b[0mz1\u001b[0m\u001b[0;34m,\u001b[0m \u001b[0mW2\u001b[0m\u001b[0;34m)\u001b[0m \u001b[0;34m+\u001b[0m \u001b[0mb2\u001b[0m\u001b[0;34m\u001b[0m\u001b[0m\n",
            "\u001b[0;31mKeyboardInterrupt\u001b[0m: "
          ]
        }
      ]
    },
    {
      "metadata": {
        "id": "PmRjjwbHZVdg",
        "colab_type": "code",
        "colab": {
          "base_uri": "https://localhost:8080/",
          "height": 1290
        },
        "outputId": "09743b5e-3053-4c93-db8f-36ee6bcb3d2c"
      },
      "cell_type": "code",
      "source": [
        "(x_train,t_train),(x_test,t_test) = load_mnist(normalize=True, one_hot_label=True)\n",
        "\n",
        "train_loss_list = []\n",
        "\n",
        "iters_num = 10000\n",
        "train_size = x_train.shape[0]\n",
        "batch_size = 100\n",
        "learning_rate = 0.01\n",
        "\n",
        "network = TwoLayerNet(input_size=784, hidden_size=50, output_size=10)\n",
        "\n",
        "for i in range(iters_num):\n",
        "  print(i)\n",
        "  batch_mask = np.random.choice(train_size, batch_size)\n",
        "  x_batch = x_train[batch_mask]\n",
        "  t_batch = t_train[batch_mask]\n",
        "  \n",
        "  grad = network.numerical_gradient(x_batch, t_batch)\n",
        "  \n",
        "  for key in ('W1', 'b1', 'W2', 'b2'):\n",
        "    network.params[key] -= learning_rate * grad[key]\n",
        "  \n",
        "  loss = network.loss(x_batch, t_batch)\n",
        "  train_loss_list.append(loss)"
      ],
      "execution_count": 124,
      "outputs": [
        {
          "output_type": "stream",
          "text": [
            "0\n",
            "1\n",
            "2\n",
            "3\n",
            "4\n",
            "5\n",
            "6\n",
            "7\n",
            "8\n",
            "9\n",
            "10\n",
            "11\n",
            "12\n"
          ],
          "name": "stdout"
        },
        {
          "output_type": "error",
          "ename": "KeyboardInterrupt",
          "evalue": "ignored",
          "traceback": [
            "\u001b[0;31m---------------------------------------------------------------------------\u001b[0m",
            "\u001b[0;31mKeyboardInterrupt\u001b[0m                         Traceback (most recent call last)",
            "\u001b[0;32m<ipython-input-124-6a14e236cd04>\u001b[0m in \u001b[0;36m<module>\u001b[0;34m()\u001b[0m\n\u001b[1;32m     16\u001b[0m   \u001b[0mt_batch\u001b[0m \u001b[0;34m=\u001b[0m \u001b[0mt_train\u001b[0m\u001b[0;34m[\u001b[0m\u001b[0mbatch_mask\u001b[0m\u001b[0;34m]\u001b[0m\u001b[0;34m\u001b[0m\u001b[0m\n\u001b[1;32m     17\u001b[0m \u001b[0;34m\u001b[0m\u001b[0m\n\u001b[0;32m---> 18\u001b[0;31m   \u001b[0mgrad\u001b[0m \u001b[0;34m=\u001b[0m \u001b[0mnetwork\u001b[0m\u001b[0;34m.\u001b[0m\u001b[0mnumerical_gradient\u001b[0m\u001b[0;34m(\u001b[0m\u001b[0mx_batch\u001b[0m\u001b[0;34m,\u001b[0m \u001b[0mt_batch\u001b[0m\u001b[0;34m)\u001b[0m\u001b[0;34m\u001b[0m\u001b[0m\n\u001b[0m\u001b[1;32m     19\u001b[0m \u001b[0;34m\u001b[0m\u001b[0m\n\u001b[1;32m     20\u001b[0m   \u001b[0;32mfor\u001b[0m \u001b[0mkey\u001b[0m \u001b[0;32min\u001b[0m \u001b[0;34m(\u001b[0m\u001b[0;34m'W1'\u001b[0m\u001b[0;34m,\u001b[0m \u001b[0;34m'b1'\u001b[0m\u001b[0;34m,\u001b[0m \u001b[0;34m'W2'\u001b[0m\u001b[0;34m,\u001b[0m \u001b[0;34m'b2'\u001b[0m\u001b[0;34m)\u001b[0m\u001b[0;34m:\u001b[0m\u001b[0;34m\u001b[0m\u001b[0m\n",
            "\u001b[0;32m<ipython-input-99-fda06014f2be>\u001b[0m in \u001b[0;36mnumerical_gradient\u001b[0;34m(self, x, t)\u001b[0m\n\u001b[1;32m     41\u001b[0m \u001b[0;34m\u001b[0m\u001b[0m\n\u001b[1;32m     42\u001b[0m         \u001b[0mgrads\u001b[0m \u001b[0;34m=\u001b[0m \u001b[0;34m{\u001b[0m\u001b[0;34m}\u001b[0m\u001b[0;34m\u001b[0m\u001b[0m\n\u001b[0;32m---> 43\u001b[0;31m         \u001b[0mgrads\u001b[0m\u001b[0;34m[\u001b[0m\u001b[0;34m'W1'\u001b[0m\u001b[0;34m]\u001b[0m \u001b[0;34m=\u001b[0m \u001b[0mnumerical_gradient\u001b[0m\u001b[0;34m(\u001b[0m\u001b[0mloss_W\u001b[0m\u001b[0;34m,\u001b[0m \u001b[0mself\u001b[0m\u001b[0;34m.\u001b[0m\u001b[0mparams\u001b[0m\u001b[0;34m[\u001b[0m\u001b[0;34m'W1'\u001b[0m\u001b[0;34m]\u001b[0m\u001b[0;34m)\u001b[0m\u001b[0;34m\u001b[0m\u001b[0m\n\u001b[0m\u001b[1;32m     44\u001b[0m         \u001b[0mgrads\u001b[0m\u001b[0;34m[\u001b[0m\u001b[0;34m'b1'\u001b[0m\u001b[0;34m]\u001b[0m \u001b[0;34m=\u001b[0m \u001b[0mnumerical_gradient\u001b[0m\u001b[0;34m(\u001b[0m\u001b[0mloss_W\u001b[0m\u001b[0;34m,\u001b[0m \u001b[0mself\u001b[0m\u001b[0;34m.\u001b[0m\u001b[0mparams\u001b[0m\u001b[0;34m[\u001b[0m\u001b[0;34m'b1'\u001b[0m\u001b[0;34m]\u001b[0m\u001b[0;34m)\u001b[0m\u001b[0;34m\u001b[0m\u001b[0m\n\u001b[1;32m     45\u001b[0m         \u001b[0mgrads\u001b[0m\u001b[0;34m[\u001b[0m\u001b[0;34m'W2'\u001b[0m\u001b[0;34m]\u001b[0m \u001b[0;34m=\u001b[0m \u001b[0mnumerical_gradient\u001b[0m\u001b[0;34m(\u001b[0m\u001b[0mloss_W\u001b[0m\u001b[0;34m,\u001b[0m \u001b[0mself\u001b[0m\u001b[0;34m.\u001b[0m\u001b[0mparams\u001b[0m\u001b[0;34m[\u001b[0m\u001b[0;34m'W2'\u001b[0m\u001b[0;34m]\u001b[0m\u001b[0;34m)\u001b[0m\u001b[0;34m\u001b[0m\u001b[0m\n",
            "\u001b[0;32m<ipython-input-49-f437390eef06>\u001b[0m in \u001b[0;36mnumerical_gradient\u001b[0;34m(f, X)\u001b[0m\n\u001b[1;32m     29\u001b[0m \u001b[0;34m\u001b[0m\u001b[0m\n\u001b[1;32m     30\u001b[0m         \u001b[0;32mfor\u001b[0m \u001b[0midx\u001b[0m\u001b[0;34m,\u001b[0m \u001b[0mx\u001b[0m \u001b[0;32min\u001b[0m \u001b[0menumerate\u001b[0m\u001b[0;34m(\u001b[0m\u001b[0mX\u001b[0m\u001b[0;34m)\u001b[0m\u001b[0;34m:\u001b[0m\u001b[0;34m\u001b[0m\u001b[0m\n\u001b[0;32m---> 31\u001b[0;31m             \u001b[0mgrad\u001b[0m\u001b[0;34m[\u001b[0m\u001b[0midx\u001b[0m\u001b[0;34m]\u001b[0m \u001b[0;34m=\u001b[0m \u001b[0m_numerical_gradient_no_batch\u001b[0m\u001b[0;34m(\u001b[0m\u001b[0mf\u001b[0m\u001b[0;34m,\u001b[0m \u001b[0mx\u001b[0m\u001b[0;34m)\u001b[0m\u001b[0;34m\u001b[0m\u001b[0m\n\u001b[0m\u001b[1;32m     32\u001b[0m \u001b[0;34m\u001b[0m\u001b[0m\n\u001b[1;32m     33\u001b[0m         \u001b[0;32mreturn\u001b[0m \u001b[0mgrad\u001b[0m\u001b[0;34m\u001b[0m\u001b[0m\n",
            "\u001b[0;32m<ipython-input-49-f437390eef06>\u001b[0m in \u001b[0;36m_numerical_gradient_no_batch\u001b[0;34m(f, x)\u001b[0m\n\u001b[1;32m     11\u001b[0m         \u001b[0mtmp_val\u001b[0m \u001b[0;34m=\u001b[0m \u001b[0mx\u001b[0m\u001b[0;34m[\u001b[0m\u001b[0midx\u001b[0m\u001b[0;34m]\u001b[0m\u001b[0;34m\u001b[0m\u001b[0m\n\u001b[1;32m     12\u001b[0m         \u001b[0mx\u001b[0m\u001b[0;34m[\u001b[0m\u001b[0midx\u001b[0m\u001b[0;34m]\u001b[0m \u001b[0;34m=\u001b[0m \u001b[0mfloat\u001b[0m\u001b[0;34m(\u001b[0m\u001b[0mtmp_val\u001b[0m\u001b[0;34m)\u001b[0m \u001b[0;34m+\u001b[0m \u001b[0mh\u001b[0m\u001b[0;34m\u001b[0m\u001b[0m\n\u001b[0;32m---> 13\u001b[0;31m         \u001b[0mfxh1\u001b[0m \u001b[0;34m=\u001b[0m \u001b[0mf\u001b[0m\u001b[0;34m(\u001b[0m\u001b[0mx\u001b[0m\u001b[0;34m)\u001b[0m  \u001b[0;31m# f(x+h)\u001b[0m\u001b[0;34m\u001b[0m\u001b[0m\n\u001b[0m\u001b[1;32m     14\u001b[0m \u001b[0;34m\u001b[0m\u001b[0m\n\u001b[1;32m     15\u001b[0m         \u001b[0mx\u001b[0m\u001b[0;34m[\u001b[0m\u001b[0midx\u001b[0m\u001b[0;34m]\u001b[0m \u001b[0;34m=\u001b[0m \u001b[0mtmp_val\u001b[0m \u001b[0;34m-\u001b[0m \u001b[0mh\u001b[0m\u001b[0;34m\u001b[0m\u001b[0m\n",
            "\u001b[0;32m<ipython-input-99-fda06014f2be>\u001b[0m in \u001b[0;36m<lambda>\u001b[0;34m(W)\u001b[0m\n\u001b[1;32m     38\u001b[0m     \u001b[0;31m# x:入力データ, t:教師データ\u001b[0m\u001b[0;34m\u001b[0m\u001b[0;34m\u001b[0m\u001b[0m\n\u001b[1;32m     39\u001b[0m     \u001b[0;32mdef\u001b[0m \u001b[0mnumerical_gradient\u001b[0m\u001b[0;34m(\u001b[0m\u001b[0mself\u001b[0m\u001b[0;34m,\u001b[0m \u001b[0mx\u001b[0m\u001b[0;34m,\u001b[0m \u001b[0mt\u001b[0m\u001b[0;34m)\u001b[0m\u001b[0;34m:\u001b[0m\u001b[0;34m\u001b[0m\u001b[0m\n\u001b[0;32m---> 40\u001b[0;31m         \u001b[0mloss_W\u001b[0m \u001b[0;34m=\u001b[0m \u001b[0;32mlambda\u001b[0m \u001b[0mW\u001b[0m\u001b[0;34m:\u001b[0m \u001b[0mself\u001b[0m\u001b[0;34m.\u001b[0m\u001b[0mloss\u001b[0m\u001b[0;34m(\u001b[0m\u001b[0mx\u001b[0m\u001b[0;34m,\u001b[0m \u001b[0mt\u001b[0m\u001b[0;34m)\u001b[0m\u001b[0;34m\u001b[0m\u001b[0m\n\u001b[0m\u001b[1;32m     41\u001b[0m \u001b[0;34m\u001b[0m\u001b[0m\n\u001b[1;32m     42\u001b[0m         \u001b[0mgrads\u001b[0m \u001b[0;34m=\u001b[0m \u001b[0;34m{\u001b[0m\u001b[0;34m}\u001b[0m\u001b[0;34m\u001b[0m\u001b[0m\n",
            "\u001b[0;32m<ipython-input-99-fda06014f2be>\u001b[0m in \u001b[0;36mloss\u001b[0;34m(self, x, t)\u001b[0m\n\u001b[1;32m     25\u001b[0m     \u001b[0;31m# x:入力データ, t:教師データ\u001b[0m\u001b[0;34m\u001b[0m\u001b[0;34m\u001b[0m\u001b[0m\n\u001b[1;32m     26\u001b[0m     \u001b[0;32mdef\u001b[0m \u001b[0mloss\u001b[0m\u001b[0;34m(\u001b[0m\u001b[0mself\u001b[0m\u001b[0;34m,\u001b[0m \u001b[0mx\u001b[0m\u001b[0;34m,\u001b[0m \u001b[0mt\u001b[0m\u001b[0;34m)\u001b[0m\u001b[0;34m:\u001b[0m\u001b[0;34m\u001b[0m\u001b[0m\n\u001b[0;32m---> 27\u001b[0;31m         \u001b[0my\u001b[0m \u001b[0;34m=\u001b[0m \u001b[0mself\u001b[0m\u001b[0;34m.\u001b[0m\u001b[0mpredict\u001b[0m\u001b[0;34m(\u001b[0m\u001b[0mx\u001b[0m\u001b[0;34m)\u001b[0m\u001b[0;34m\u001b[0m\u001b[0m\n\u001b[0m\u001b[1;32m     28\u001b[0m         \u001b[0;32mreturn\u001b[0m \u001b[0mself\u001b[0m\u001b[0;34m.\u001b[0m\u001b[0mlastLayer\u001b[0m\u001b[0;34m.\u001b[0m\u001b[0mforward\u001b[0m\u001b[0;34m(\u001b[0m\u001b[0my\u001b[0m\u001b[0;34m,\u001b[0m \u001b[0mt\u001b[0m\u001b[0;34m)\u001b[0m\u001b[0;34m\u001b[0m\u001b[0m\n\u001b[1;32m     29\u001b[0m \u001b[0;34m\u001b[0m\u001b[0m\n",
            "\u001b[0;32m<ipython-input-99-fda06014f2be>\u001b[0m in \u001b[0;36mpredict\u001b[0;34m(self, x)\u001b[0m\n\u001b[1;32m     19\u001b[0m     \u001b[0;32mdef\u001b[0m \u001b[0mpredict\u001b[0m\u001b[0;34m(\u001b[0m\u001b[0mself\u001b[0m\u001b[0;34m,\u001b[0m \u001b[0mx\u001b[0m\u001b[0;34m)\u001b[0m\u001b[0;34m:\u001b[0m\u001b[0;34m\u001b[0m\u001b[0m\n\u001b[1;32m     20\u001b[0m         \u001b[0;32mfor\u001b[0m \u001b[0mlayer\u001b[0m \u001b[0;32min\u001b[0m \u001b[0mself\u001b[0m\u001b[0;34m.\u001b[0m\u001b[0mlayers\u001b[0m\u001b[0;34m.\u001b[0m\u001b[0mvalues\u001b[0m\u001b[0;34m(\u001b[0m\u001b[0;34m)\u001b[0m\u001b[0;34m:\u001b[0m\u001b[0;34m\u001b[0m\u001b[0m\n\u001b[0;32m---> 21\u001b[0;31m             \u001b[0mx\u001b[0m \u001b[0;34m=\u001b[0m \u001b[0mlayer\u001b[0m\u001b[0;34m.\u001b[0m\u001b[0mforward\u001b[0m\u001b[0;34m(\u001b[0m\u001b[0mx\u001b[0m\u001b[0;34m)\u001b[0m\u001b[0;34m\u001b[0m\u001b[0m\n\u001b[0m\u001b[1;32m     22\u001b[0m \u001b[0;34m\u001b[0m\u001b[0m\n\u001b[1;32m     23\u001b[0m         \u001b[0;32mreturn\u001b[0m \u001b[0mx\u001b[0m\u001b[0;34m\u001b[0m\u001b[0m\n",
            "\u001b[0;32m<ipython-input-98-2f2bdd506623>\u001b[0m in \u001b[0;36mforward\u001b[0;34m(self, x)\u001b[0m\n\u001b[1;32m     49\u001b[0m         \u001b[0mself\u001b[0m\u001b[0;34m.\u001b[0m\u001b[0mx\u001b[0m \u001b[0;34m=\u001b[0m \u001b[0mx\u001b[0m\u001b[0;34m\u001b[0m\u001b[0m\n\u001b[1;32m     50\u001b[0m \u001b[0;34m\u001b[0m\u001b[0m\n\u001b[0;32m---> 51\u001b[0;31m         \u001b[0mout\u001b[0m \u001b[0;34m=\u001b[0m \u001b[0mnp\u001b[0m\u001b[0;34m.\u001b[0m\u001b[0mdot\u001b[0m\u001b[0;34m(\u001b[0m\u001b[0mself\u001b[0m\u001b[0;34m.\u001b[0m\u001b[0mx\u001b[0m\u001b[0;34m,\u001b[0m \u001b[0mself\u001b[0m\u001b[0;34m.\u001b[0m\u001b[0mW\u001b[0m\u001b[0;34m)\u001b[0m \u001b[0;34m+\u001b[0m \u001b[0mself\u001b[0m\u001b[0;34m.\u001b[0m\u001b[0mb\u001b[0m\u001b[0;34m\u001b[0m\u001b[0m\n\u001b[0m\u001b[1;32m     52\u001b[0m \u001b[0;34m\u001b[0m\u001b[0m\n\u001b[1;32m     53\u001b[0m         \u001b[0;32mreturn\u001b[0m \u001b[0mout\u001b[0m\u001b[0;34m\u001b[0m\u001b[0m\n",
            "\u001b[0;31mKeyboardInterrupt\u001b[0m: "
          ]
        }
      ]
    },
    {
      "metadata": {
        "id": "qA-NW0STfZdh",
        "colab_type": "code",
        "colab": {
          "base_uri": "https://localhost:8080/",
          "height": 34
        },
        "outputId": "af0aa51f-f317-49d8-e7af-f5f88343b8ba"
      },
      "cell_type": "code",
      "source": [
        "class MulLayer:\n",
        "  def __init__(self):\n",
        "    self.x = None\n",
        "    self.y = None\n",
        "    \n",
        "  def forward(self, x, y):\n",
        "    self.x = x\n",
        "    self.y = y\n",
        "    out = x*y\n",
        "    \n",
        "    return out\n",
        "  \n",
        "  def backward(self, dout):\n",
        "    dx = dout * self.y\n",
        "    dy = dout * self.x\n",
        "    \n",
        "    return dx, dy\n",
        "  \n",
        "  \n",
        "apple = 100\n",
        "apple_num = 2\n",
        "tax = 1.1\n",
        "\n",
        "mul_apple_layer = MulLayer()\n",
        "mul_tax_layer = MulLayer()\n",
        "\n",
        "apple_price = mul_apple_layer.forward(apple, apple_num)\n",
        "price = mul_tax_layer.forward(apple_price, tax)\n",
        "\n",
        "print(price)"
      ],
      "execution_count": 283,
      "outputs": [
        {
          "output_type": "stream",
          "text": [
            "220.00000000000003\n"
          ],
          "name": "stdout"
        }
      ]
    },
    {
      "metadata": {
        "id": "anyZ5qh54sOF",
        "colab_type": "code",
        "colab": {
          "base_uri": "https://localhost:8080/",
          "height": 34
        },
        "outputId": "bfea8558-6c8e-46a3-d171-65b09ed36c7c"
      },
      "cell_type": "code",
      "source": [
        "price"
      ],
      "execution_count": 284,
      "outputs": [
        {
          "output_type": "execute_result",
          "data": {
            "text/plain": [
              "220.00000000000003"
            ]
          },
          "metadata": {
            "tags": []
          },
          "execution_count": 284
        }
      ]
    },
    {
      "metadata": {
        "id": "xZ1hVVjv45Zk",
        "colab_type": "code",
        "colab": {
          "base_uri": "https://localhost:8080/",
          "height": 34
        },
        "outputId": "3890a783-fd29-4c21-d22a-0c8c1922fb48"
      },
      "cell_type": "code",
      "source": [
        "dprice = 1\n",
        "dapple_price, dtax = mul_tax_layer.backward(dprice)\n",
        "dapple, dapple_num = mul_apple_layer.backward(dapple_price)\n",
        "\n",
        "print(dapple, dapple_num, dtax)"
      ],
      "execution_count": 285,
      "outputs": [
        {
          "output_type": "stream",
          "text": [
            "2.2 110.00000000000001 200\n"
          ],
          "name": "stdout"
        }
      ]
    },
    {
      "metadata": {
        "id": "Zisdt5wd5WiQ",
        "colab_type": "code",
        "colab": {
          "base_uri": "https://localhost:8080/",
          "height": 51
        },
        "outputId": "547f205f-2350-4bc4-c489-c08bb9e89271"
      },
      "cell_type": "code",
      "source": [
        "class AddLayer:\n",
        "  def __init__(self):\n",
        "    pass\n",
        "  \n",
        "  def forward(self, x, y):\n",
        "    out = x + y\n",
        "    return out\n",
        "  \n",
        "  def backward(self, dout):\n",
        "    dx = dout * 1\n",
        "    dy = dout * 1\n",
        "    \n",
        "    return dx, dy\n",
        "  \n",
        "orange = 150\n",
        "orange_num = 3\n",
        "\n",
        "\n",
        "mul_orange_layer = MulLayer()\n",
        "add_apple_orange = AddLayer()\n",
        "\n",
        "\n",
        "apple_price = mul_apple_layer.forward(apple, apple_num)\n",
        "orange_price = mul_orange_layer.forward(orange, orange_num)\n",
        "all_price = add_apple_orange.forward(apple_price, orange_price)\n",
        "price = mul_tax_layer.forward(all_price, tax)\n",
        "\n",
        "dprice = 1\n",
        "dall_price, dtax = mul_tax_layer.backward(dprice)\n",
        "dapple_price, dorange_price = add_apple_orange.backward(dall_price)\n",
        "dorange, dorange_num = mul_orange_layer.backward(dorange_price)\n",
        "dapple, dapple_num = mul_apple_layer.backward(dapple_price)\n",
        "\n",
        "print(price)\n",
        "print(dapple, dapple_num, dorange, dorange_num, dtax)"
      ],
      "execution_count": 286,
      "outputs": [
        {
          "output_type": "stream",
          "text": [
            "715.0000000000001\n",
            "2.2 110.00000000000001 3.3000000000000003 165.0 650\n"
          ],
          "name": "stdout"
        }
      ]
    },
    {
      "metadata": {
        "id": "03EXPogo8Gvx",
        "colab_type": "code",
        "colab": {
          "base_uri": "https://localhost:8080/",
          "height": 51
        },
        "outputId": "b2571a6b-0f19-49c5-e9ec-a8b721de5951"
      },
      "cell_type": "code",
      "source": [
        "class Relu:\n",
        "  def __init__(self):\n",
        "    self.mask = None\n",
        "    \n",
        "  def forward(self, x):\n",
        "    self.mask = (x <= 0)\n",
        "    out = x.copy()\n",
        "    out[self.mask] = 0\n",
        "    \n",
        "    return out\n",
        "  \n",
        "  def backward(self, dout):\n",
        "    dout[self.mask] = 0\n",
        "    dx = dout\n",
        "    \n",
        "    return dx\n",
        "  \n",
        "x = np.array([[1.0, -0.5], [-2.0, 3.0]])\n",
        "print(x)"
      ],
      "execution_count": 287,
      "outputs": [
        {
          "output_type": "stream",
          "text": [
            "[[ 1.  -0.5]\n",
            " [-2.   3. ]]\n"
          ],
          "name": "stdout"
        }
      ]
    },
    {
      "metadata": {
        "id": "xJ3Ba6Wg89vr",
        "colab_type": "code",
        "colab": {}
      },
      "cell_type": "code",
      "source": [
        "mask = (x <= 0)"
      ],
      "execution_count": 0,
      "outputs": []
    },
    {
      "metadata": {
        "id": "Th8FMi2C9BU7",
        "colab_type": "code",
        "colab": {
          "base_uri": "https://localhost:8080/",
          "height": 51
        },
        "outputId": "cf8c7f34-d729-42f3-b1fe-d4d7bea1cf61"
      },
      "cell_type": "code",
      "source": [
        "print(mask)"
      ],
      "execution_count": 289,
      "outputs": [
        {
          "output_type": "stream",
          "text": [
            "[[False  True]\n",
            " [ True False]]\n"
          ],
          "name": "stdout"
        }
      ]
    },
    {
      "metadata": {
        "id": "pZm_asvo9C36",
        "colab_type": "code",
        "colab": {}
      },
      "cell_type": "code",
      "source": [
        "class Sigmoid:\n",
        "  def __init__(self):\n",
        "    self.out = None\n",
        "    \n",
        "  def forward(sefl, x):\n",
        "    out = sigmoid(x)\n",
        "    self.out = out\n",
        "    \n",
        "    return out\n",
        "  \n",
        "  def backward(self, dout):\n",
        "    dx = dout * (1.0 - self.out)  * self.out\n",
        "    return dx\n",
        "  \n"
      ],
      "execution_count": 0,
      "outputs": []
    },
    {
      "metadata": {
        "id": "n9MOdShC_hFd",
        "colab_type": "code",
        "colab": {
          "base_uri": "https://localhost:8080/",
          "height": 85
        },
        "outputId": "d159e64d-289b-4ef9-9ea9-32bc59d6f37f"
      },
      "cell_type": "code",
      "source": [
        "X = np.random.rand(2)\n",
        "W = np.random.rand(2, 3)\n",
        "B = np.random.rand(3)\n",
        "\n",
        "print(X.shape)\n",
        "print(W.shape)\n",
        "print(B.shape)\n",
        "\n",
        "Y = np.dot(X, W) + B\n",
        "\n",
        "print(Y)"
      ],
      "execution_count": 291,
      "outputs": [
        {
          "output_type": "stream",
          "text": [
            "(2,)\n",
            "(2, 3)\n",
            "(3,)\n",
            "[0.80799099 1.27947679 1.3104024 ]\n"
          ],
          "name": "stdout"
        }
      ]
    },
    {
      "metadata": {
        "id": "4P4DcwXc_3Gq",
        "colab_type": "code",
        "colab": {
          "base_uri": "https://localhost:8080/",
          "height": 85
        },
        "outputId": "1637c3e6-88dd-489f-daa4-a1ec58999351"
      },
      "cell_type": "code",
      "source": [
        "X_dot_W = np.array([[0, 0, 0], [10, 10, 10]])\n",
        "B = np.array([1, 2, 3])\n",
        "\n",
        "print(X_dot_W)\n",
        "print(X_dot_W + B)"
      ],
      "execution_count": 292,
      "outputs": [
        {
          "output_type": "stream",
          "text": [
            "[[ 0  0  0]\n",
            " [10 10 10]]\n",
            "[[ 1  2  3]\n",
            " [11 12 13]]\n"
          ],
          "name": "stdout"
        }
      ]
    },
    {
      "metadata": {
        "id": "rkcafqJMBzQv",
        "colab_type": "code",
        "colab": {
          "base_uri": "https://localhost:8080/",
          "height": 51
        },
        "outputId": "85210836-56b4-4bf9-e9dd-02e628af06e9"
      },
      "cell_type": "code",
      "source": [
        "dY = np.array([[1, 2, 3], [4, 5, 6]])\n",
        "dY"
      ],
      "execution_count": 293,
      "outputs": [
        {
          "output_type": "execute_result",
          "data": {
            "text/plain": [
              "array([[1, 2, 3],\n",
              "       [4, 5, 6]])"
            ]
          },
          "metadata": {
            "tags": []
          },
          "execution_count": 293
        }
      ]
    },
    {
      "metadata": {
        "id": "ZZILMn55B6p-",
        "colab_type": "code",
        "colab": {
          "base_uri": "https://localhost:8080/",
          "height": 34
        },
        "outputId": "e510777a-b92c-44ab-a9ef-85153ee15fe0"
      },
      "cell_type": "code",
      "source": [
        "dB = np.sum(dY, axis=0)\n",
        "print(dB)"
      ],
      "execution_count": 294,
      "outputs": [
        {
          "output_type": "stream",
          "text": [
            "[5 7 9]\n"
          ],
          "name": "stdout"
        }
      ]
    },
    {
      "metadata": {
        "id": "S1w3xQU3CB4-",
        "colab_type": "code",
        "colab": {}
      },
      "cell_type": "code",
      "source": [
        "class Affine:\n",
        "  def __init__(self, W, b):\n",
        "    self.W = W\n",
        "    self.b = b\n",
        "    self.x = None\n",
        "    self.dW = None\n",
        "    self.db = None\n",
        "    \n",
        "  def forward(self, x):\n",
        "    self.x = x\n",
        "    out = np.dot(self.x, self.W) + self.b\n",
        "    \n",
        "    return out\n",
        "  \n",
        "  def backward(self, dout):\n",
        "    dx = np.dot(dout, self.W.T)\n",
        "    self.dW = np.dot(self.x.T, dout)\n",
        "    self.db = np.sum(dout, axis=0)\n",
        "    \n",
        "    return dx\n"
      ],
      "execution_count": 0,
      "outputs": []
    },
    {
      "metadata": {
        "id": "Zm-ATaDpDCLH",
        "colab_type": "code",
        "colab": {}
      },
      "cell_type": "code",
      "source": [
        "class SoftmaxWithLoss:\n",
        "  def __init__(self):\n",
        "    self.loss = None\n",
        "    self.y = None\n",
        "    self.t = None\n",
        "    \n",
        "  def forward(self, x, t):\n",
        "    self.t = t\n",
        "    self.y = softmax(x)\n",
        "    self.loss = cross_entropy_error(self.y, self.t)\n",
        "    \n",
        "    return self.loss\n",
        "  \n",
        "  def backward(self, dout=1):\n",
        "    batch_size = self.t.shape[0]\n",
        "    if self.t.size == self.y.size:\n",
        "      dx = (self.y - self.t) / batch_size\n",
        "    else:\n",
        "      dx = self.y.copy()\n",
        "      dx[np.arange(batch_size), self.t] -=1\n",
        "      dx = dx / batch_size\n",
        "    \n",
        "    return dx\n"
      ],
      "execution_count": 0,
      "outputs": []
    },
    {
      "metadata": {
        "id": "Dbjlzu1_FiCZ",
        "colab_type": "code",
        "colab": {}
      },
      "cell_type": "code",
      "source": [
        "from collections import OrderedDict\n",
        "class TwoLayerNet:\n",
        "  def __init__(self, input_size, hidden_size, output_size, weight_init_std=0.01):\n",
        "    self.params = {}\n",
        "    self.params['W1'] = weight_init_std * np.random.randn(input_size, hidden_size)\n",
        "    self.params['b1'] = np.zeros(hidden_size)\n",
        "    self.params['W2'] = weight_init_std * np.random.randn(hidden_size, output_size)\n",
        "    self.params['b2'] = np.zeros(output_size)\n",
        "    \n",
        "    self.layers = OrderedDict()\n",
        "    self.layers['Affine1'] = Affine(self.params['W1'], self.params['b1'])\n",
        "    self.layers['Relu1'] = Relu()\n",
        "    self.layers['Affine2'] = Affine(self.params['W2'], self.params['b2'])\n",
        "    \n",
        "    self.lastLayer = SoftmaxWithLoss()\n",
        "    \n",
        "  def predict(self, x):\n",
        "    for layer in self.layers.values():\n",
        "      x = layer.forward(x)\n",
        "    \n",
        "    return x\n",
        "  \n",
        "  def loss(self, x, t):\n",
        "    y = self.predict(x)\n",
        "    return self.lastLayer.forward(y, t)\n",
        "  \n",
        "  def accuracy(self, x, t):\n",
        "    y = self.predict(x)\n",
        "    y = np.argmax(y, axis=1)\n",
        "    if t.ndim != 1 : t = np.argmax(t, axis=1)\n",
        "    \n",
        "    accuracy = np.sum(y == t) / float(x.shape[0])\n",
        "    return accuracy\n",
        "  \n",
        "  def numerical_gradient(self, x, t):\n",
        "    loss_W = lambda W: self.loss(x, t)\n",
        "    \n",
        "    grads  = {}\n",
        "    \n",
        "    grads['W1'] = numerical_gradient(loss_W, self.params['W1'])\n",
        "    grads['b1'] = numerical_gradient(loss_W, self.params['b1'])\n",
        "    grads['W2'] = numerical_gradient(loss_W, self.params['W2'])\n",
        "    grads['b2'] = numerical_gradient(loss_W, self.params['b2'])\n",
        "    \n",
        "    return grads\n",
        "  \n",
        "  def gradient(self, x, t):\n",
        "    self.loss(x, t)\n",
        "    \n",
        "    dout = 1\n",
        "    dout = self.lastLayer.backward(dout)\n",
        "    \n",
        "    layers = list(self.layers.values())\n",
        "    layers.reverse()\n",
        "    for layer in layers:\n",
        "      dout = layer.backward(dout)\n",
        "      \n",
        "    grads  = {}\n",
        "    \n",
        "    grads['W1'] = self.layers['Affine1'].dW\n",
        "    grads['b1'] = self.layers['Affine1'].db\n",
        "    grads['W2'] = self.layers['Affine2'].dW\n",
        "    grads['b2'] = self.layers['Affine2'].db\n",
        "    \n",
        "    return grads"
      ],
      "execution_count": 0,
      "outputs": []
    },
    {
      "metadata": {
        "id": "Sn5-TqYPHoyb",
        "colab_type": "code",
        "colab": {
          "base_uri": "https://localhost:8080/",
          "height": 85
        },
        "outputId": "a3b703e6-ffef-44ee-db79-1ca56dc8ddb5"
      },
      "cell_type": "code",
      "source": [
        "(x_train,t_train),(x_test,t_test) = load_mnist(normalize=True, one_hot_label=True)\n",
        "\n",
        "network = TwoLayerNet(input_size=784, hidden_size=50, output_size=10)\n",
        "\n",
        "x_batch = x_train[:3]\n",
        "t_batch = t_train[:3]\n",
        "\n",
        "grad_numerical = network.numerical_gradient(x_batch, t_batch)\n",
        "grad_backprop = network.gradient(x_batch, t_batch)\n",
        "\n",
        "for key in grad_numerical.keys():\n",
        "  diff = np.average(np.abs(grad_backprop[key] - grad_numerical[key]))\n",
        "  print(key+\":\"+str(diff))"
      ],
      "execution_count": 298,
      "outputs": [
        {
          "output_type": "stream",
          "text": [
            "W1:4.0350888248089804e-10\n",
            "b1:2.5601851560050328e-09\n",
            "W2:4.921288238839334e-09\n",
            "b2:1.3994822554014296e-07\n"
          ],
          "name": "stdout"
        }
      ]
    },
    {
      "metadata": {
        "id": "ihRWaBsRIzOl",
        "colab_type": "code",
        "colab": {
          "base_uri": "https://localhost:8080/",
          "height": 636
        },
        "outputId": "1a1c2b46-fb5c-452e-c3ff-43f2c429e89b"
      },
      "cell_type": "code",
      "source": [
        "(x_train,t_train),(x_test,t_test) = load_mnist(normalize=True, one_hot_label=True)\n",
        "\n",
        "iters_num = 10000\n",
        "train_size = x_train.shape[0]\n",
        "batch_size = 100\n",
        "learning_rate = 0.1\n",
        "\n",
        "train_loss_list = []\n",
        "train_acc_list = []\n",
        "test_acc_list = []\n",
        "\n",
        "network = TwoLayerNet(input_size=784, hidden_size=100, output_size=10)\n",
        "\n",
        "iter_per_epoch = max(train_size / batch_size, 1)\n",
        "\n",
        "for i in range(iters_num):\n",
        "  batch_mask = np.random.choice(train_size, batch_size)\n",
        "  x_batch = x_train[batch_mask]\n",
        "  t_batch = t_train[batch_mask]\n",
        "  \n",
        "  grad = network.gradient(x_batch, t_batch)\n",
        "  \n",
        "  for key in ('W1', 'b1', 'W2', 'b2'):\n",
        "    network.params[key] -= learning_rate * grad[key]\n",
        "  \n",
        "  loss = network.loss(x_batch, t_batch)\n",
        "  train_loss_list.append(loss)\n",
        "  \n",
        "  if i % iter_per_epoch == 0:\n",
        "    train_acc = network.accuracy(x_train, t_train)\n",
        "    test_acc = network.accuracy(x_test, t_test)\n",
        "    train_acc_list.append(train_acc)\n",
        "    test_acc_list.append(test_acc)\n",
        "    print(train_acc, test_acc)\n",
        "\n",
        "x = np.arange(len(train_acc_list))\n",
        "plot.plot(x, train_acc_list)\n",
        "plot.plot(x, test_acc_list, linestyle='--')\n",
        "plot.show()"
      ],
      "execution_count": 299,
      "outputs": [
        {
          "output_type": "stream",
          "text": [
            "0.12931666666666666 0.1292\n",
            "0.9072 0.9106\n",
            "0.9259166666666667 0.9266\n",
            "0.9397833333333333 0.9396\n",
            "0.94815 0.9465\n",
            "0.95525 0.9527\n",
            "0.9612 0.9585\n",
            "0.9649166666666666 0.9614\n",
            "0.9688 0.9657\n",
            "0.9707166666666667 0.9662\n",
            "0.9736166666666667 0.9674\n",
            "0.9757166666666667 0.9708\n",
            "0.9771333333333333 0.9702\n",
            "0.9789833333333333 0.9711\n",
            "0.98075 0.9725\n",
            "0.9809833333333333 0.9725\n",
            "0.983 0.9723\n"
          ],
          "name": "stdout"
        },
        {
          "output_type": "display_data",
          "data": {
            "image/png": "[encoded data removed]",
            "text/plain": [
              "<matplotlib.figure.Figure at 0x7fa2933d7f28>"
            ]
          },
          "metadata": {
            "tags": []
          }
        }
      ]
    },
    {
      "metadata": {
        "id": "MDx8GV_UATSi",
        "colab_type": "code",
        "colab": {}
      },
      "cell_type": "code",
      "source": [
        "class Relu:\n",
        "    def __init__(self):\n",
        "        self.mask = None\n",
        "\n",
        "    def forward(self, x):\n",
        "        self.mask = (x <= 0)\n",
        "        out = x.copy()\n",
        "        out[self.mask] = 0\n",
        "\n",
        "        return out\n",
        "\n",
        "    def backward(self, dout):\n",
        "        dout[self.mask] = 0\n",
        "        dx = dout\n",
        "\n",
        "        return dx\n",
        "\n",
        "\n",
        "class Sigmoid:\n",
        "    def __init__(self):\n",
        "        self.out = None\n",
        "\n",
        "    def forward(self, x):\n",
        "        out = sigmoid(x)\n",
        "        self.out = out\n",
        "        return out\n",
        "\n",
        "    def backward(self, dout):\n",
        "        dx = dout * (1.0 - self.out) * self.out\n",
        "\n",
        "        return dx\n",
        "\n",
        "\n",
        "class Affine:\n",
        "    def __init__(self, W, b):\n",
        "        self.W =W\n",
        "        self.b = b\n",
        "        \n",
        "        self.x = None\n",
        "        self.original_x_shape = None\n",
        "        # 重み・バイアスパラメータの微分\n",
        "        self.dW = None\n",
        "        self.db = None\n",
        "\n",
        "    def forward(self, x):\n",
        "        # テンソル対応\n",
        "        self.original_x_shape = x.shape\n",
        "        x = x.reshape(x.shape[0], -1)\n",
        "        self.x = x\n",
        "\n",
        "        out = np.dot(self.x, self.W) + self.b\n",
        "\n",
        "        return out\n",
        "\n",
        "    def backward(self, dout):\n",
        "        dx = np.dot(dout, self.W.T)\n",
        "        self.dW = np.dot(self.x.T, dout)\n",
        "        self.db = np.sum(dout, axis=0)\n",
        "        \n",
        "        dx = dx.reshape(*self.original_x_shape)  # 入力データの形状に戻す（テンソル対応）\n",
        "        return dx\n",
        "\n",
        "\n",
        "class SoftmaxWithLoss:\n",
        "    def __init__(self):\n",
        "        self.loss = None\n",
        "        self.y = None # softmaxの出力\n",
        "        self.t = None # 教師データ\n",
        "\n",
        "    def forward(self, x, t):\n",
        "        self.t = t\n",
        "        self.y = softmax(x)\n",
        "        self.loss = cross_entropy_error(self.y, self.t)\n",
        "        \n",
        "        return self.loss\n",
        "\n",
        "    def backward(self, dout=1):\n",
        "        batch_size = self.t.shape[0]\n",
        "        if self.t.size == self.y.size: # 教師データがone-hot-vectorの場合\n",
        "            dx = (self.y - self.t) / batch_size\n",
        "        else:\n",
        "            dx = self.y.copy()\n",
        "            dx[np.arange(batch_size), self.t] -= 1\n",
        "            dx = dx / batch_size\n",
        "        \n",
        "        return dx\n"
      ],
      "execution_count": 0,
      "outputs": []
    },
    {
      "metadata": {
        "id": "X1iyztT_AEjL",
        "colab_type": "code",
        "colab": {}
      },
      "cell_type": "code",
      "source": [
        "class TwoLayerNet:\n",
        "\n",
        "    def __init__(self, input_size, hidden_size, output_size, weight_init_std = 0.01):\n",
        "        # 重みの初期化\n",
        "        self.params = {}\n",
        "        self.params['W1'] = weight_init_std * np.random.randn(input_size, hidden_size)\n",
        "        self.params['b1'] = np.zeros(hidden_size)\n",
        "        self.params['W2'] = weight_init_std * np.random.randn(hidden_size, output_size) \n",
        "        self.params['b2'] = np.zeros(output_size)\n",
        "\n",
        "        # レイヤの生成\n",
        "        self.layers = OrderedDict()\n",
        "        self.layers['Affine1'] = Affine(self.params['W1'], self.params['b1'])\n",
        "        self.layers['Relu1'] = Relu()\n",
        "        self.layers['Affine2'] = Affine(self.params['W2'], self.params['b2'])\n",
        "\n",
        "        self.lastLayer = SoftmaxWithLoss()\n",
        "        \n",
        "    def predict(self, x):\n",
        "        for layer in self.layers.values():\n",
        "            x = layer.forward(x)\n",
        "        \n",
        "        return x\n",
        "        \n",
        "    # x:入力データ, t:教師データ\n",
        "    def loss(self, x, t):\n",
        "        y = self.predict(x)\n",
        "        return self.lastLayer.forward(y, t)\n",
        "    \n",
        "    def accuracy(self, x, t):\n",
        "        y = self.predict(x)\n",
        "        y = np.argmax(y, axis=1)\n",
        "        if t.ndim != 1 : t = np.argmax(t, axis=1)\n",
        "        \n",
        "        accuracy = np.sum(y == t) / float(x.shape[0])\n",
        "        return accuracy\n",
        "        \n",
        "    # x:入力データ, t:教師データ\n",
        "    def numerical_gradient(self, x, t):\n",
        "        loss_W = lambda W: self.loss(x, t)\n",
        "        \n",
        "        grads = {}\n",
        "        grads['W1'] = numerical_gradient(loss_W, self.params['W1'])\n",
        "        grads['b1'] = numerical_gradient(loss_W, self.params['b1'])\n",
        "        grads['W2'] = numerical_gradient(loss_W, self.params['W2'])\n",
        "        grads['b2'] = numerical_gradient(loss_W, self.params['b2'])\n",
        "        \n",
        "        return grads\n",
        "        \n",
        "    def gradient(self, x, t):\n",
        "        # forward\n",
        "        self.loss(x, t)\n",
        "\n",
        "        # backward\n",
        "        dout = 1\n",
        "        dout = self.lastLayer.backward(dout)\n",
        "        \n",
        "        layers = list(self.layers.values())\n",
        "        layers.reverse()\n",
        "        for layer in layers:\n",
        "            dout = layer.backward(dout)\n",
        "\n",
        "        # 設定\n",
        "        grads = {}\n",
        "        grads['W1'], grads['b1'] = self.layers['Affine1'].dW, self.layers['Affine1'].db\n",
        "        grads['W2'], grads['b2'] = self.layers['Affine2'].dW, self.layers['Affine2'].db\n",
        "\n",
        "        return grads\n",
        "      "
      ],
      "execution_count": 0,
      "outputs": []
    },
    {
      "metadata": {
        "id": "MhXnD5xs2Rbo",
        "colab_type": "code",
        "colab": {
          "base_uri": "https://localhost:8080/",
          "height": 306
        },
        "outputId": "e4e5fdd3-9980-48cd-ce9d-58aa7375a4ff"
      },
      "cell_type": "code",
      "source": [
        "(x_train, t_train), (x_test, t_test) = load_mnist(normalize=True, one_hot_label=True)\n",
        "\n",
        "network = TwoLayerNet(input_size=784, hidden_size=50, output_size=10)\n",
        "\n",
        "iters_num = 10000\n",
        "train_size = x_train.shape[0]\n",
        "batch_size = 100\n",
        "learning_rate = 0.01\n",
        "\n",
        "train_loss_list = []\n",
        "train_acc_list = []\n",
        "test_acc_list = []\n",
        "\n",
        "iter_per_epoch = max(train_size / batch_size, 1)\n",
        "\n",
        "for i in range(iters_num):\n",
        "    batch_mask = np.random.choice(train_size, batch_size)\n",
        "    x_batch = x_train[batch_mask]\n",
        "    t_batch = t_train[batch_mask]\n",
        "    \n",
        "    # 勾配\n",
        "    #grad = network.numerical_gradient(x_batch, t_batch)\n",
        "    grad = network.gradient(x_batch, t_batch)\n",
        "    \n",
        "    # 更新\n",
        "    for key in ('W1', 'b1', 'W2', 'b2'):\n",
        "        network.params[key] -= learning_rate * grad[key]\n",
        "    \n",
        "    loss = network.loss(x_batch, t_batch)\n",
        "    train_loss_list.append(loss)\n",
        "    \n",
        "    if i % iter_per_epoch == 0:\n",
        "        train_acc = network.accuracy(x_train, t_train)\n",
        "        test_acc = network.accuracy(x_test, t_test)\n",
        "        train_acc_list.append(train_acc)\n",
        "        test_acc_list.append(test_acc)\n",
        "        print(train_acc, test_acc)"
      ],
      "execution_count": 302,
      "outputs": [
        {
          "output_type": "stream",
          "text": [
            "0.09686666666666667 0.0966\n",
            "0.49678333333333335 0.4853\n",
            "0.7727 0.7768\n",
            "0.8426 0.8471\n",
            "0.8691333333333333 0.8747\n",
            "0.8828333333333334 0.8875\n",
            "0.8918333333333334 0.8945\n",
            "0.8954166666666666 0.8977\n",
            "0.90025 0.9015\n",
            "0.9027666666666667 0.9047\n",
            "0.9061833333333333 0.9071\n",
            "0.9077 0.9109\n",
            "0.9108833333333334 0.9135\n",
            "0.91205 0.9146\n",
            "0.9136333333333333 0.9162\n",
            "0.9159666666666667 0.9194\n",
            "0.9182166666666667 0.9207\n"
          ],
          "name": "stdout"
        }
      ]
    },
    {
      "metadata": {
        "id": "Y4llhl_b_7XE",
        "colab_type": "code",
        "colab": {}
      },
      "cell_type": "code",
      "source": [
        "class SGD:\n",
        "  def __init__(self, lr=0.01):\n",
        "    self.lr = lr\n",
        "  \n",
        "  def update(self, params, grads):\n",
        "    for key in params.keys():\n",
        "      params[key] -= self.lr * grads[key]"
      ],
      "execution_count": 0,
      "outputs": []
    },
    {
      "metadata": {
        "id": "SEzfG4UGEgwq",
        "colab_type": "code",
        "colab": {}
      },
      "cell_type": "code",
      "source": [
        "class Momentum:\n",
        "  def __init__(self, lr=0.01, momentum=0.9):\n",
        "    self.lr = lr\n",
        "    self.momentum = momentum\n",
        "    self.v = None\n",
        "    \n",
        "  def update(self, params, grads):\n",
        "    if self.v is None:\n",
        "      self.v = {}\n",
        "      for key, val in params.items():\n",
        "        self.v[key] = np.zeros_like(val)\n",
        "        \n",
        "    for kry in params.keys():\n",
        "      self.v[key] = self.momentum*self.v[key] - self.lr*grads[key]\n",
        "      params[key] += self.v[key]"
      ],
      "execution_count": 0,
      "outputs": []
    },
    {
      "metadata": {
        "id": "_-mqEGFzGxSO",
        "colab_type": "code",
        "colab": {}
      },
      "cell_type": "code",
      "source": [
        "class AdaGrad:\n",
        "  def __init__(self, lr=0.01):\n",
        "    self.lr = lr\n",
        "    self.h = None\n",
        "  \n",
        "  def update(self, params, grads):\n",
        "    if self.h == None:\n",
        "      self.h = {}\n",
        "      for key, val in params.items():\n",
        "        self.h[key] = np.zeros_like(val)\n",
        "    \n",
        "    for key in params.keys():\n",
        "      self.h[key] += grads[key] * grads[key]\n",
        "      params[key] -= self.lr * grads[key] / (np.sqrt(self.h[key]) + 1e-7)"
      ],
      "execution_count": 0,
      "outputs": []
    },
    {
      "metadata": {
        "id": "k8jf7OAPOzVh",
        "colab_type": "code",
        "colab": {}
      },
      "cell_type": "code",
      "source": [
        "def im2col(input_data, filter_h, filter_w, stride=1, pad=0):\n",
        "  N, C, H, W = input_data.shape\n",
        "  out_h = (H + 2 * pad - filter_h) // stride + 1\n",
        "  out_w = (W + 2 * pad - filter_w) // stride + 1\n",
        "  \n",
        "  img = np.pad(input_data, [(0,0), (0,0), (pad, pad), (pad, pad)], 'constant')\n",
        "  col = np.zeros((N, C, filter_h, filter_w, out_h, out_w))\n",
        "  \n",
        "  for y in range(filter_h):\n",
        "    y_max = y + stride*out_h\n",
        "    for x in range(filter_w):\n",
        "      x_max = x + stride*out_w\n",
        "      col[:, :, y, x, :, :] = img[:, :, y:y_max:stride, x:x_max:stride]\n",
        "  \n",
        "  col = col.transpose(0, 4, 5, 1, 2, 3).reshape(N*out_h*out_w, -1)\n",
        "  return col\n"
      ],
      "execution_count": 0,
      "outputs": []
    },
    {
      "metadata": {
        "id": "ZkH8NXsff4YL",
        "colab_type": "code",
        "colab": {
          "base_uri": "https://localhost:8080/",
          "height": 51
        },
        "outputId": "3a3daede-a99e-470c-fa08-5790ed92489f"
      },
      "cell_type": "code",
      "source": [
        "x1 = np.random.rand(1, 3, 7, 7)\n",
        "col1 = im2col(x1, 5, 5)\n",
        "print(col1.shape)\n",
        "\n",
        "x2 = np.random.rand(10, 3, 7, 7)\n",
        "col2 = im2col(x2, 5, 5)\n",
        "print(col2.shape)"
      ],
      "execution_count": 307,
      "outputs": [
        {
          "output_type": "stream",
          "text": [
            "(9, 75)\n",
            "(90, 75)\n"
          ],
          "name": "stdout"
        }
      ]
    },
    {
      "metadata": {
        "id": "3OmiI2OugWCb",
        "colab_type": "code",
        "colab": {}
      },
      "cell_type": "code",
      "source": [
        "class Convolution:\n",
        "  def __init__(self, W, b, stride=1, pad=0):\n",
        "    self.W = W\n",
        "    self.b = b\n",
        "    self.stride = stride\n",
        "    self.pad = pad\n",
        "    \n",
        "    self.x = None   \n",
        "    self.col = None\n",
        "    self.col_W = None\n",
        "        \n",
        "    self.dW = None\n",
        "    self.db = None\n",
        "    \n",
        "  def forward(self, x):\n",
        "    FN, C, FH, FW = self.W.shape\n",
        "    N, C, H, W = x.shape\n",
        "    out_h = int(1 + (H + 2*self.pad - FH) / self.stride)\n",
        "    out_w = int(1 + (W + 2*self.pad - FW) / self.stride)\n",
        "    \n",
        "    col = im2col(x, FH, FW, self.stride, self.pad)\n",
        "    col_W = self.W.reshape(FN, -1).T\n",
        "    out = np.dot(col, col_W) + self.b\n",
        "    \n",
        "    out = out.reshape(N, out_h, out_w, -1).transpose(0, 3, 1, 2)\n",
        "    \n",
        "    self.x = x\n",
        "    self.col = col\n",
        "    self.col_W = col_W\n",
        "    \n",
        "    return out\n",
        "  \n",
        "  def backward(self, dout):\n",
        "    FN, C, FH, FW, = self.W.shape\n",
        "    dout = dout.transpose(0, 2, 3, 1).reshape(-1, FN)\n",
        "    \n",
        "    self.db = np.sum(dout, axis=0)\n",
        "    self.dW = np.dot(self.col.T, dout)\n",
        "    self.dW = self.dW.transpose(1, 0).reshape(FN, C, FH, FW)\n",
        "    \n",
        "    dcol = np.dot(dout, self.col_W.T)\n",
        "    dx = col2im(dcol, self.x.shape, FH, FW, self.stride, self.pad)\n",
        "    \n",
        "    return dx"
      ],
      "execution_count": 0,
      "outputs": []
    },
    {
      "metadata": {
        "id": "e6HultCnkx6O",
        "colab_type": "code",
        "colab": {}
      },
      "cell_type": "code",
      "source": [
        "def col2im(col, input_shape, filter_h, filter_w, stride=1, pad=0):\n",
        "  N, C, H, W = input_shape\n",
        "  out_h = (H + 2*pad - filter_h) // stride + 1\n",
        "  out_w = (W + 2*pad - filter_w) // stride + 1 \n",
        "  col = col.reshape(N, out_h, out_w, C, filter_h, filter_w).transpose(0, 3, 4, 5, 1, 2)\n",
        "  \n",
        "  img = np.zeros((N, C, H + 2*pad + stride - 1, W + 2*pad + stride - 1))\n",
        "  for y in range(filter_h):\n",
        "    y_max = y + stride*out_h\n",
        "    for x in range(filter_w):\n",
        "      x_max = x + stride*out_w\n",
        "      img[:, :, y:y_max:stride, x:x_max:stride] += col[:, :, y, x, :, :]\n",
        "      \n",
        "  return img[:, :, pad:H + pad, pad:W + pad]"
      ],
      "execution_count": 0,
      "outputs": []
    },
    {
      "metadata": {
        "id": "EA9u-EnDmi2S",
        "colab_type": "code",
        "colab": {}
      },
      "cell_type": "code",
      "source": [
        "class Pooling:\n",
        "    def __init__(self, pool_h, pool_w, stride=1, pad=0):\n",
        "        self.pool_h = pool_h\n",
        "        self.pool_w = pool_w\n",
        "        self.stride = stride\n",
        "        self.pad = pad\n",
        "        \n",
        "        self.x = None\n",
        "        self.arg_max = None\n",
        "\n",
        "    def forward(self, x):\n",
        "        N, C, H, W = x.shape\n",
        "        out_h = int(1 + (H - self.pool_h) / self.stride)\n",
        "        out_w = int(1 + (W - self.pool_w) / self.stride)\n",
        "\n",
        "        col = im2col(x, self.pool_h, self.pool_w, self.stride, self.pad)\n",
        "        col = col.reshape(-1, self.pool_h*self.pool_w)\n",
        "\n",
        "        arg_max = np.argmax(col, axis=1)\n",
        "        out = np.max(col, axis=1)\n",
        "        out = out.reshape(N, out_h, out_w, C).transpose(0, 3, 1, 2)\n",
        "\n",
        "        self.x = x\n",
        "        self.arg_max = arg_max\n",
        "\n",
        "        return out\n",
        "\n",
        "    def backward(self, dout):\n",
        "        dout = dout.transpose(0, 2, 3, 1)\n",
        "        \n",
        "        pool_size = self.pool_h * self.pool_w\n",
        "        dmax = np.zeros((dout.size, pool_size))\n",
        "        dmax[np.arange(self.arg_max.size), self.arg_max.flatten()] = dout.flatten()\n",
        "        dmax = dmax.reshape(dout.shape + (pool_size,)) \n",
        "        \n",
        "        dcol = dmax.reshape(dmax.shape[0] * dmax.shape[1] * dmax.shape[2], -1)\n",
        "        dx = col2im(dcol, self.x.shape, self.pool_h, self.pool_w, self.stride, self.pad)\n",
        "        \n",
        "        return dx"
      ],
      "execution_count": 0,
      "outputs": []
    },
    {
      "metadata": {
        "id": "rP2ZldogALYN",
        "colab_type": "code",
        "colab": {}
      },
      "cell_type": "code",
      "source": [
        "import pickle\n",
        "\n",
        "class SimpleConvNet:\n",
        "  def __init__(self, input_dim=(1, 28, 28),\n",
        "               conv_param={'filter_num':30, 'filter_size':5, 'pad':0, 'stride':1},\n",
        "              hidden_size=100, output_size=10, weight_init_std=0.01):\n",
        "    filter_num  = conv_param['filter_num']\n",
        "    filter_size = conv_param['filter_size']\n",
        "    filter_pad  = conv_param['pad']\n",
        "    filter_stride = conv_param['stride']\n",
        "    input_size = input_dim[1]\n",
        "    conv_output_size = (input_size - filter_size + 2*filter_pad) / filter_stride +1\n",
        "    pool_output_size = int(filter_num * (conv_output_size/2) * (conv_output_size/2))\n",
        "    \n",
        "    self.params = {}\n",
        "    self.params['W1'] = weight_init_std * np.random.randn(filter_num, input_dim[0], filter_size, filter_size)\n",
        "    self.params['b1'] = np.zeros(filter_num)\n",
        "    self.params['W2'] = weight_init_std * np.random.randn(pool_output_size, hidden_size)\n",
        "    self.params['b2'] = np.zeros(hidden_size)\n",
        "    self.params['W3'] = weight_init_std * np.random.randn(hidden_size, output_size)\n",
        "    self.params['b3'] = np.zeros(output_size)\n",
        "    \n",
        "    self.layers = OrderedDict()\n",
        "    self.layers['Conv1'] = Convolution(self.params['W1'], self.params['b1'], conv_param['stride'], conv_param['pad'])\n",
        "    self.layers['Relu1'] = Relu()\n",
        "    self.layers['Pool1'] = Pooling(pool_h=2, pool_w=2, stride=2)\n",
        "    self.layers['Affine1'] = Affine(self.params['W2'], self.params['b2'])\n",
        "    self.layers['Relu2'] = Relu()\n",
        "    self.layers['Affine2'] = Affine(self.params['W3'], self.params['b3'])\n",
        "    \n",
        "    self.last_layer = SoftmaxWithLoss()\n",
        "    \n",
        "  def predict(self, x):\n",
        "    for layer in self.layers.values():\n",
        "      x = layer.forward(x)\n",
        "      \n",
        "    return x\n",
        "  \n",
        "  def loss(self, x, t):\n",
        "    y = self.predict(x)\n",
        "    return self.last_layer.forward(y, t)\n",
        "  \n",
        "  def accuracy(self, x, t, batch_size=100):\n",
        "    if t.ndim != 1 : t = np.argmax(t, axis=1)\n",
        "    \n",
        "    acc = 0.0\n",
        "    \n",
        "    for i in range(int(x.shape[0] / batch_size)):\n",
        "      tx = x[i*batch_size:(i+1)*batch_size]\n",
        "      tt = t[i*batch_size:(i+1)*batch_size]\n",
        "      y = self.predict(tx)\n",
        "      y = np.argmax(y, axis=1)\n",
        "      acc += np.sum(y == tt)\n",
        "      \n",
        "    return acc / x.shape[0]\n",
        "  \n",
        "  def numerical_gradient(self, x, t):\n",
        "    loss_w = lambda w : self.loss(x, t)\n",
        "    \n",
        "    grads = {}\n",
        "    for idx in (1, 2, 3):\n",
        "      grads['W'+str(idx)] = numerical_gradient(loss_w, self.params['W'+str(idx)])\n",
        "      grads['b'+str(idx)] = numerical_gradient(loss_w, self.params['b'+str(idx)])\n",
        "    \n",
        "    return grads\n",
        "  \n",
        "  def gradient(self, x, t):\n",
        "    self.loss(x, t)\n",
        "    \n",
        "    dout = 1\n",
        "    dout = self.last_layer.backward(dout)\n",
        "    \n",
        "    layers = list(self.layers.values())\n",
        "    layers.reverse()\n",
        "    for layer in layers:\n",
        "      dout  = layer.backward(dout)\n",
        "    \n",
        "    grads = {}\n",
        "    grads['W1'], grads['b1'] = self.layers['Conv1'].dW, self.layers['Conv1'].db\n",
        "    grads['W2'], grads['b2'] = self.layers['Affine1'].dW, self.layers['Affine1'].db\n",
        "    grads['W3'], grads['b3'] = self.layers['Affine2'].dW, self.layers['Affine2'].db\n",
        "    \n",
        "    return grads\n",
        "  \n",
        "  def save_params(self, file_name=\"params.pkl\"):\n",
        "    params = {}\n",
        "    for key, val in self.params.items():\n",
        "      params[key] = val\n",
        "    with open(file_name, 'wb') as f:\n",
        "      pickle.dump(params, f)\n",
        "    \n",
        "  def load_params(self, file_name=\"params.pkl\"):\n",
        "    with open(file_name, 'rb') as f:\n",
        "      params = pickle.load(f)\n",
        "    for key, val in params.items():\n",
        "      self.params[key] = val\n",
        "      \n",
        "    for i, key in enumerate(['Conv1', 'Affine1', 'Affine2']):\n",
        "      self.layers[key].W = self.params['W'+str(i+1)]\n",
        "      self.layers[key].b = self.params['b'+str(i+1)]"
      ],
      "execution_count": 0,
      "outputs": []
    },
    {
      "metadata": {
        "id": "_LNXuOzPIteu",
        "colab_type": "code",
        "colab": {}
      },
      "cell_type": "code",
      "source": [
        "import numpy as np\n",
        "\n",
        "class SGD:\n",
        "\n",
        "    \"\"\"確率的勾配降下法（Stochastic Gradient Descent）\"\"\"\n",
        "\n",
        "    def __init__(self, lr=0.01):\n",
        "        self.lr = lr\n",
        "        \n",
        "    def update(self, params, grads):\n",
        "        for key in params.keys():\n",
        "            params[key] -= self.lr * grads[key] \n",
        "\n",
        "\n",
        "class Momentum:\n",
        "\n",
        "    \"\"\"Momentum SGD\"\"\"\n",
        "\n",
        "    def __init__(self, lr=0.01, momentum=0.9):\n",
        "        self.lr = lr\n",
        "        self.momentum = momentum\n",
        "        self.v = None\n",
        "        \n",
        "    def update(self, params, grads):\n",
        "        if self.v is None:\n",
        "            self.v = {}\n",
        "            for key, val in params.items():                                \n",
        "                self.v[key] = np.zeros_like(val)\n",
        "                \n",
        "        for key in params.keys():\n",
        "            self.v[key] = self.momentum*self.v[key] - self.lr*grads[key] \n",
        "            params[key] += self.v[key]\n",
        "\n",
        "\n",
        "class Nesterov:\n",
        "\n",
        "    \"\"\"Nesterov's Accelerated Gradient (http://arxiv.org/abs/1212.0901)\"\"\"\n",
        "\n",
        "    def __init__(self, lr=0.01, momentum=0.9):\n",
        "        self.lr = lr\n",
        "        self.momentum = momentum\n",
        "        self.v = None\n",
        "        \n",
        "    def update(self, params, grads):\n",
        "        if self.v is None:\n",
        "            self.v = {}\n",
        "            for key, val in params.items():\n",
        "                self.v[key] = np.zeros_like(val)\n",
        "            \n",
        "        for key in params.keys():\n",
        "            self.v[key] *= self.momentum\n",
        "            self.v[key] -= self.lr * grads[key]\n",
        "            params[key] += self.momentum * self.momentum * self.v[key]\n",
        "            params[key] -= (1 + self.momentum) * self.lr * grads[key]\n",
        "\n",
        "\n",
        "class AdaGrad:\n",
        "\n",
        "    \"\"\"AdaGrad\"\"\"\n",
        "\n",
        "    def __init__(self, lr=0.01):\n",
        "        self.lr = lr\n",
        "        self.h = None\n",
        "        \n",
        "    def update(self, params, grads):\n",
        "        if self.h is None:\n",
        "            self.h = {}\n",
        "            for key, val in params.items():\n",
        "                self.h[key] = np.zeros_like(val)\n",
        "            \n",
        "        for key in params.keys():\n",
        "            self.h[key] += grads[key] * grads[key]\n",
        "            params[key] -= self.lr * grads[key] / (np.sqrt(self.h[key]) + 1e-7)\n",
        "\n",
        "\n",
        "class RMSprop:\n",
        "\n",
        "    \"\"\"RMSprop\"\"\"\n",
        "\n",
        "    def __init__(self, lr=0.01, decay_rate = 0.99):\n",
        "        self.lr = lr\n",
        "        self.decay_rate = decay_rate\n",
        "        self.h = None\n",
        "        \n",
        "    def update(self, params, grads):\n",
        "        if self.h is None:\n",
        "            self.h = {}\n",
        "            for key, val in params.items():\n",
        "                self.h[key] = np.zeros_like(val)\n",
        "            \n",
        "        for key in params.keys():\n",
        "            self.h[key] *= self.decay_rate\n",
        "            self.h[key] += (1 - self.decay_rate) * grads[key] * grads[key]\n",
        "            params[key] -= self.lr * grads[key] / (np.sqrt(self.h[key]) + 1e-7)\n",
        "\n",
        "\n",
        "class Adam:\n",
        "\n",
        "    \"\"\"Adam (http://arxiv.org/abs/1412.6980v8)\"\"\"\n",
        "\n",
        "    def __init__(self, lr=0.001, beta1=0.9, beta2=0.999):\n",
        "        self.lr = lr\n",
        "        self.beta1 = beta1\n",
        "        self.beta2 = beta2\n",
        "        self.iter = 0\n",
        "        self.m = None\n",
        "        self.v = None\n",
        "        \n",
        "    def update(self, params, grads):\n",
        "        if self.m is None:\n",
        "            self.m, self.v = {}, {}\n",
        "            for key, val in params.items():\n",
        "                self.m[key] = np.zeros_like(val)\n",
        "                self.v[key] = np.zeros_like(val)\n",
        "        \n",
        "        self.iter += 1\n",
        "        lr_t  = self.lr * np.sqrt(1.0 - self.beta2**self.iter) / (1.0 - self.beta1**self.iter)         \n",
        "        \n",
        "        for key in params.keys():\n",
        "            #self.m[key] = self.beta1*self.m[key] + (1-self.beta1)*grads[key]\n",
        "            #self.v[key] = self.beta2*self.v[key] + (1-self.beta2)*(grads[key]**2)\n",
        "            self.m[key] += (1 - self.beta1) * (grads[key] - self.m[key])\n",
        "            self.v[key] += (1 - self.beta2) * (grads[key]**2 - self.v[key])\n",
        "            \n",
        "            params[key] -= lr_t * self.m[key] / (np.sqrt(self.v[key]) + 1e-7)\n",
        "            \n",
        "            #unbias_m += (1 - self.beta1) * (grads[key] - self.m[key]) # correct bias\n",
        "            #unbisa_b += (1 - self.beta2) * (grads[key]*grads[key] - self.v[key]) # correct bias\n",
        "            #params[key] += self.lr * unbias_m / (np.sqrt(unbisa_b) + 1e-7)"
      ],
      "execution_count": 0,
      "outputs": []
    },
    {
      "metadata": {
        "id": "AhHEWd6uIWJN",
        "colab_type": "code",
        "colab": {}
      },
      "cell_type": "code",
      "source": [
        "class Trainer:\n",
        "    \"\"\"ニューラルネットの訓練を行うクラス\n",
        "    \"\"\"\n",
        "    def __init__(self, network, x_train, t_train, x_test, t_test,\n",
        "                 epochs=20, mini_batch_size=100,\n",
        "                 optimizer='Adam', optimizer_param={'lr':0.01}, \n",
        "                 evaluate_sample_num_per_epoch=None, verbose=True):\n",
        "        self.network = network\n",
        "        self.verbose = verbose\n",
        "        self.x_train = x_train\n",
        "        self.t_train = t_train\n",
        "        self.x_test = x_test\n",
        "        self.t_test = t_test\n",
        "        self.epochs = epochs\n",
        "        self.batch_size = mini_batch_size\n",
        "        self.evaluate_sample_num_per_epoch = evaluate_sample_num_per_epoch\n",
        "\n",
        "        # optimizer\n",
        "        optimizer_class_dict = {'sgd':SGD, 'momentum':Momentum, 'nesterov':Nesterov,\n",
        "                                'adagrad':AdaGrad, 'rmsprpo':RMSprop, 'adam':Adam}\n",
        "        self.optimizer = optimizer_class_dict[optimizer.lower()](**optimizer_param)\n",
        "        \n",
        "        self.train_size = x_train.shape[0]\n",
        "        self.iter_per_epoch = max(self.train_size / mini_batch_size, 1)\n",
        "        self.max_iter = int(epochs * self.iter_per_epoch)\n",
        "        self.current_iter = 0\n",
        "        self.current_epoch = 0\n",
        "        \n",
        "        self.train_loss_list = []\n",
        "        self.train_acc_list = []\n",
        "        self.test_acc_list = []\n",
        "\n",
        "    def train_step(self):\n",
        "        batch_mask = np.random.choice(self.train_size, self.batch_size)\n",
        "        x_batch = self.x_train[batch_mask]\n",
        "        t_batch = self.t_train[batch_mask]\n",
        "        \n",
        "        grads = self.network.gradient(x_batch, t_batch)\n",
        "        self.optimizer.update(self.network.params, grads)\n",
        "        \n",
        "        loss = self.network.loss(x_batch, t_batch)\n",
        "        self.train_loss_list.append(loss)\n",
        "        if self.verbose: print(\"train loss:\" + str(loss))\n",
        "        \n",
        "        if self.current_iter % self.iter_per_epoch == 0:\n",
        "            self.current_epoch += 1\n",
        "            \n",
        "            x_train_sample, t_train_sample = self.x_train, self.t_train\n",
        "            x_test_sample, t_test_sample = self.x_test, self.t_test\n",
        "            if not self.evaluate_sample_num_per_epoch is None:\n",
        "                t = self.evaluate_sample_num_per_epoch\n",
        "                x_train_sample, t_train_sample = self.x_train[:t], self.t_train[:t]\n",
        "                x_test_sample, t_test_sample = self.x_test[:t], self.t_test[:t]\n",
        "                \n",
        "            train_acc = self.network.accuracy(x_train_sample, t_train_sample)\n",
        "            test_acc = self.network.accuracy(x_test_sample, t_test_sample)\n",
        "            self.train_acc_list.append(train_acc)\n",
        "            self.test_acc_list.append(test_acc)\n",
        "\n",
        "            if self.verbose: print(\"=== epoch:\" + str(self.current_epoch) + \", train acc:\" + str(train_acc) + \", test acc:\" + str(test_acc) + \" ===\")\n",
        "        self.current_iter += 1\n",
        "\n",
        "    def train(self):\n",
        "        for i in range(self.max_iter):\n",
        "            self.train_step()\n",
        "\n",
        "        test_acc = self.network.accuracy(self.x_test, self.t_test)\n",
        "\n",
        "        if self.verbose:\n",
        "            print(\"=============== Final Test Accuracy ===============\")\n",
        "            print(\"test acc:\" + str(test_acc))"
      ],
      "execution_count": 0,
      "outputs": []
    },
    {
      "metadata": {
        "id": "swEipME7GV8J",
        "colab_type": "code",
        "colab": {
          "base_uri": "https://localhost:8080/",
          "height": 17756
        },
        "outputId": "df9dfaf0-1ccf-4961-c029-1cb0799a1bd2"
      },
      "cell_type": "code",
      "source": [
        "(x_train, t_train), (x_test, t_test) = load_mnist(flatten=False)\n",
        "\n",
        "# 処理に時間のかかる場合はデータを削減 \n",
        "x_train, t_train = x_train[:5000], t_train[:5000]\n",
        "x_test, t_test = x_test[:1000], t_test[:1000]\n",
        "\n",
        "max_epochs = 20\n",
        "\n",
        "network = SimpleConvNet(input_dim=(1,28,28), \n",
        "                        conv_param = {'filter_num': 30, 'filter_size': 5, 'pad': 0, 'stride': 1},\n",
        "                        hidden_size=100, output_size=10, weight_init_std=0.01)\n",
        "                        \n",
        "trainer = Trainer(network, x_train, t_train, x_test, t_test,\n",
        "                  epochs=max_epochs, mini_batch_size=100,\n",
        "                  optimizer='Adam', optimizer_param={'lr': 0.001},\n",
        "                  evaluate_sample_num_per_epoch=1000)\n",
        "trainer.train()\n",
        "\n",
        "# パラメータの保存\n",
        "network.save_params(\"params.pkl\")\n",
        "print(\"Saved Network Parameters!\")\n",
        "\n",
        "# グラフの描画\n",
        "markers = {'train': 'o', 'test': 's'}\n",
        "x = np.arange(max_epochs)\n",
        "plt.plot(x, trainer.train_acc_list, marker='o', label='train', markevery=2)\n",
        "plt.plot(x, trainer.test_acc_list, marker='s', label='test', markevery=2)\n",
        "plt.xlabel(\"epochs\")\n",
        "plt.ylabel(\"accuracy\")\n",
        "plt.ylim(0, 1.0)\n",
        "plt.legend(loc='lower right')\n",
        "plt.show()"
      ],
      "execution_count": 327,
      "outputs": [
        {
          "output_type": "stream",
          "text": [
            "train loss:2.29842979055704\n",
            "=== epoch:1, train acc:0.283, test acc:0.297 ===\n",
            "train loss:2.296959540148452\n",
            "train loss:2.2898149102181473\n",
            "train loss:2.280524884435071\n",
            "train loss:2.274960168775841\n",
            "train loss:2.269670264916282\n",
            "train loss:2.248701150839841\n",
            "train loss:2.2386315845922287\n",
            "train loss:2.2026267549660745\n",
            "train loss:2.188963945469918\n",
            "train loss:2.1606426346775023\n",
            "train loss:2.104440869564704\n",
            "train loss:2.0789687121702913\n",
            "train loss:2.003898893477295\n",
            "train loss:1.9972778237441633\n",
            "train loss:1.9537554456614488\n",
            "train loss:1.8248827225030706\n",
            "train loss:1.7587707099915104\n",
            "train loss:1.6264837528375846\n",
            "train loss:1.6472393216790864\n",
            "train loss:1.4979462189108421\n",
            "train loss:1.4356060613333457\n",
            "train loss:1.4048568485707542\n",
            "train loss:1.1457728079174738\n",
            "train loss:1.2768006637085831\n",
            "train loss:0.9769233553477891\n",
            "train loss:1.1726440348510545\n",
            "train loss:1.0064795508364057\n",
            "train loss:0.750482417242525\n",
            "train loss:0.9188575562507557\n",
            "train loss:0.7644191201160011\n",
            "train loss:0.7004956388482744\n",
            "train loss:0.7217058813880048\n",
            "train loss:0.8162164831190214\n",
            "train loss:0.9057986352905181\n",
            "train loss:0.7035616428139073\n",
            "train loss:0.5993765464625508\n",
            "train loss:0.7079101470739526\n",
            "train loss:0.7691565116190017\n",
            "train loss:0.6246513190702829\n",
            "train loss:0.5543701489352546\n",
            "train loss:0.5925891420620697\n",
            "train loss:0.6073643419845358\n",
            "train loss:0.607448460887323\n",
            "train loss:0.7023100859846925\n",
            "train loss:0.605904652584642\n",
            "train loss:0.481371694575404\n",
            "train loss:0.3631745023157775\n",
            "train loss:0.605494987456415\n",
            "train loss:0.5265686702103028\n",
            "train loss:0.8393150024476743\n",
            "=== epoch:2, train acc:0.817, test acc:0.802 ===\n",
            "train loss:0.5219193941058767\n",
            "train loss:0.4425580638050603\n",
            "train loss:0.3759672766204318\n",
            "train loss:0.44480627388105654\n",
            "train loss:0.4832776302984004\n",
            "train loss:0.44014269063773936\n",
            "train loss:0.36017238752452124\n",
            "train loss:0.6475543600390005\n",
            "train loss:0.3952352370831189\n",
            "train loss:0.3475546731356387\n",
            "train loss:0.39855812021406645\n",
            "train loss:0.3653626353784086\n",
            "train loss:0.3839548031321718\n",
            "train loss:0.5301819538558274\n",
            "train loss:0.33069161077556336\n",
            "train loss:0.359158145711603\n",
            "train loss:0.3822645024333232\n",
            "train loss:0.3587380360194821\n",
            "train loss:0.4922778996948569\n",
            "train loss:0.6408035920462041\n",
            "train loss:0.36397429109414653\n",
            "train loss:0.45242318418858785\n",
            "train loss:0.45946052876731097\n",
            "train loss:0.46349644505944876\n",
            "train loss:0.5031429398494561\n",
            "train loss:0.49694120032668593\n",
            "train loss:0.4913797740862674\n",
            "train loss:0.4361374470312826\n",
            "train loss:0.3344486396970807\n",
            "train loss:0.31583750045696624\n",
            "train loss:0.4185958956159219\n",
            "train loss:0.49442823023444804\n",
            "train loss:0.26723396786147335\n",
            "train loss:0.34839040134409704\n",
            "train loss:0.42820802184136914\n",
            "train loss:0.41396800777143783\n",
            "train loss:0.27480278933642327\n",
            "train loss:0.3644672669071409\n",
            "train loss:0.5279789190461058\n",
            "train loss:0.37462725289377585\n",
            "train loss:0.46547425080972327\n",
            "train loss:0.467260766252989\n",
            "train loss:0.5178557509070271\n",
            "train loss:0.37962643801154017\n",
            "train loss:0.3036625520880176\n",
            "train loss:0.291841347314143\n",
            "train loss:0.48716185323096584\n",
            "train loss:0.26010693216774866\n",
            "train loss:0.3087416035798222\n",
            "train loss:0.4989278195731794\n",
            "=== epoch:3, train acc:0.869, test acc:0.861 ===\n",
            "train loss:0.34847633095122865\n",
            "train loss:0.3075521453014518\n",
            "train loss:0.24479224852880282\n",
            "train loss:0.34900696221931676\n",
            "train loss:0.49060286990488655\n",
            "train loss:0.2756627702391498\n",
            "train loss:0.17084819589195593\n",
            "train loss:0.4165614071524867\n",
            "train loss:0.28910011063690544\n",
            "train loss:0.37383223645950847\n",
            "train loss:0.49217456860292913\n",
            "train loss:0.27669107511543417\n",
            "train loss:0.3153275897475798\n",
            "train loss:0.2810040195499729\n",
            "train loss:0.28674885749160123\n",
            "train loss:0.2932176680999161\n",
            "train loss:0.23466415659106438\n",
            "train loss:0.46113972640664314\n",
            "train loss:0.3148371189417677\n",
            "train loss:0.49462871682485926\n",
            "train loss:0.2593087505514714\n",
            "train loss:0.2914123326789391\n",
            "train loss:0.26382951563346513\n",
            "train loss:0.3664095491943003\n",
            "train loss:0.3434325149078931\n",
            "train loss:0.25476767105999665\n",
            "train loss:0.39664215715295803\n",
            "train loss:0.3145103569834713\n",
            "train loss:0.36395095217627715\n",
            "train loss:0.3241997682113717\n",
            "train loss:0.25500343037193646\n",
            "train loss:0.24527004890963583\n",
            "train loss:0.21483252384755297\n",
            "train loss:0.2462366827715653\n",
            "train loss:0.2461358880486619\n",
            "train loss:0.2791820646489301\n",
            "train loss:0.3476289461685634\n",
            "train loss:0.3436451016501216\n",
            "train loss:0.4508162621868699\n",
            "train loss:0.22060413082507324\n",
            "train loss:0.2903088482483363\n",
            "train loss:0.32785122478105927\n",
            "train loss:0.44487971308776914\n",
            "train loss:0.21428637676552564\n",
            "train loss:0.18855734306477473\n",
            "train loss:0.1684961594319796\n",
            "train loss:0.36217205489396753\n",
            "train loss:0.21723500256260753\n",
            "train loss:0.16237038550543026\n",
            "train loss:0.25742600720089415\n",
            "=== epoch:4, train acc:0.897, test acc:0.883 ===\n",
            "train loss:0.2964713140885134\n",
            "train loss:0.3893358267419616\n",
            "train loss:0.26829356791852615\n",
            "train loss:0.33660566928231966\n",
            "train loss:0.442965689617736\n",
            "train loss:0.27260039615376164\n",
            "train loss:0.17698897723798684\n",
            "train loss:0.20587684677232077\n",
            "train loss:0.1857474434610878\n",
            "train loss:0.40627942232866515\n",
            "train loss:0.37502196812695887\n",
            "train loss:0.2614996499484639\n",
            "train loss:0.20224083004701854\n",
            "train loss:0.4429209238787962\n",
            "train loss:0.24252096321278363\n",
            "train loss:0.23290964483697446\n",
            "train loss:0.23355469550051178\n",
            "train loss:0.3192005427246231\n",
            "train loss:0.19563723271869304\n",
            "train loss:0.24541996842353309\n",
            "train loss:0.30691406277974204\n",
            "train loss:0.19308517870254632\n",
            "train loss:0.25543177030401976\n",
            "train loss:0.27065297553584716\n",
            "train loss:0.20012454020992615\n",
            "train loss:0.22664334648799747\n",
            "train loss:0.3414828155071714\n",
            "train loss:0.23849436616311256\n",
            "train loss:0.43025446934394607\n",
            "train loss:0.30338992591227526\n",
            "train loss:0.2559862949583574\n",
            "train loss:0.306384899240471\n",
            "train loss:0.32050360562392327\n",
            "train loss:0.24321685980968405\n",
            "train loss:0.22265658823754098\n",
            "train loss:0.20158704856782284\n",
            "train loss:0.2411590178695111\n",
            "train loss:0.1754094070359549\n",
            "train loss:0.1858999767746516\n",
            "train loss:0.2640393923447879\n",
            "train loss:0.1784439763054625\n",
            "train loss:0.26390278813129825\n",
            "train loss:0.2206686068611658\n",
            "train loss:0.17715225749767552\n",
            "train loss:0.2265042628907871\n",
            "train loss:0.11858828660678464\n",
            "train loss:0.2517620199041503\n",
            "train loss:0.21736607665515684\n",
            "train loss:0.3085468210140779\n",
            "train loss:0.19345650021766528\n",
            "=== epoch:5, train acc:0.917, test acc:0.915 ===\n",
            "train loss:0.3144213607624646\n",
            "train loss:0.24685308927580318\n",
            "train loss:0.2273886081882573\n",
            "train loss:0.302981694828266\n",
            "train loss:0.1924557978886803\n",
            "train loss:0.3376452396637925\n",
            "train loss:0.16992173424090404\n",
            "train loss:0.22866477646370775\n",
            "train loss:0.24489368294421357\n",
            "train loss:0.22248597155183905\n",
            "train loss:0.14568992194004088\n",
            "train loss:0.2787755617303602\n",
            "train loss:0.1333741747575408\n",
            "train loss:0.17888540873115852\n",
            "train loss:0.16846939449342804\n",
            "train loss:0.24217947871668968\n",
            "train loss:0.30686255010446295\n",
            "train loss:0.22564195742832052\n",
            "train loss:0.15024788279972598\n",
            "train loss:0.1592261985991924\n",
            "train loss:0.30054882801207505\n",
            "train loss:0.1950919339342674\n",
            "train loss:0.1752600743202621\n",
            "train loss:0.2589956668234476\n",
            "train loss:0.3235766597820501\n",
            "train loss:0.23789176113361743\n",
            "train loss:0.12042822432475955\n",
            "train loss:0.1729055971361057\n",
            "train loss:0.23778048670724647\n",
            "train loss:0.22933855065302272\n",
            "train loss:0.26343391899971547\n",
            "train loss:0.1454607571185143\n",
            "train loss:0.24028807122330378\n",
            "train loss:0.15989274849250884\n",
            "train loss:0.10842258799983633\n",
            "train loss:0.31538091816770025\n",
            "train loss:0.1676498311664164\n",
            "train loss:0.31053106224970545\n",
            "train loss:0.23570408908186735\n",
            "train loss:0.12498002582811438\n",
            "train loss:0.14824045731306942\n",
            "train loss:0.2611331347437612\n",
            "train loss:0.18266519047259877\n",
            "train loss:0.15402506206540376\n",
            "train loss:0.168122092434964\n",
            "train loss:0.18348419160591478\n",
            "train loss:0.23006415235456626\n",
            "train loss:0.26070742408731745\n",
            "train loss:0.15263640926245714\n",
            "train loss:0.2708047577400123\n",
            "=== epoch:6, train acc:0.921, test acc:0.885 ===\n",
            "train loss:0.36243238877284495\n",
            "train loss:0.19332924541885643\n",
            "train loss:0.18390711068343113\n",
            "train loss:0.1146498447162237\n",
            "train loss:0.24642117279993503\n",
            "train loss:0.150065464278963\n",
            "train loss:0.15863011043829792\n",
            "train loss:0.16056085423085115\n",
            "train loss:0.146693457626101\n",
            "train loss:0.1887769046660033\n",
            "train loss:0.21655624085238095\n",
            "train loss:0.12139867679834855\n",
            "train loss:0.2596960802718817\n",
            "train loss:0.17468856477101383\n",
            "train loss:0.2001040445770605\n",
            "train loss:0.21144771643269322\n",
            "train loss:0.23603366264686643\n",
            "train loss:0.2491238088274409\n",
            "train loss:0.27126775426894323\n",
            "train loss:0.15701058823079658\n",
            "train loss:0.3460513071526702\n",
            "train loss:0.2548052884605936\n",
            "train loss:0.15312919898521002\n",
            "train loss:0.16533084338297613\n",
            "train loss:0.24388329759582295\n",
            "train loss:0.2005431955591901\n",
            "train loss:0.28192910587309966\n",
            "train loss:0.1976300165965042\n",
            "train loss:0.15165603298256378\n",
            "train loss:0.08530363322050136\n",
            "train loss:0.3320171853556397\n",
            "train loss:0.15705229534224766\n",
            "train loss:0.2366246045918348\n",
            "train loss:0.115766946517166\n",
            "train loss:0.11821315708939441\n",
            "train loss:0.24238213404312822\n",
            "train loss:0.13947645773536826\n",
            "train loss:0.2951366677554567\n",
            "train loss:0.14310744972001477\n",
            "train loss:0.14093540399442914\n",
            "train loss:0.19624219145123536\n",
            "train loss:0.19882232029859043\n",
            "train loss:0.2045873110418121\n",
            "train loss:0.22699253680121056\n",
            "train loss:0.1856893964056655\n",
            "train loss:0.25652500269265066\n",
            "train loss:0.23953662944648252\n",
            "train loss:0.14233322274426474\n",
            "train loss:0.0848499196686015\n",
            "train loss:0.1658244461428899\n",
            "=== epoch:7, train acc:0.934, test acc:0.919 ===\n",
            "train loss:0.10211863492236127\n",
            "train loss:0.23546831019560177\n",
            "train loss:0.18805782791542822\n",
            "train loss:0.15545270392792637\n",
            "train loss:0.14753066563966427\n",
            "train loss:0.08932029774652277\n",
            "train loss:0.10299310678018299\n",
            "train loss:0.16197595292242434\n",
            "train loss:0.25060970498253726\n",
            "train loss:0.20649190218582356\n",
            "train loss:0.1897677818700075\n",
            "train loss:0.09037127180902632\n",
            "train loss:0.17601698675152103\n",
            "train loss:0.18888138963809567\n",
            "train loss:0.09894384849275477\n",
            "train loss:0.19794748172006976\n",
            "train loss:0.1157856521120618\n",
            "train loss:0.09851351243774363\n",
            "train loss:0.19033488949249072\n",
            "train loss:0.20496164674499867\n",
            "train loss:0.24320303483638595\n",
            "train loss:0.18488549450643801\n",
            "train loss:0.17991341857190207\n",
            "train loss:0.20244429755114818\n",
            "train loss:0.11664155707209613\n",
            "train loss:0.18937085854405428\n",
            "train loss:0.1451552716242958\n",
            "train loss:0.14931630034089038\n",
            "train loss:0.1318008932815554\n",
            "train loss:0.24909704304055963\n",
            "train loss:0.1456220474329246\n",
            "train loss:0.1824093383764483\n",
            "train loss:0.1369856642708536\n",
            "train loss:0.09794562472116856\n",
            "train loss:0.16634778631160022\n",
            "train loss:0.21084501843211043\n",
            "train loss:0.18857679540962746\n",
            "train loss:0.14659186042299135\n",
            "train loss:0.12801246083302253\n",
            "train loss:0.17312914241250574\n",
            "train loss:0.28534816347541786\n",
            "train loss:0.19065985991303105\n",
            "train loss:0.04916719411832106\n",
            "train loss:0.1309243228787426\n",
            "train loss:0.17654205442062754\n",
            "train loss:0.14092256183791896\n",
            "train loss:0.2105669065184712\n",
            "train loss:0.15229482755164622\n",
            "train loss:0.17864172614054186\n",
            "train loss:0.22352954432512032\n",
            "=== epoch:8, train acc:0.923, test acc:0.904 ===\n",
            "train loss:0.1669948576749299\n",
            "train loss:0.11400307661195716\n",
            "train loss:0.16614500596472792\n",
            "train loss:0.17260776454615012\n",
            "train loss:0.06251843280523217\n",
            "train loss:0.09327578623727606\n",
            "train loss:0.13919272545611963\n",
            "train loss:0.22616237240347759\n",
            "train loss:0.21409439034457617\n",
            "train loss:0.14732516727937142\n",
            "train loss:0.1008873401520858\n",
            "train loss:0.14236528442177412\n",
            "train loss:0.06665680760183804\n",
            "train loss:0.1250586719986311\n",
            "train loss:0.158570800393368\n",
            "train loss:0.0687973697833003\n",
            "train loss:0.08992145726836645\n",
            "train loss:0.12054915586599028\n",
            "train loss:0.13888195986682508\n",
            "train loss:0.1884830784985643\n",
            "train loss:0.05993079766200121\n",
            "train loss:0.20995736232390894\n",
            "train loss:0.0515917200045116\n",
            "train loss:0.1260000395153659\n",
            "train loss:0.1019044089493078\n",
            "train loss:0.15422311290875268\n",
            "train loss:0.11402840419422365\n",
            "train loss:0.08674902004196695\n",
            "train loss:0.06737206164072475\n",
            "train loss:0.14758710675419798\n",
            "train loss:0.08534285014971985\n",
            "train loss:0.14248679139529152\n",
            "train loss:0.14123665437855204\n",
            "train loss:0.2944142862708457\n",
            "train loss:0.20652388395430277\n",
            "train loss:0.24018844485039342\n",
            "train loss:0.2221249993987678\n",
            "train loss:0.12036839722408586\n",
            "train loss:0.07738209745690672\n",
            "train loss:0.08488419332429537\n",
            "train loss:0.13358044784479697\n",
            "train loss:0.20982294907545793\n",
            "train loss:0.0875945207275523\n",
            "train loss:0.12288605754442944\n",
            "train loss:0.12987906830010593\n",
            "train loss:0.16997850337779102\n",
            "train loss:0.13094548409802714\n",
            "train loss:0.12768866662381437\n",
            "train loss:0.08895875189257806\n",
            "train loss:0.3627491271683158\n",
            "=== epoch:9, train acc:0.951, test acc:0.935 ===\n",
            "train loss:0.18499815332006694\n",
            "train loss:0.06944154676332062\n",
            "train loss:0.10537125690170629\n",
            "train loss:0.1554609596628158\n",
            "train loss:0.1641418724414341\n",
            "train loss:0.04552061369094151\n",
            "train loss:0.053878188253831824\n",
            "train loss:0.18471096528976183\n",
            "train loss:0.06916206140864452\n",
            "train loss:0.15225961603216956\n",
            "train loss:0.09215253235039224\n",
            "train loss:0.04602598068771907\n",
            "train loss:0.0709452527883437\n",
            "train loss:0.14575582529928746\n",
            "train loss:0.0923321406857271\n",
            "train loss:0.23102380861563895\n",
            "train loss:0.12360064416956462\n",
            "train loss:0.10388920579214918\n",
            "train loss:0.14473162551901633\n",
            "train loss:0.10411347501303726\n",
            "train loss:0.1155661171993621\n",
            "train loss:0.13147482416205972\n",
            "train loss:0.16346618953397393\n",
            "train loss:0.045860117786093585\n",
            "train loss:0.09043239093339826\n",
            "train loss:0.06758848918158009\n",
            "train loss:0.1336134694009413\n",
            "train loss:0.08373581495570438\n",
            "train loss:0.07081989337039857\n",
            "train loss:0.13754758811894519\n",
            "train loss:0.07781605860636281\n",
            "train loss:0.18614755382301765\n",
            "train loss:0.08866387537768441\n",
            "train loss:0.11124844956973984\n",
            "train loss:0.08924836175887724\n",
            "train loss:0.22088788216041125\n",
            "train loss:0.11559509469141244\n",
            "train loss:0.09715953279635445\n",
            "train loss:0.08070849759024692\n",
            "train loss:0.14320658762940577\n",
            "train loss:0.06946511302901728\n",
            "train loss:0.08330915448572418\n",
            "train loss:0.08758532410288651\n",
            "train loss:0.2411519851270387\n",
            "train loss:0.11138109343387394\n",
            "train loss:0.1705364479924459\n",
            "train loss:0.07222792011304274\n",
            "train loss:0.11082913775265307\n",
            "train loss:0.06678710823939306\n",
            "train loss:0.0928552789543864\n",
            "=== epoch:10, train acc:0.958, test acc:0.94 ===\n",
            "train loss:0.2025249478969746\n",
            "train loss:0.09791862040013345\n",
            "train loss:0.0978434683783403\n",
            "train loss:0.10452913574536904\n",
            "train loss:0.11312650097994303\n",
            "train loss:0.0767438699066537\n",
            "train loss:0.04598512330195589\n",
            "train loss:0.06126691996501424\n",
            "train loss:0.11012080017752192\n",
            "train loss:0.07559315407639874\n",
            "train loss:0.07283289070779819\n",
            "train loss:0.07126600736525583\n",
            "train loss:0.09951002403133728\n",
            "train loss:0.16464367285081838\n",
            "train loss:0.08262340280852504\n",
            "train loss:0.09518415361404892\n",
            "train loss:0.08943992958970284\n",
            "train loss:0.11415717788264121\n",
            "train loss:0.11364975114419038\n",
            "train loss:0.07991149069355419\n",
            "train loss:0.1283625278699917\n",
            "train loss:0.08026879931293887\n",
            "train loss:0.10409651567324152\n",
            "train loss:0.12031087844843608\n",
            "train loss:0.08986380212741202\n",
            "train loss:0.23993625284365813\n",
            "train loss:0.13115464213288985\n",
            "train loss:0.08871379902609526\n",
            "train loss:0.10662506960565045\n",
            "train loss:0.07239036516812294\n",
            "train loss:0.12431794217809569\n",
            "train loss:0.10355072597824506\n",
            "train loss:0.11613476221919371\n",
            "train loss:0.085438178903973\n",
            "train loss:0.031129386286779546\n",
            "train loss:0.07956823061105879\n",
            "train loss:0.18159300047596486\n",
            "train loss:0.04955771332569289\n",
            "train loss:0.05875516734438918\n",
            "train loss:0.13342827882214744\n",
            "train loss:0.0894746795282083\n",
            "train loss:0.06425778903248146\n",
            "train loss:0.07119130122729617\n",
            "train loss:0.014323293497451333\n",
            "train loss:0.09953293276184198\n",
            "train loss:0.05894711631892746\n",
            "train loss:0.05748289183632606\n",
            "train loss:0.10721424613651974\n",
            "train loss:0.07363154824663441\n",
            "train loss:0.07615811396669345\n",
            "=== epoch:11, train acc:0.966, test acc:0.945 ===\n",
            "train loss:0.06482399232116735\n",
            "train loss:0.06633123600853223\n",
            "train loss:0.13711367500271895\n",
            "train loss:0.09942132198642056\n",
            "train loss:0.05901264378003462\n",
            "train loss:0.0372181615408859\n",
            "train loss:0.1321273148203493\n",
            "train loss:0.22363871505394164\n",
            "train loss:0.024681752184345408\n",
            "train loss:0.032825121379473014\n",
            "train loss:0.09504288043472871\n",
            "train loss:0.07000982283362196\n",
            "train loss:0.06763046660530588\n",
            "train loss:0.08791239367680882\n",
            "train loss:0.039350261244609656\n",
            "train loss:0.11511599557109158\n",
            "train loss:0.08035854863670366\n",
            "train loss:0.0575687294374128\n",
            "train loss:0.14389474345427655\n",
            "train loss:0.03613913228356205\n",
            "train loss:0.05052176824586167\n",
            "train loss:0.08761465245029171\n",
            "train loss:0.060600424299782116\n",
            "train loss:0.04805064126166835\n",
            "train loss:0.04728140805141764\n",
            "train loss:0.16665222058496545\n",
            "train loss:0.06102156409090817\n",
            "train loss:0.07924475734670532\n",
            "train loss:0.09924659199871444\n",
            "train loss:0.12988617623412366\n",
            "train loss:0.12975659304472723\n",
            "train loss:0.12132491533888631\n",
            "train loss:0.0830400760906736\n",
            "train loss:0.07336890330951694\n",
            "train loss:0.05669137465630247\n",
            "train loss:0.08047075761941168\n",
            "train loss:0.1535558792716814\n",
            "train loss:0.07466585014429451\n",
            "train loss:0.039137471718540214\n",
            "train loss:0.08706166687197509\n",
            "train loss:0.08156796946839272\n",
            "train loss:0.04589174574013717\n",
            "train loss:0.13143123735920384\n",
            "train loss:0.1671178788774425\n",
            "train loss:0.0860799513837932\n",
            "train loss:0.11265949279655504\n",
            "train loss:0.05997713063230042\n",
            "train loss:0.05663136660060214\n",
            "train loss:0.03479864645563362\n",
            "train loss:0.13039374754208632\n",
            "=== epoch:12, train acc:0.973, test acc:0.944 ===\n",
            "train loss:0.06037890813022579\n",
            "train loss:0.05268926111202139\n",
            "train loss:0.06918681657254704\n",
            "train loss:0.14889306698947308\n",
            "train loss:0.05275031348965938\n",
            "train loss:0.05411423299200779\n",
            "train loss:0.1471916736225647\n",
            "train loss:0.14224736469834132\n",
            "train loss:0.13030562255633762\n",
            "train loss:0.04755258036913915\n",
            "train loss:0.043613704571290095\n",
            "train loss:0.0960724966829282\n",
            "train loss:0.08647181579077552\n",
            "train loss:0.05214143194584711\n",
            "train loss:0.0359991591430327\n",
            "train loss:0.03861150820188777\n",
            "train loss:0.08308742894012011\n",
            "train loss:0.06540261401187453\n",
            "train loss:0.09231504603506822\n",
            "train loss:0.07250331971254112\n",
            "train loss:0.15129617831297718\n",
            "train loss:0.04041825528251811\n",
            "train loss:0.08073869066965823\n",
            "train loss:0.0939424822630403\n",
            "train loss:0.049220391674332425\n",
            "train loss:0.058241323876539866\n",
            "train loss:0.10228702366439991\n",
            "train loss:0.0898939217007657\n",
            "train loss:0.06290320642040076\n",
            "train loss:0.04959977730168918\n",
            "train loss:0.08679663017046532\n",
            "train loss:0.061339264318427594\n",
            "train loss:0.04607455263486483\n",
            "train loss:0.07608440357674649\n",
            "train loss:0.06260217907850767\n",
            "train loss:0.09920487800816342\n",
            "train loss:0.02629531916063842\n",
            "train loss:0.02408055454049754\n",
            "train loss:0.04231362455425024\n",
            "train loss:0.06115993290990938\n",
            "train loss:0.11974885297524272\n",
            "train loss:0.05761142095222697\n",
            "train loss:0.04220286756007392\n",
            "train loss:0.09110928308140384\n",
            "train loss:0.09705760490496179\n",
            "train loss:0.11125220807556334\n",
            "train loss:0.028531039142668656\n",
            "train loss:0.06409435559034049\n",
            "train loss:0.04837886851221941\n",
            "train loss:0.0681162456243589\n",
            "=== epoch:13, train acc:0.97, test acc:0.957 ===\n",
            "train loss:0.055543818760450774\n",
            "train loss:0.03893960842481712\n",
            "train loss:0.03837258085348649\n",
            "train loss:0.03903080081100205\n",
            "train loss:0.037116236815457046\n",
            "train loss:0.038701981953590356\n",
            "train loss:0.07834533404538827\n",
            "train loss:0.09939494806868358\n",
            "train loss:0.03107725462196391\n",
            "train loss:0.06416935500440762\n",
            "train loss:0.07999731393203752\n",
            "train loss:0.050135859282013355\n",
            "train loss:0.03335523642461244\n",
            "train loss:0.041036621660208536\n",
            "train loss:0.07198197096982227\n",
            "train loss:0.06095933193466797\n",
            "train loss:0.08040263112629073\n",
            "train loss:0.03944312781067454\n",
            "train loss:0.07639462144084083\n",
            "train loss:0.03313522765025046\n",
            "train loss:0.051838818659981134\n",
            "train loss:0.059440769472512534\n",
            "train loss:0.1114781690888375\n",
            "train loss:0.051115576921077474\n",
            "train loss:0.09396028276024017\n",
            "train loss:0.0283809686281418\n",
            "train loss:0.09675098012531008\n",
            "train loss:0.04227226191481459\n",
            "train loss:0.11116900942419695\n",
            "train loss:0.042989656746761425\n",
            "train loss:0.07088418281662301\n",
            "train loss:0.04691181439271878\n",
            "train loss:0.034559029662231094\n",
            "train loss:0.031933584264571394\n",
            "train loss:0.062288178398538056\n",
            "train loss:0.03947818435530314\n",
            "train loss:0.11012142028499973\n",
            "train loss:0.039717887327718374\n",
            "train loss:0.01780980445986769\n",
            "train loss:0.06355169238748458\n",
            "train loss:0.06804327663511515\n",
            "train loss:0.0689876962547914\n",
            "train loss:0.05778058130109058\n",
            "train loss:0.04994295872663789\n",
            "train loss:0.10272438703310396\n",
            "train loss:0.04020053369595916\n",
            "train loss:0.07959770322454854\n",
            "train loss:0.1792826516082175\n",
            "train loss:0.03221878276206371\n",
            "train loss:0.13652942709696186\n",
            "=== epoch:14, train acc:0.979, test acc:0.954 ===\n",
            "train loss:0.04175006042094112\n",
            "train loss:0.025725858387619444\n",
            "train loss:0.05727970689519142\n",
            "train loss:0.07363935004884056\n",
            "train loss:0.02352957018366162\n",
            "train loss:0.04548185564140489\n",
            "train loss:0.035848397915624795\n",
            "train loss:0.07783643903182524\n",
            "train loss:0.009198048982949403\n",
            "train loss:0.05314353563294708\n",
            "train loss:0.04486943835676735\n",
            "train loss:0.02830352213289096\n",
            "train loss:0.03443233187801568\n",
            "train loss:0.08792581617392367\n",
            "train loss:0.06339616980175995\n",
            "train loss:0.06160755557995383\n",
            "train loss:0.09628179617578453\n",
            "train loss:0.03046724642407502\n",
            "train loss:0.027129557857972462\n",
            "train loss:0.05452427918430975\n",
            "train loss:0.07009339955782895\n",
            "train loss:0.03659549635281532\n",
            "train loss:0.05053856583414315\n",
            "train loss:0.050039674535170775\n",
            "train loss:0.029472982835709666\n",
            "train loss:0.06241451682690771\n",
            "train loss:0.019474699162237822\n",
            "train loss:0.0524278945038352\n",
            "train loss:0.030153412559420664\n",
            "train loss:0.048723927648396115\n",
            "train loss:0.05357609909607622\n",
            "train loss:0.05528706415758123\n",
            "train loss:0.0513511370047423\n",
            "train loss:0.05913715515868069\n",
            "train loss:0.043206232214481013\n",
            "train loss:0.05464736035239543\n",
            "train loss:0.09724575331836657\n",
            "train loss:0.042813742354711505\n",
            "train loss:0.07666294261112114\n",
            "train loss:0.03728357658157253\n",
            "train loss:0.0449745619497888\n",
            "train loss:0.02427773066804282\n",
            "train loss:0.11040653281254605\n",
            "train loss:0.03077323704055332\n",
            "train loss:0.05769150894023485\n",
            "train loss:0.022380145340275135\n",
            "train loss:0.05235318103589043\n",
            "train loss:0.095379592380987\n",
            "train loss:0.04346378663284274\n",
            "train loss:0.05349373611795769\n",
            "=== epoch:15, train acc:0.977, test acc:0.954 ===\n",
            "train loss:0.016238276639010153\n",
            "train loss:0.029509485884631342\n",
            "train loss:0.042483318178056055\n",
            "train loss:0.09741314360794999\n",
            "train loss:0.05164931020924902\n",
            "train loss:0.06347787033163155\n",
            "train loss:0.06524019853547584\n",
            "train loss:0.06828135172483253\n",
            "train loss:0.039484054602868475\n",
            "train loss:0.10990812739035122\n",
            "train loss:0.03894023698941564\n",
            "train loss:0.08425046752158623\n",
            "train loss:0.04915223643466621\n",
            "train loss:0.027454541120330613\n",
            "train loss:0.07174605363272737\n",
            "train loss:0.10881886793663993\n",
            "train loss:0.05052690866421356\n",
            "train loss:0.04193910149600952\n",
            "train loss:0.0640213603038187\n",
            "train loss:0.05035052308129608\n",
            "train loss:0.1228291855196676\n",
            "train loss:0.05396977723603953\n",
            "train loss:0.02262227864739641\n",
            "train loss:0.05112121253198338\n",
            "train loss:0.03880171501261047\n",
            "train loss:0.037718698406981395\n",
            "train loss:0.06183195243987897\n",
            "train loss:0.032920366355431996\n",
            "train loss:0.06063866558559608\n",
            "train loss:0.03746750914832233\n",
            "train loss:0.06294133498870341\n",
            "train loss:0.010380012082729014\n",
            "train loss:0.05234565367333228\n",
            "train loss:0.04635989356844281\n",
            "train loss:0.06228265894687688\n",
            "train loss:0.021554314869157213\n",
            "train loss:0.02939479060516324\n",
            "train loss:0.029228454068217544\n",
            "train loss:0.0852017495336886\n",
            "train loss:0.03758841278074338\n",
            "train loss:0.03570763260839256\n",
            "train loss:0.045604910110375645\n",
            "train loss:0.026869509326705007\n",
            "train loss:0.11114082781825213\n",
            "train loss:0.028444995642445344\n",
            "train loss:0.026449196221292885\n",
            "train loss:0.03860246820036264\n",
            "train loss:0.043746712455984486\n",
            "train loss:0.01928345259712778\n",
            "train loss:0.029246464619454602\n",
            "=== epoch:16, train acc:0.985, test acc:0.959 ===\n",
            "train loss:0.026364886193285534\n",
            "train loss:0.05439617225757638\n",
            "train loss:0.024512910856647963\n",
            "train loss:0.05718627509355938\n",
            "train loss:0.08906995496216474\n",
            "train loss:0.02388720727361824\n",
            "train loss:0.03917596416635961\n",
            "train loss:0.04374203151137739\n",
            "train loss:0.04094551443193227\n",
            "train loss:0.055518263318794524\n",
            "train loss:0.031936931123515803\n",
            "train loss:0.055175367312897544\n",
            "train loss:0.128550118716285\n",
            "train loss:0.025895830685721228\n",
            "train loss:0.019545944061323768\n",
            "train loss:0.03046252584367697\n",
            "train loss:0.027946482427466196\n",
            "train loss:0.0715338946999771\n",
            "train loss:0.023147646453204586\n",
            "train loss:0.014794070822380243\n",
            "train loss:0.03638222891341118\n",
            "train loss:0.03270138986441799\n",
            "train loss:0.043711197592779784\n",
            "train loss:0.04839390698940781\n",
            "train loss:0.019392305154884264\n",
            "train loss:0.018359687946503844\n",
            "train loss:0.03244616203114525\n",
            "train loss:0.02637599838978369\n",
            "train loss:0.012581061506623293\n",
            "train loss:0.05158452689509549\n",
            "train loss:0.016493904473980775\n",
            "train loss:0.016695546453956808\n",
            "train loss:0.02621443233981864\n",
            "train loss:0.05648934633913818\n",
            "train loss:0.05472218365279395\n",
            "train loss:0.07767975706081293\n",
            "train loss:0.028752759594617823\n",
            "train loss:0.02975349443846214\n",
            "train loss:0.05832261144955198\n",
            "train loss:0.013217701072284283\n",
            "train loss:0.026188522602226864\n",
            "train loss:0.029244731280214573\n",
            "train loss:0.022608934954921587\n",
            "train loss:0.0327497606244666\n",
            "train loss:0.04774834549477505\n",
            "train loss:0.040195074762704265\n",
            "train loss:0.08016092670300712\n",
            "train loss:0.034080086295949615\n",
            "train loss:0.06677794240863447\n",
            "train loss:0.03556547040128121\n",
            "=== epoch:17, train acc:0.991, test acc:0.956 ===\n",
            "train loss:0.017565819604729874\n",
            "train loss:0.09592948942352714\n",
            "train loss:0.03248385331753369\n",
            "train loss:0.013482519850307824\n",
            "train loss:0.052466246187184186\n",
            "train loss:0.06395292695008914\n",
            "train loss:0.014287642559131198\n",
            "train loss:0.020961240369406494\n",
            "train loss:0.0375297634996317\n",
            "train loss:0.024694929756820982\n",
            "train loss:0.024746395606253847\n",
            "train loss:0.03156466804144395\n",
            "train loss:0.049045937834187266\n",
            "train loss:0.02095448116796103\n",
            "train loss:0.06352986408304032\n",
            "train loss:0.0591991713469191\n",
            "train loss:0.023983081501142933\n",
            "train loss:0.04827588479555536\n",
            "train loss:0.0703549432485396\n",
            "train loss:0.026310556071786312\n",
            "train loss:0.050476604464536834\n",
            "train loss:0.017575621173959312\n",
            "train loss:0.01845779731511266\n",
            "train loss:0.03720000112841568\n",
            "train loss:0.024198667720594348\n",
            "train loss:0.03894957554150584\n",
            "train loss:0.02519434293251965\n",
            "train loss:0.07513174721084749\n",
            "train loss:0.02478396410119535\n",
            "train loss:0.030133044786447672\n",
            "train loss:0.026780879131443735\n",
            "train loss:0.014365633783917434\n",
            "train loss:0.021053772485029917\n",
            "train loss:0.030698916416356338\n",
            "train loss:0.021183081368521935\n",
            "train loss:0.06098739286995568\n",
            "train loss:0.03421148136156562\n",
            "train loss:0.09660896876584425\n",
            "train loss:0.026559004673113607\n",
            "train loss:0.011914380766314325\n",
            "train loss:0.023200611977436905\n",
            "train loss:0.032635954433659416\n",
            "train loss:0.0241894836093861\n",
            "train loss:0.026573338928949385\n",
            "train loss:0.055976210975007996\n",
            "train loss:0.01950175798979313\n",
            "train loss:0.014160396604656546\n",
            "train loss:0.021934412054649296\n",
            "train loss:0.024489229016571804\n",
            "train loss:0.050234717688338607\n",
            "=== epoch:18, train acc:0.987, test acc:0.957 ===\n",
            "train loss:0.05125501155664084\n",
            "train loss:0.030175388852498784\n",
            "train loss:0.05993050281739935\n",
            "train loss:0.017152041924358867\n",
            "train loss:0.03188299486910555\n",
            "train loss:0.06057395422341674\n",
            "train loss:0.03041668940087354\n",
            "train loss:0.036032847735156054\n",
            "train loss:0.036730851851310406\n",
            "train loss:0.018946160461619857\n",
            "train loss:0.010176969275227252\n",
            "train loss:0.016324627264735037\n",
            "train loss:0.034226175425347456\n",
            "train loss:0.020314332348318583\n",
            "train loss:0.035523689891760156\n",
            "train loss:0.01237695446953714\n",
            "train loss:0.03135690644761748\n",
            "train loss:0.011003511912006894\n",
            "train loss:0.024395119375968756\n",
            "train loss:0.018289879762224605\n",
            "train loss:0.04188973197624374\n",
            "train loss:0.030039419565380053\n",
            "train loss:0.02785963520148155\n",
            "train loss:0.0076392279479664885\n",
            "train loss:0.01677068399042393\n",
            "train loss:0.0407635460642394\n",
            "train loss:0.058459697574198215\n",
            "train loss:0.019041463498439912\n",
            "train loss:0.012961008127537406\n",
            "train loss:0.05454638431347997\n",
            "train loss:0.010611631193867712\n",
            "train loss:0.024396653703283318\n",
            "train loss:0.03726847207471264\n",
            "train loss:0.021742319466603887\n",
            "train loss:0.01345922331792555\n",
            "train loss:0.0420288957491619\n",
            "train loss:0.01925760209912157\n",
            "train loss:0.03396940962034725\n",
            "train loss:0.022900829617296208\n",
            "train loss:0.026279793395968584\n",
            "train loss:0.02333144629295427\n",
            "train loss:0.03451472085908706\n",
            "train loss:0.04093326325115428\n",
            "train loss:0.015129793084217835\n",
            "train loss:0.01782131795989599\n",
            "train loss:0.06371325914432814\n",
            "train loss:0.020605152933156547\n",
            "train loss:0.01006786461555018\n",
            "train loss:0.015322482927439929\n",
            "train loss:0.01456199131085725\n",
            "=== epoch:19, train acc:0.988, test acc:0.956 ===\n",
            "train loss:0.022270177690045644\n",
            "train loss:0.04908780966172376\n",
            "train loss:0.03378112259307181\n",
            "train loss:0.04791947451439483\n",
            "train loss:0.02232876583918648\n",
            "train loss:0.03301082149644528\n",
            "train loss:0.020202559035186175\n",
            "train loss:0.04813991420430412\n",
            "train loss:0.052609482333497895\n",
            "train loss:0.035383168183786534\n",
            "train loss:0.023471069879478623\n",
            "train loss:0.023356481080223198\n",
            "train loss:0.017147863145182737\n",
            "train loss:0.025090968884850944\n",
            "train loss:0.04476311578557242\n",
            "train loss:0.018374111323377466\n",
            "train loss:0.031029795694854485\n",
            "train loss:0.030454258378713614\n",
            "train loss:0.03499214685780069\n",
            "train loss:0.010549044902706995\n",
            "train loss:0.02032665369583658\n",
            "train loss:0.0163806188267199\n",
            "train loss:0.019750010097462044\n",
            "train loss:0.02994379128827537\n",
            "train loss:0.012171505405385735\n",
            "train loss:0.028199231327354742\n",
            "train loss:0.017084107938300463\n",
            "train loss:0.017716635835527995\n",
            "train loss:0.02175892769834875\n",
            "train loss:0.015346998186907579\n",
            "train loss:0.030895984846152618\n",
            "train loss:0.009547629449013575\n",
            "train loss:0.013692825915098787\n",
            "train loss:0.038828068256948366\n",
            "train loss:0.030484037719879047\n",
            "train loss:0.011017179752307505\n",
            "train loss:0.0090108036011762\n",
            "train loss:0.04268945282754695\n",
            "train loss:0.01572405147620109\n",
            "train loss:0.002700049106795509\n",
            "train loss:0.012311372105470843\n",
            "train loss:0.032888579318678036\n",
            "train loss:0.02251238169891149\n",
            "train loss:0.015902914044018654\n",
            "train loss:0.026364364343004612\n",
            "train loss:0.012090147766549663\n",
            "train loss:0.020564972657206165\n",
            "train loss:0.018526896753060868\n",
            "train loss:0.013331024855837011\n",
            "train loss:0.01487626707961758\n",
            "=== epoch:20, train acc:0.993, test acc:0.959 ===\n",
            "train loss:0.021726928680050838\n",
            "train loss:0.04174079561050673\n",
            "train loss:0.015392132567750494\n",
            "train loss:0.01157174792932678\n",
            "train loss:0.015383666856134005\n",
            "train loss:0.0021720015160048857\n",
            "train loss:0.03145049141348245\n",
            "train loss:0.010302445787216515\n",
            "train loss:0.021470663816638716\n",
            "train loss:0.013366256410918834\n",
            "train loss:0.011295718198126388\n",
            "train loss:0.024015798599148864\n",
            "train loss:0.021629773882110785\n",
            "train loss:0.027876913440798498\n",
            "train loss:0.01923454788009385\n",
            "train loss:0.008531842342914158\n",
            "train loss:0.00851409229140124\n",
            "train loss:0.022600611717035434\n",
            "train loss:0.015594097081642604\n",
            "train loss:0.012619071553904121\n",
            "train loss:0.015512426389583455\n",
            "train loss:0.038294857992848014\n",
            "train loss:0.008013749426942753\n",
            "train loss:0.016417650634463134\n",
            "train loss:0.009399100766314006\n",
            "train loss:0.013671987323328387\n",
            "train loss:0.011419757710075647\n",
            "train loss:0.030181094039869114\n",
            "train loss:0.008207607433478415\n",
            "train loss:0.030498795272004556\n",
            "train loss:0.013084656668478243\n",
            "train loss:0.009930365540015161\n",
            "train loss:0.01907374340047173\n",
            "train loss:0.05803567747574604\n",
            "train loss:0.025019159191246212\n",
            "train loss:0.023179838296509762\n",
            "train loss:0.029101705605927886\n",
            "train loss:0.021156718772529448\n",
            "train loss:0.01139539746609995\n",
            "train loss:0.007328396312262242\n",
            "train loss:0.023026560875295705\n",
            "train loss:0.010799818114646255\n",
            "train loss:0.01590635005711572\n",
            "train loss:0.013774679294155259\n",
            "train loss:0.03421340841984782\n",
            "train loss:0.010059963387973037\n",
            "train loss:0.0349204602310425\n",
            "train loss:0.02880925586644995\n",
            "train loss:0.016095294948510495\n",
            "=============== Final Test Accuracy ===============\n",
            "test acc:0.968\n",
            "Saved Network Parameters!\n"
          ],
          "name": "stdout"
        },
        {
          "output_type": "display_data",
          "data": {
            "image/png": "[encoded data removed]",
            "text/plain": [
              "<matplotlib.figure.Figure at 0x7fa29344aa20>"
            ]
          },
          "metadata": {
            "tags": []
          }
        }
      ]
    },
    {
      "metadata": {
        "id": "6YxVYUG3Vz93",
        "colab_type": "code",
        "colab": {}
      },
      "cell_type": "code",
      "source": [
        "import pickle\n",
        "\n",
        "class SimpleConvNet:\n",
        "  def __init__(self, input_dim=(1, 28, 28),\n",
        "               conv_param={'filter_num':30, 'filter_size':5, 'pad':0, 'stride':1},\n",
        "              hidden_size=100, output_size=10, weight_init_std=0.01):\n",
        "    filter_num  = conv_param['filter_num']\n",
        "    filter_size = conv_param['filter_size']\n",
        "    filter_pad  = conv_param['pad']\n",
        "    filter_stride = conv_param['stride']\n",
        "    input_size = input_dim[1]\n",
        "    conv_output_size = (input_size - filter_size + 2*filter_pad) / filter_stride +1\n",
        "    pool_output_size = int(filter_num * (conv_output_size/2) * (conv_output_size/2))\n",
        "    \n",
        "    self.params = {}\n",
        "    self.params['W1'] = weight_init_std * np.random.randn(filter_num, input_dim[0], filter_size, filter_size)\n",
        "    self.params['b1'] = np.zeros(filter_num)\n",
        "    self.params['W2'] = weight_init_std * np.random.randn(pool_output_size, hidden_size)\n",
        "    self.params['b2'] = np.zeros(hidden_size)\n",
        "    self.params['W3'] = weight_init_std * np.random.randn(hidden_size, output_size)\n",
        "    self.params['b3'] = np.zeros(output_size)\n",
        "    \n",
        "    self.layers = OrderedDict()\n",
        "    self.layers['Conv1'] = Convolution(self.params['W1'], self.params['b1'], conv_param['stride'], conv_param['pad'])\n",
        "    self.layers['Relu1'] = Relu()\n",
        "    self.layers['Pool1'] = Pooling(pool_h=2, pool_w=2, stride=2)\n",
        "    self.layers['Affine1'] = Affine(self.params['W2'], self.params['b2'])\n",
        "    self.layers['Relu2'] = Relu()\n",
        "    self.layers['Affine2'] = Affine(self.params['W3'], self.params['b3'])\n",
        "    \n",
        "    self.last_layer = SoftmaxWithLoss()\n",
        "    \n",
        "  def predict(self, x):\n",
        "    for layer in self.layers.values():\n",
        "      x = layer.forward(x)\n",
        "      \n",
        "    return x\n",
        "  \n",
        "  def loss(self, x, t):\n",
        "    y = self.predict(x)\n",
        "    return self.last_layer.forward(y, t)\n",
        "  \n",
        "  def accuracy(self, x, t, batch_size=100):\n",
        "    if t.ndim != 1 : t = np.argmax(t, axis=1)\n",
        "    \n",
        "    acc = 0.0\n",
        "    \n",
        "    for i in range(int(x.shape[0] / batch_size)):\n",
        "      tx = x[i*batch_size:(i+1)*batch_size]\n",
        "      tt = t[i*batch_size:(i+1)*batch_size]\n",
        "      y = self.predict(tx)\n",
        "      y = np.argmax(y, axis=1)\n",
        "      acc += np.sum(y == tt)\n",
        "      \n",
        "    return acc / x.shape[0]\n",
        "  \n",
        "  def numerical_gradient(self, x, t):\n",
        "    loss_w = lambda w : self.loss(x, t)\n",
        "    \n",
        "    grads = {}\n",
        "    for idx in (1, 2, 3):\n",
        "      grads['W'+str(idx)] = numerical_gradient(loss_w, self.params['W'+str(idx)])\n",
        "      grads['b'+str(idx)] = numerical_gradient(loss_w, self.params['b'+str(idx)])\n",
        "    \n",
        "    return grads\n",
        "  \n",
        "  def gradient(self, x, t):\n",
        "    self.loss(x, t)\n",
        "    \n",
        "    dout = 1\n",
        "    dout = self.last_layer.backward(dout)\n",
        "    \n",
        "    layers = list(self.layers.values())\n",
        "    layers.reverse()\n",
        "    for layer in layers:\n",
        "      dout  = layer.backward(dout)\n",
        "    \n",
        "    grads = {}\n",
        "    grads['W1'], grads['b1'] = self.layers['Conv1'].dW, self.layers['Conv1'].db\n",
        "    grads['W2'], grads['b2'] = self.layers['Affine1'].dW, self.layers['Affine1'].db\n",
        "    grads['W3'], grads['b3'] = self.layers['Affine2'].dW, self.layers['Affine2'].db\n",
        "    \n",
        "    return grads\n",
        "  \n",
        "  def save_params(self, file_name=\"params.pkl\"):\n",
        "    params = {}\n",
        "    for key, val in self.params.items():\n",
        "      params[key] = val\n",
        "    with open(file_name, 'wb') as f:\n",
        "      pickle.dump(params, f)\n",
        "    \n",
        "  def load_params(self, file_name=\"params.pkl\"):\n",
        "    with open(file_name, 'rb') as f:\n",
        "      params = pickle.load(f)\n",
        "    for key, val in params.items():\n",
        "      self.params[key] = val\n",
        "      \n",
        "    for i, key in enumerate(['Conv1', 'Affine1', 'Affine2']):\n",
        "      self.layers[key].W = self.params['W'+str(i+1)]\n",
        "      self.layers[key].b = self.params['b'+str(i+1)]"
      ],
      "execution_count": 0,
      "outputs": []
    },
    {
      "metadata": {
        "id": "RPMHWHFuW6Oq",
        "colab_type": "code",
        "colab": {
          "base_uri": "https://localhost:8080/",
          "height": 783
        },
        "outputId": "a31aa836-96d8-48bb-9ef3-1b8021fa1e90"
      },
      "cell_type": "code",
      "source": [
        "import matplotlib.pyplot as plt\n",
        "\n",
        "def filter_show(filters, nx=8, margin=3, scale=10):\n",
        "    \"\"\"\n",
        "    c.f. https://gist.github.com/aidiary/07d530d5e08011832b12#file-draw_weight-py\n",
        "    \"\"\"\n",
        "    FN, C, FH, FW = filters.shape\n",
        "    ny = int(np.ceil(FN / nx))\n",
        "\n",
        "    fig = plt.figure()\n",
        "    fig.subplots_adjust(left=0, right=1, bottom=0, top=1, hspace=0.05, wspace=0.05)\n",
        "\n",
        "    for i in range(FN):\n",
        "        ax = fig.add_subplot(ny, nx, i+1, xticks=[], yticks=[])\n",
        "        ax.imshow(filters[i, 0], cmap=plt.cm.gray_r, interpolation='nearest')\n",
        "    plt.show()\n",
        "\n",
        "\n",
        "network = SimpleConvNet()\n",
        "# ランダム初期化後の重み\n",
        "filter_show(network.params['W1'])\n",
        "\n",
        "# 学習後の重み\n",
        "network.load_params(\"params.pkl\")\n",
        "filter_show(network.params['W1'])"
      ],
      "execution_count": 328,
      "outputs": [
        {
          "output_type": "display_data",
          "data": {
            "image/png": "[encoded data removed]",
            "text/plain": [
              "<matplotlib.figure.Figure at 0x7fa2932e36a0>"
            ]
          },
          "metadata": {
            "tags": []
          }
        },
        {
          "output_type": "display_data",
          "data": {
            "image/png": "[encoded data removed]",
            "text/plain": [
              "<matplotlib.figure.Figure at 0x7fa2933b6a90>"
            ]
          },
          "metadata": {
            "tags": []
          }
        }
      ]
    },
    {
      "metadata": {
        "id": "TBjC86cDX6d3",
        "colab_type": "code",
        "colab": {}
      },
      "cell_type": "code",
      "source": [
        ""
      ],
      "execution_count": 0,
      "outputs": []
    }
  ]
}